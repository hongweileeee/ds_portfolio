{
 "cells": [
  {
   "cell_type": "code",
   "execution_count": 70,
   "metadata": {},
   "outputs": [],
   "source": [
    "import mediapipe as mp\n",
    "import cv2\n",
    "import os\n",
    "import numpy as np\n",
    "import pandas as pd\n",
    "from tensorflow.keras.models import load_model\n",
    "import pickle"
   ]
  },
  {
   "cell_type": "code",
   "execution_count": 43,
   "metadata": {},
   "outputs": [],
   "source": [
    "model = load_model('../models/cnn_lstm_model.h5')"
   ]
  },
  {
   "cell_type": "code",
   "execution_count": 44,
   "metadata": {},
   "outputs": [
    {
     "name": "stderr",
     "output_type": "stream",
     "text": [
      "I0000 00:00:1715442663.877372       1 gl_context.cc:344] GL version: 2.1 (2.1 Metal - 88), renderer: Apple M2\n"
     ]
    }
   ],
   "source": [
    "# STEP 1: Define pose estimation model and functions\n",
    "mp_pose = mp.solutions.pose\n",
    "pose = mp_pose.Pose(min_detection_confidence=0.7, min_tracking_confidence=0.7)\n",
    "mp_drawing = mp.solutions.drawing_utils"
   ]
  },
  {
   "cell_type": "code",
   "execution_count": 45,
   "metadata": {},
   "outputs": [],
   "source": [
    "def mediapipe_detection(image, model):\n",
    "    image = cv2.cvtColor(image, cv2.COLOR_BGR2RGB)\n",
    "    image.flags.writeable = False\n",
    "    results = model.process(image)\n",
    "    image.flags.writeable = True\n",
    "    image = cv2.cvtColor(image, cv2.COLOR_RGB2BGR)\n",
    "    return image, results"
   ]
  },
  {
   "cell_type": "code",
   "execution_count": 46,
   "metadata": {},
   "outputs": [],
   "source": [
    "def draw_landmarks(image, results):\n",
    "    mp_drawing.draw_landmarks(image, results.pose_landmarks, mp_pose.POSE_CONNECTIONS)"
   ]
  },
  {
   "cell_type": "code",
   "execution_count": 47,
   "metadata": {},
   "outputs": [],
   "source": [
    "def duplicate_frames(df, max_frames):\n",
    "    num_dup = max_frames - len(df)\n",
    "\n",
    "    if num_dup > 0 and num_dup < len(df):\n",
    "        # Duplicate frames up to the required number of duplicates\n",
    "        dup_frames = df.loc[:num_dup - 1].copy()\n",
    "        df = pd.concat([df, dup_frames], ignore_index=True)\n",
    "    elif num_dup > len(df):\n",
    "        # Calculate the number of times to duplicate based on the original DataFrame length\n",
    "        num_duplicates = (max_frames // len(df)) - 1\n",
    "        orig_df_len = len(df)  # Store the original DataFrame length\n",
    "        remainder = max_frames % len(df)  # Calculate the remainder\n",
    "        for _ in range(num_duplicates):\n",
    "            df = pd.concat([df, df[:orig_df_len]], ignore_index=True)  # Duplicate original rows\n",
    "\n",
    "        # Add the remaining rows from the original DataFrame to fill up to max_frames\n",
    "        df = pd.concat([df, df[:remainder]], ignore_index=True)\n",
    "\n",
    "    return df"
   ]
  },
  {
   "cell_type": "code",
   "execution_count": 48,
   "metadata": {},
   "outputs": [],
   "source": [
    "def calculate_angle(df, a, b, c):\n",
    "    a_x = a + '_x'\n",
    "    a_y = a + '_y'\n",
    "    b_x = b + '_x'\n",
    "    b_y = b + '_y'\n",
    "    c_x = c + '_x'\n",
    "    c_y = c + '_y'\n",
    "\n",
    "    radians = np.arctan2(df[c_y].values - df[b_y].values, df[c_x].values - df[b_x].values) - \\\n",
    "              np.arctan2(df[a_y].values - df[b_y].values, df[a_x].values - df[b_x].values)\n",
    "    angles = np.abs(radians * 180.0 / np.pi)\n",
    "\n",
    "    # Adjust angles greater than 180 degrees\n",
    "    angles = np.where(angles > 180.0, 360 - angles, angles)\n",
    "\n",
    "    return angles"
   ]
  },
  {
   "cell_type": "code",
   "execution_count": 49,
   "metadata": {},
   "outputs": [],
   "source": [
    "def calculate_shank_angle(df, ankle, knee):\n",
    "    \"\"\"\n",
    "    Calculate the angle between the shank (knee to ankle) and the horizontal line.\n",
    "\n",
    "    Args:\n",
    "        df: DataFrame containing the relevant columns.\n",
    "        ankle: Name of the ankle column.\n",
    "        knee: Name of the knee column.\n",
    "\n",
    "    Returns:\n",
    "        The angle in degrees between the shank and the horizontal line.\n",
    "    \"\"\"\n",
    "    ankle_x = ankle + '_x'\n",
    "    ankle_y = ankle + '_y'\n",
    "    knee_x = knee + '_x'\n",
    "    knee_y = knee + '_y'\n",
    "\n",
    "    angle_rad = np.arctan2(df[knee_y] - df[ankle_y], df[knee_x] - df[ankle_x])\n",
    "    angle_deg = np.degrees(angle_rad) + 90\n",
    "    return angle_deg"
   ]
  },
  {
   "cell_type": "code",
   "execution_count": 50,
   "metadata": {},
   "outputs": [],
   "source": [
    "def calculate_lean_angle(df, a, b):\n",
    "    a_x = a + '_x'\n",
    "    a_y = a + '_y'\n",
    "    b_x = b + '_x'\n",
    "    b_y = b + '_y'\n",
    "\n",
    "    radians = np.arctan2(0 - df[b_y].values, df[b_x].values - df[b_x].values) - \\\n",
    "              np.arctan2(df[a_y].values - df[b_y].values, df[a_x].values - df[b_x].values)\n",
    "    angles = np.abs(radians * 180.0 / np.pi)\n",
    "\n",
    "    # Adjust angles greater than 180 degrees\n",
    "    angles = np.where(angles > 180.0, 360 - angles, angles)\n",
    "\n",
    "    return angles"
   ]
  },
  {
   "cell_type": "code",
   "execution_count": 51,
   "metadata": {},
   "outputs": [
    {
     "name": "stdout",
     "output_type": "stream",
     "text": [
      "['left_shoulder_x', 'left_shoulder_y', 'left_shoulder_z', 'left_shoulder_vis', 'right_shoulder_x', 'right_shoulder_y', 'right_shoulder_z', 'right_shoulder_vis', 'left_elbow_x', 'left_elbow_y', 'left_elbow_z', 'left_elbow_vis', 'right_elbow_x', 'right_elbow_y', 'right_elbow_z', 'right_elbow_vis', 'left_wrist_x', 'left_wrist_y', 'left_wrist_z', 'left_wrist_vis', 'right_wrist_x', 'right_wrist_y', 'right_wrist_z', 'right_wrist_vis', 'left_pinky_x', 'left_pinky_y', 'left_pinky_z', 'left_pinky_vis', 'right_pinky_x', 'right_pinky_y', 'right_pinky_z', 'right_pinky_vis', 'left_index_x', 'left_index_y', 'left_index_z', 'left_index_vis', 'right_index_x', 'right_index_y', 'right_index_z', 'right_index_vis', 'left_thumb_x', 'left_thumb_y', 'left_thumb_z', 'left_thumb_vis', 'right_thumb_x', 'right_thumb_y', 'right_thumb_z', 'right_thumb_vis', 'left_hip_x', 'left_hip_y', 'left_hip_z', 'left_hip_vis', 'right_hip_x', 'right_hip_y', 'right_hip_z', 'right_hip_vis', 'left_knee_x', 'left_knee_y', 'left_knee_z', 'left_knee_vis', 'right_knee_x', 'right_knee_y', 'right_knee_z', 'right_knee_vis', 'left_ankle_x', 'left_ankle_y', 'left_ankle_z', 'left_ankle_vis', 'right_ankle_x', 'right_ankle_y', 'right_ankle_z', 'right_ankle_vis', 'left_heel_x', 'left_heel_y', 'left_heel_z', 'left_heel_vis', 'right_heel_x', 'right_heel_y', 'right_heel_z', 'right_heel_vis', 'left_foot_index_x', 'left_foot_index_y', 'left_foot_index_z', 'left_foot_index_vis', 'right_foot_index_x', 'right_foot_index_y', 'right_foot_index_z', 'right_foot_index_vis']\n"
     ]
    }
   ],
   "source": [
    "column_names = ['left_shoulder_x', 'left_shoulder_y', 'left_shoulder_z', 'left_shoulder_vis', 'right_shoulder_x', 'right_shoulder_y', 'right_shoulder_z', 'right_shoulder_vis', 'left_elbow_x', 'left_elbow_y', 'left_elbow_z', 'left_elbow_vis', 'right_elbow_x', 'right_elbow_y', 'right_elbow_z', 'right_elbow_vis', 'left_wrist_x', 'left_wrist_y', 'left_wrist_z', 'left_wrist_vis', 'right_wrist_x', 'right_wrist_y', 'right_wrist_z', 'right_wrist_vis', 'left_pinky_x', 'left_pinky_y', 'left_pinky_z', 'left_pinky_vis', 'right_pinky_x', 'right_pinky_y', 'right_pinky_z', 'right_pinky_vis', 'left_index_x', 'left_index_y', 'left_index_z', 'left_index_vis', 'right_index_x', 'right_index_y', 'right_index_z', 'right_index_vis', 'left_thumb_x', 'left_thumb_y', 'left_thumb_z', 'left_thumb_vis', 'right_thumb_x', 'right_thumb_y', 'right_thumb_z', 'right_thumb_vis', 'left_hip_x', 'left_hip_y', 'left_hip_z', 'left_hip_vis', 'right_hip_x', 'right_hip_y', 'right_hip_z', 'right_hip_vis', 'left_knee_x', 'left_knee_y', 'left_knee_z', 'left_knee_vis', 'right_knee_x', 'right_knee_y', 'right_knee_z', 'right_knee_vis', 'left_ankle_x', 'left_ankle_y', 'left_ankle_z', 'left_ankle_vis', 'right_ankle_x', 'right_ankle_y', 'right_ankle_z', 'right_ankle_vis', 'left_heel_x', 'left_heel_y', 'left_heel_z', 'left_heel_vis', 'right_heel_x', 'right_heel_y', 'right_heel_z', 'right_heel_vis', 'left_foot_index_x', 'left_foot_index_y', 'left_foot_index_z', 'left_foot_index_vis', 'right_foot_index_x', 'right_foot_index_y', 'right_foot_index_z', 'right_foot_index_vis']\n",
    "print(column_names)"
   ]
  },
  {
   "cell_type": "code",
   "execution_count": 52,
   "metadata": {},
   "outputs": [],
   "source": [
    "# Create an opencv object from our video\n",
    "cap = cv2.VideoCapture('test.mp4')\n",
    "\n",
    "# Get the total number of frames in the video\n",
    "total_frames = int(cap.get(cv2.CAP_PROP_FRAME_COUNT))\n",
    "\n",
    "# Create features list\n",
    "features = []\n",
    "\n",
    "# Set mediapipe model\n",
    "while cap.isOpened():\n",
    "    # Read feed\n",
    "    ret, frame = cap.read()\n",
    "    # Once feed is at its last frame, there will be no ret value, break loop and move to next video\n",
    "    if not ret:\n",
    "        break\n",
    "\n",
    "    # Make detections using previously defined function to detect keypoints\n",
    "    image, results = mediapipe_detection(frame, pose)\n",
    "\n",
    "    # Export Keypoints\n",
    "    keypoints = results.pose_landmarks.landmark # Extract keypoints from the results object\n",
    "\n",
    "    # Remove facial landmarks\n",
    "    keypoints_noface = keypoints[11:]\n",
    "    \n",
    "    # flatten landmarks_noface for each frame\n",
    "    for keypoint in keypoints_noface:\n",
    "        # Create a list of features using the extracted coordinates for each frame\n",
    "        feature_list = [value for keypoint in keypoints_noface for value in [keypoint.x, keypoint.y, keypoint.z, keypoint.visibility]]\n",
    "    \n",
    "    # Append each frame's list of coordinates into the empty features list\n",
    "    features.append(feature_list)\n",
    "\n",
    "# Create a dataframe with the features list\n",
    "df = pd.DataFrame(features, columns=column_names)\n",
    "\n",
    "# Duplicate frames to match the required dataframe shape\n",
    "df_dup = duplicate_frames(df, 258)\n",
    "\n",
    "    \n",
    "#     # # Save landmark of each frame as a list\n",
    "#     # features.append(landmarks)\n",
    "\n",
    "#     # # Save numpy in new folder\n",
    "#     # timestep+=1# Save the keypoints data in a numpy array onto the path defined\n",
    "    \n",
    "#     # # Show to screen with defined function to draw points and lines\n",
    "#     # draw_landmarks(image, results)\n",
    "#     # cv2.imshow('OpenCV Feed', image)\n",
    "\n",
    "#     # Break loop if 'q' is pressed\n",
    "#     if cv2.waitKey(10) & 0xFF == ord('q'):\n",
    "#         break\n",
    "\n",
    "# # Release video capture and destroy OpenCV windows\n",
    "# cap.release()\n",
    "# if cv2.getWindowProperty('OpenCV Feed', cv2.WND_PROP_VISIBLE) >= 1:\n",
    "#     cv2.destroyAllWindows()\n",
    "# cv2.waitKey(1)  # Added this\n",
    "# cap.release"
   ]
  },
  {
   "cell_type": "code",
   "execution_count": 69,
   "metadata": {},
   "outputs": [
    {
     "data": {
      "text/html": [
       "<div>\n",
       "<style scoped>\n",
       "    .dataframe tbody tr th:only-of-type {\n",
       "        vertical-align: middle;\n",
       "    }\n",
       "\n",
       "    .dataframe tbody tr th {\n",
       "        vertical-align: top;\n",
       "    }\n",
       "\n",
       "    .dataframe thead th {\n",
       "        text-align: right;\n",
       "    }\n",
       "</style>\n",
       "<table border=\"1\" class=\"dataframe\">\n",
       "  <thead>\n",
       "    <tr style=\"text-align: right;\">\n",
       "      <th></th>\n",
       "      <th>left_shoulder_x</th>\n",
       "      <th>left_shoulder_y</th>\n",
       "      <th>left_shoulder_z</th>\n",
       "      <th>left_shoulder_vis</th>\n",
       "      <th>right_shoulder_x</th>\n",
       "      <th>right_shoulder_y</th>\n",
       "      <th>right_shoulder_z</th>\n",
       "      <th>right_shoulder_vis</th>\n",
       "      <th>left_elbow_x</th>\n",
       "      <th>left_elbow_y</th>\n",
       "      <th>...</th>\n",
       "      <th>right_knee_angle</th>\n",
       "      <th>left_knee_angle</th>\n",
       "      <th>left_shank_angle</th>\n",
       "      <th>right_shank_angle</th>\n",
       "      <th>left_ankle_change</th>\n",
       "      <th>right_ankle_change</th>\n",
       "      <th>left_ankle_hip_distance</th>\n",
       "      <th>right_ankle_hip_distance</th>\n",
       "      <th>left_lean_angle</th>\n",
       "      <th>right_lean_angle</th>\n",
       "    </tr>\n",
       "  </thead>\n",
       "  <tbody>\n",
       "    <tr>\n",
       "      <th>0</th>\n",
       "      <td>0.534510</td>\n",
       "      <td>0.446887</td>\n",
       "      <td>-0.429476</td>\n",
       "      <td>1.000000</td>\n",
       "      <td>0.492759</td>\n",
       "      <td>0.453778</td>\n",
       "      <td>0.248402</td>\n",
       "      <td>0.999686</td>\n",
       "      <td>0.655496</td>\n",
       "      <td>0.507027</td>\n",
       "      <td>...</td>\n",
       "      <td>123.363131</td>\n",
       "      <td>154.164353</td>\n",
       "      <td>7.045282</td>\n",
       "      <td>-69.641411</td>\n",
       "      <td>0.003862</td>\n",
       "      <td>-0.005471</td>\n",
       "      <td>0.252633</td>\n",
       "      <td>0.268873</td>\n",
       "      <td>10.304059</td>\n",
       "      <td>0.023489</td>\n",
       "    </tr>\n",
       "    <tr>\n",
       "      <th>1</th>\n",
       "      <td>0.534547</td>\n",
       "      <td>0.450484</td>\n",
       "      <td>-0.436400</td>\n",
       "      <td>1.000000</td>\n",
       "      <td>0.492668</td>\n",
       "      <td>0.455598</td>\n",
       "      <td>0.248885</td>\n",
       "      <td>0.999679</td>\n",
       "      <td>0.647803</td>\n",
       "      <td>0.518851</td>\n",
       "      <td>...</td>\n",
       "      <td>105.949361</td>\n",
       "      <td>147.178645</td>\n",
       "      <td>-2.156940</td>\n",
       "      <td>-73.479725</td>\n",
       "      <td>0.002093</td>\n",
       "      <td>-0.004736</td>\n",
       "      <td>0.245270</td>\n",
       "      <td>0.255510</td>\n",
       "      <td>10.327064</td>\n",
       "      <td>0.592572</td>\n",
       "    </tr>\n",
       "    <tr>\n",
       "      <th>2</th>\n",
       "      <td>0.527605</td>\n",
       "      <td>0.459486</td>\n",
       "      <td>-0.524648</td>\n",
       "      <td>1.000000</td>\n",
       "      <td>0.492851</td>\n",
       "      <td>0.461270</td>\n",
       "      <td>0.179419</td>\n",
       "      <td>0.999630</td>\n",
       "      <td>0.626247</td>\n",
       "      <td>0.537474</td>\n",
       "      <td>...</td>\n",
       "      <td>95.630032</td>\n",
       "      <td>133.838887</td>\n",
       "      <td>-15.548759</td>\n",
       "      <td>-75.033486</td>\n",
       "      <td>-0.001234</td>\n",
       "      <td>-0.003009</td>\n",
       "      <td>0.229546</td>\n",
       "      <td>0.228749</td>\n",
       "      <td>7.842514</td>\n",
       "      <td>1.461519</td>\n",
       "    </tr>\n",
       "    <tr>\n",
       "      <th>3</th>\n",
       "      <td>0.521322</td>\n",
       "      <td>0.467924</td>\n",
       "      <td>-0.585742</td>\n",
       "      <td>1.000000</td>\n",
       "      <td>0.484806</td>\n",
       "      <td>0.466932</td>\n",
       "      <td>0.145372</td>\n",
       "      <td>0.999639</td>\n",
       "      <td>0.599499</td>\n",
       "      <td>0.549772</td>\n",
       "      <td>...</td>\n",
       "      <td>83.442911</td>\n",
       "      <td>114.381250</td>\n",
       "      <td>-33.393563</td>\n",
       "      <td>-74.677457</td>\n",
       "      <td>-0.001585</td>\n",
       "      <td>-0.001398</td>\n",
       "      <td>0.219003</td>\n",
       "      <td>0.200489</td>\n",
       "      <td>4.356775</td>\n",
       "      <td>0.951518</td>\n",
       "    </tr>\n",
       "    <tr>\n",
       "      <th>4</th>\n",
       "      <td>0.517395</td>\n",
       "      <td>0.467651</td>\n",
       "      <td>-0.556952</td>\n",
       "      <td>0.999999</td>\n",
       "      <td>0.484626</td>\n",
       "      <td>0.470058</td>\n",
       "      <td>0.172725</td>\n",
       "      <td>0.999508</td>\n",
       "      <td>0.567996</td>\n",
       "      <td>0.556933</td>\n",
       "      <td>...</td>\n",
       "      <td>64.119825</td>\n",
       "      <td>108.943128</td>\n",
       "      <td>-41.841483</td>\n",
       "      <td>-76.112785</td>\n",
       "      <td>-0.000201</td>\n",
       "      <td>0.002694</td>\n",
       "      <td>0.216548</td>\n",
       "      <td>0.176047</td>\n",
       "      <td>0.506180</td>\n",
       "      <td>1.032170</td>\n",
       "    </tr>\n",
       "  </tbody>\n",
       "</table>\n",
       "<p>5 rows × 98 columns</p>\n",
       "</div>"
      ],
      "text/plain": [
       "   left_shoulder_x  left_shoulder_y  left_shoulder_z  left_shoulder_vis  \\\n",
       "0         0.534510         0.446887        -0.429476           1.000000   \n",
       "1         0.534547         0.450484        -0.436400           1.000000   \n",
       "2         0.527605         0.459486        -0.524648           1.000000   \n",
       "3         0.521322         0.467924        -0.585742           1.000000   \n",
       "4         0.517395         0.467651        -0.556952           0.999999   \n",
       "\n",
       "   right_shoulder_x  right_shoulder_y  right_shoulder_z  right_shoulder_vis  \\\n",
       "0          0.492759          0.453778          0.248402            0.999686   \n",
       "1          0.492668          0.455598          0.248885            0.999679   \n",
       "2          0.492851          0.461270          0.179419            0.999630   \n",
       "3          0.484806          0.466932          0.145372            0.999639   \n",
       "4          0.484626          0.470058          0.172725            0.999508   \n",
       "\n",
       "   left_elbow_x  left_elbow_y  ...  right_knee_angle  left_knee_angle  \\\n",
       "0      0.655496      0.507027  ...        123.363131       154.164353   \n",
       "1      0.647803      0.518851  ...        105.949361       147.178645   \n",
       "2      0.626247      0.537474  ...         95.630032       133.838887   \n",
       "3      0.599499      0.549772  ...         83.442911       114.381250   \n",
       "4      0.567996      0.556933  ...         64.119825       108.943128   \n",
       "\n",
       "   left_shank_angle  right_shank_angle  left_ankle_change  right_ankle_change  \\\n",
       "0          7.045282         -69.641411           0.003862           -0.005471   \n",
       "1         -2.156940         -73.479725           0.002093           -0.004736   \n",
       "2        -15.548759         -75.033486          -0.001234           -0.003009   \n",
       "3        -33.393563         -74.677457          -0.001585           -0.001398   \n",
       "4        -41.841483         -76.112785          -0.000201            0.002694   \n",
       "\n",
       "   left_ankle_hip_distance  right_ankle_hip_distance  left_lean_angle  \\\n",
       "0                 0.252633                  0.268873        10.304059   \n",
       "1                 0.245270                  0.255510        10.327064   \n",
       "2                 0.229546                  0.228749         7.842514   \n",
       "3                 0.219003                  0.200489         4.356775   \n",
       "4                 0.216548                  0.176047         0.506180   \n",
       "\n",
       "   right_lean_angle  \n",
       "0          0.023489  \n",
       "1          0.592572  \n",
       "2          1.461519  \n",
       "3          0.951518  \n",
       "4          1.032170  \n",
       "\n",
       "[5 rows x 98 columns]"
      ]
     },
     "execution_count": 69,
     "metadata": {},
     "output_type": "execute_result"
    }
   ],
   "source": [
    "df_dup.head()"
   ]
  },
  {
   "cell_type": "code",
   "execution_count": 53,
   "metadata": {},
   "outputs": [],
   "source": [
    "# Add a new column 'right_knee_angle' using calculate_angle function\n",
    "df_dup['right_knee_angle'] = calculate_angle(df_dup, 'right_hip', 'right_knee', 'right_ankle')\n",
    "\n",
    "# Add a new column 'left_knee_angle' using calculate_angle function\n",
    "df_dup['left_knee_angle'] = calculate_angle(df_dup, 'left_hip', 'left_knee', 'left_ankle')"
   ]
  },
  {
   "cell_type": "code",
   "execution_count": 54,
   "metadata": {},
   "outputs": [],
   "source": [
    "df_dup['left_shank_angle'] = calculate_shank_angle(df_dup, 'left_ankle', 'left_knee')\n",
    "df_dup['right_shank_angle'] = calculate_shank_angle(df_dup, 'right_ankle', 'right_knee')"
   ]
  },
  {
   "cell_type": "code",
   "execution_count": 55,
   "metadata": {},
   "outputs": [],
   "source": [
    "df_dup['left_ankle_change'] = np.gradient(df_dup['left_ankle_y'])\n",
    "df_dup['right_ankle_change'] = np.gradient(df_dup['right_ankle_y'])"
   ]
  },
  {
   "cell_type": "code",
   "execution_count": 56,
   "metadata": {},
   "outputs": [],
   "source": [
    "# Calculate relative distance between left ankle and left hip\n",
    "df_dup['left_ankle_hip_distance'] = np.sqrt((df_dup['left_ankle_x'] - df_dup['left_hip_x']) ** 2 + \n",
    "                                      (df_dup['left_ankle_y'] - df_dup['left_hip_y']) ** 2)\n",
    "\n",
    "df_dup['right_ankle_hip_distance'] = np.sqrt((df_dup['right_ankle_x'] - df_dup['right_hip_x']) ** 2 + \n",
    "                                      (df_dup['right_ankle_y'] - df_dup['right_hip_y']) ** 2)"
   ]
  },
  {
   "cell_type": "code",
   "execution_count": 57,
   "metadata": {},
   "outputs": [],
   "source": [
    "df_dup['left_lean_angle'] = calculate_lean_angle(df_dup, 'left_shoulder', 'left_hip')\n",
    "df_dup['right_lean_angle'] = calculate_lean_angle(df_dup, 'right_shoulder', 'right_hip')"
   ]
  },
  {
   "cell_type": "code",
   "execution_count": 58,
   "metadata": {},
   "outputs": [
    {
     "data": {
      "text/plain": [
       "(258, 98)"
      ]
     },
     "execution_count": 58,
     "metadata": {},
     "output_type": "execute_result"
    }
   ],
   "source": [
    "df_dup.shape"
   ]
  },
  {
   "cell_type": "code",
   "execution_count": 59,
   "metadata": {},
   "outputs": [
    {
     "data": {
      "text/plain": [
       "Index(['left_shoulder_x', 'left_shoulder_y', 'left_shoulder_z',\n",
       "       'left_shoulder_vis', 'right_shoulder_x', 'right_shoulder_y',\n",
       "       'right_shoulder_z', 'right_shoulder_vis', 'left_elbow_x',\n",
       "       'left_elbow_y', 'left_elbow_z', 'left_elbow_vis', 'right_elbow_x',\n",
       "       'right_elbow_y', 'right_elbow_z', 'right_elbow_vis', 'left_wrist_x',\n",
       "       'left_wrist_y', 'left_wrist_z', 'left_wrist_vis', 'right_wrist_x',\n",
       "       'right_wrist_y', 'right_wrist_z', 'right_wrist_vis', 'left_pinky_x',\n",
       "       'left_pinky_y', 'left_pinky_z', 'left_pinky_vis', 'right_pinky_x',\n",
       "       'right_pinky_y', 'right_pinky_z', 'right_pinky_vis', 'left_index_x',\n",
       "       'left_index_y', 'left_index_z', 'left_index_vis', 'right_index_x',\n",
       "       'right_index_y', 'right_index_z', 'right_index_vis', 'left_thumb_x',\n",
       "       'left_thumb_y', 'left_thumb_z', 'left_thumb_vis', 'right_thumb_x',\n",
       "       'right_thumb_y', 'right_thumb_z', 'right_thumb_vis', 'left_hip_x',\n",
       "       'left_hip_y', 'left_hip_z', 'left_hip_vis', 'right_hip_x',\n",
       "       'right_hip_y', 'right_hip_z', 'right_hip_vis', 'left_knee_x',\n",
       "       'left_knee_y', 'left_knee_z', 'left_knee_vis', 'right_knee_x',\n",
       "       'right_knee_y', 'right_knee_z', 'right_knee_vis', 'left_ankle_x',\n",
       "       'left_ankle_y', 'left_ankle_z', 'left_ankle_vis', 'right_ankle_x',\n",
       "       'right_ankle_y', 'right_ankle_z', 'right_ankle_vis', 'left_heel_x',\n",
       "       'left_heel_y', 'left_heel_z', 'left_heel_vis', 'right_heel_x',\n",
       "       'right_heel_y', 'right_heel_z', 'right_heel_vis', 'left_foot_index_x',\n",
       "       'left_foot_index_y', 'left_foot_index_z', 'left_foot_index_vis',\n",
       "       'right_foot_index_x', 'right_foot_index_y', 'right_foot_index_z',\n",
       "       'right_foot_index_vis', 'right_knee_angle', 'left_knee_angle',\n",
       "       'left_shank_angle', 'right_shank_angle', 'left_ankle_change',\n",
       "       'right_ankle_change', 'left_ankle_hip_distance',\n",
       "       'right_ankle_hip_distance', 'left_lean_angle', 'right_lean_angle'],\n",
       "      dtype='object')"
      ]
     },
     "execution_count": 59,
     "metadata": {},
     "output_type": "execute_result"
    }
   ],
   "source": [
    "df_dup.columns"
   ]
  },
  {
   "cell_type": "code",
   "execution_count": 73,
   "metadata": {},
   "outputs": [],
   "source": [
    "with open('../models/scaler.pkl', 'rb') as f:\n",
    "    ss = pickle.load(f)"
   ]
  },
  {
   "cell_type": "code",
   "execution_count": 74,
   "metadata": {},
   "outputs": [],
   "source": [
    "X = ss.transform(df_dup)"
   ]
  },
  {
   "cell_type": "code",
   "execution_count": 76,
   "metadata": {},
   "outputs": [],
   "source": [
    "# Reshape data to have 1 sample, 258 frames and 98 features\n",
    "X_pred = np.expand_dims(X, axis=0)"
   ]
  },
  {
   "cell_type": "code",
   "execution_count": 77,
   "metadata": {},
   "outputs": [
    {
     "data": {
      "text/plain": [
       "(1, 258, 98)"
      ]
     },
     "execution_count": 77,
     "metadata": {},
     "output_type": "execute_result"
    }
   ],
   "source": [
    "X_pred.shape"
   ]
  },
  {
   "cell_type": "code",
   "execution_count": 78,
   "metadata": {},
   "outputs": [
    {
     "name": "stdout",
     "output_type": "stream",
     "text": [
      "1/1 [==============================] - 0s 21ms/step\n"
     ]
    }
   ],
   "source": [
    "predictions = model.predict(X_pred)"
   ]
  },
  {
   "cell_type": "code",
   "execution_count": 79,
   "metadata": {},
   "outputs": [],
   "source": [
    "# Get the max probability across all 258 frames within each video\n",
    "video_max_probabilities = np.max(predictions, axis = 1)"
   ]
  },
  {
   "cell_type": "code",
   "execution_count": 80,
   "metadata": {},
   "outputs": [
    {
     "data": {
      "text/plain": [
       "array([[0.99881095]], dtype=float32)"
      ]
     },
     "execution_count": 80,
     "metadata": {},
     "output_type": "execute_result"
    }
   ],
   "source": [
    "video_max_probabilities"
   ]
  },
  {
   "cell_type": "code",
   "execution_count": 81,
   "metadata": {},
   "outputs": [
    {
     "name": "stdout",
     "output_type": "stream",
     "text": [
      "Runner is overstriding\n"
     ]
    }
   ],
   "source": [
    "threshold = 0.7\n",
    "\n",
    "y_pred = (video_max_probabilities > threshold).astype(int) # Convert all labels to binary\n",
    "\n",
    "# Flatten y_pred into a 1D array\n",
    "y_pred_flat = np.array(y_pred).flatten()\n",
    "\n",
    "if y_pred_flat == 1:\n",
    "    print('Runner is overstriding')\n",
    "else:\n",
    "    print('Runner is not overstriding')"
   ]
  },
  {
   "cell_type": "code",
   "execution_count": 66,
   "metadata": {},
   "outputs": [],
   "source": [
    "max_left_ankle_y_frame = df_dup['left_ankle_y'].idxmax()"
   ]
  },
  {
   "cell_type": "code",
   "execution_count": 67,
   "metadata": {},
   "outputs": [
    {
     "data": {
      "text/plain": [
       "158"
      ]
     },
     "execution_count": 67,
     "metadata": {},
     "output_type": "execute_result"
    }
   ],
   "source": [
    "max_left_ankle_y_frame"
   ]
  },
  {
   "cell_type": "code",
   "execution_count": 68,
   "metadata": {},
   "outputs": [],
   "source": [
    "max_left_ankle_y_frame = np.argmax(df_dup['left_ankle_y'].values)"
   ]
  },
  {
   "cell_type": "code",
   "execution_count": null,
   "metadata": {},
   "outputs": [],
   "source": [
    "import streamlit as st\n",
    "import mediapipe as mp\n",
    "import cv2\n",
    "import numpy as np\n",
    "import pandas as pd\n",
    "import tensorflow as tf\n",
    "from tensorflow.keras.models import load_model\n",
    "import tempfile\n",
    "import os\n",
    "\n",
    "tf.__version__ = \"2.13.0\"\n",
    "mp.__version__ = \"0.10.9\"\n",
    "\n",
    "def mediapipe_detection(image, model):\n",
    "    image = cv2.cvtColor(image, cv2.COLOR_BGR2RGB)\n",
    "    image.flags.writeable = False\n",
    "    results = model.process(image)\n",
    "    image.flags.writeable = True\n",
    "    image = cv2.cvtColor(image, cv2.COLOR_RGB2BGR)\n",
    "    return image, results\n",
    "\n",
    "def draw_landmarks(image, results):\n",
    "    mp_drawing.draw_landmarks(image, \n",
    "                              results.pose_landmarks, \n",
    "                              mp_pose.POSE_CONNECTIONS)\n",
    "\n",
    "def duplicate_frames_2(df, max_frames):\n",
    "    num_dup = max_frames - len(df)\n",
    "\n",
    "    if num_dup > 0:\n",
    "        # Duplicate frames up to the required number of duplicates\n",
    "        dup_frames = df.loc[:num_dup - 1].copy()\n",
    "        df = pd.concat([df, dup_frames], ignore_index=True)\n",
    "    elif num_dup < 0:\n",
    "        # Truncate DataFrame if it exceeds max_frames\n",
    "        df = df.iloc[:max_frames]\n",
    "\n",
    "    return df\n",
    "\n",
    "def calculate_angle(df, a, b, c):\n",
    "    a_x = a + '_x'\n",
    "    a_y = a + '_y'\n",
    "    b_x = b + '_x'\n",
    "    b_y = b + '_y'\n",
    "    c_x = c + '_x'\n",
    "    c_y = c + '_y'\n",
    "\n",
    "    radians = np.arctan2(df[c_y].values - df[b_y].values, df[c_x].values - df[b_x].values) - \\\n",
    "              np.arctan2(df[a_y].values - df[b_y].values, df[a_x].values - df[b_x].values)\n",
    "    angles = np.abs(radians * 180.0 / np.pi)\n",
    "    angles = np.where(angles > 180.0, 360 - angles, angles)\n",
    "    return angles\n",
    "\n",
    "def calculate_shank_angle(df, ankle, knee):\n",
    "    ankle_x = ankle + '_x'\n",
    "    ankle_y = ankle + '_y'\n",
    "    knee_x = knee + '_x'\n",
    "    knee_y = knee + '_y'\n",
    "\n",
    "    angle_rad = np.arctan2(df[knee_y] - df[ankle_y], df[knee_x] - df[ankle_x])\n",
    "    angle_deg = np.degrees(angle_rad) + 90\n",
    "\n",
    "    return angle_deg\n",
    "\n",
    "def calculate_lean_angle(df, a, b):\n",
    "    a_x = a + '_x'\n",
    "    a_y = a + '_y'\n",
    "    b_x = b + '_x'\n",
    "    b_y = b + '_y'\n",
    "\n",
    "    radians = np.arctan2(0 - df[b_y].values, df[b_x].values - df[b_x].values) - \\\n",
    "              np.arctan2(df[a_y].values - df[b_y].values, df[a_x].values - df[b_x].values)\n",
    "    angles = np.abs(radians * 180.0 / np.pi)\n",
    "    angles = np.where(angles > 180.0, 360 - angles, angles)\n",
    "    return angles\n",
    "\n",
    "# Load the pre-trained Keras model\n",
    "model = load_model('../models/cnn_lstm_model.h5')\n",
    "\n",
    "mp_pose = mp.solutions.pose\n",
    "pose = mp_pose.Pose(min_detection_confidence=0.7, min_tracking_confidence=0.7)\n",
    "mp_drawing = mp.solutions.drawing_utils # Draws the points and lines between points\n",
    "\n",
    "st.title(\"Runner Overstriding Detection\")\n",
    "\n",
    "uploaded_file = st.file_uploader(\"Upload a video\", type=[\"mp4\"])\n",
    "\n",
    "if uploaded_file is not None:\n",
    "    # Save the uploaded video to a temporary file\n",
    "    with tempfile.NamedTemporaryFile(delete=False) as tmp_file:\n",
    "        tmp_file.write(uploaded_file.read())\n",
    "        video_path = tmp_file.name\n",
    "\n",
    "    # Use VideoCapture to read frames directly from the uploaded video file\n",
    "    video_capture = cv2.VideoCapture(video_path)\n",
    "    if video_capture.isOpened():\n",
    "        ret, frame = video_capture.read()\n",
    "        if ret:\n",
    "            # Process the frame further and perform analysis\n",
    "            image, results = mediapipe_detection(frame, pose)\n",
    "            keypoints = results.pose_landmarks.landmark\n",
    "            keypoints_noface = keypoints[11:]\n",
    "            st.write(keypoints_noface)\n",
    "\n",
    "            features = []\n",
    "            for keypoint in keypoints_noface:\n",
    "                feature_list = [keypoint.x, keypoint.y, keypoint.z, keypoint.visibility]\n",
    "                features.append(feature_list)\n",
    "\n",
    "            column_names = ['left_shoulder_x', 'left_shoulder_y', 'left_shoulder_z', 'left_shoulder_vis', \n",
    "                            'right_shoulder_x', 'right_shoulder_y', 'right_shoulder_z', 'right_shoulder_vis', \n",
    "                            'left_elbow_x', 'left_elbow_y', 'left_elbow_z', 'left_elbow_vis', \n",
    "                            'right_elbow_x', 'right_elbow_y', 'right_elbow_z', 'right_elbow_vis', \n",
    "                            'left_wrist_x', 'left_wrist_y', 'left_wrist_z', 'left_wrist_vis', \n",
    "                            'right_wrist_x', 'right_wrist_y', 'right_wrist_z', 'right_wrist_vis', \n",
    "                            'left_pinky_x', 'left_pinky_y', 'left_pinky_z', 'left_pinky_vis', \n",
    "                            'right_pinky_x', 'right_pinky_y', 'right_pinky_z', 'right_pinky_vis', \n",
    "                            'left_index_x', 'left_index_y', 'left_index_z', 'left_index_vis', \n",
    "                            'right_index_x', 'right_index_y', 'right_index_z', 'right_index_vis', \n",
    "                            'left_thumb_x', 'left_thumb_y', 'left_thumb_z', 'left_thumb_vis', \n",
    "                            'right_thumb_x', 'right_thumb_y', 'right_thumb_z', 'right_thumb_vis', \n",
    "                            'left_hip_x', 'left_hip_y', 'left_hip_z', 'left_hip_vis', \n",
    "                            'right_hip_x', 'right_hip_y', 'right_hip_z', 'right_hip_vis', \n",
    "                            'left_knee_x', 'left_knee_y', 'left_knee_z', 'left_knee_vis', \n",
    "                            'right_knee_x', 'right_knee_y', 'right_knee_z', 'right_knee_vis', \n",
    "                            'left_ankle_x', 'left_ankle_y', 'left_ankle_z', 'left_ankle_vis', \n",
    "                            'right_ankle_x', 'right_ankle_y', 'right_ankle_z', 'right_ankle_vis', \n",
    "                            'left_heel_x', 'left_heel_y', 'left_heel_z', 'left_heel_vis', \n",
    "                            'right_heel_x', 'right_heel_y', 'right_heel_z', 'right_heel_vis', \n",
    "                            'left_foot_index_x', 'left_foot_index_y', 'left_foot_index_z', 'left_foot_index_vis',\n",
    "                             'right_foot_index_x', 'right_foot_index_y', 'right_foot_index_z', 'right_foot_index_vis']\n",
    "\n",
    "            df = pd.DataFrame(features, columns=column_names)\n",
    "\n",
    "            df_dup = duplicate_frames_2(df, 258)\n",
    "\n",
    "            df_dup['right_knee_angle'] = calculate_angle(df_dup, 'right_hip', 'right_knee', 'right_ankle')\n",
    "            df_dup['left_knee_angle'] = calculate_angle(df_dup, 'left_hip', 'left_knee', 'left_ankle')\n",
    "            df_dup['left_shank_angle'] = calculate_shank_angle(df_dup, 'left_ankle', 'left_knee')\n",
    "            df_dup['right_shank_angle'] = calculate_shank_angle(df_dup, 'right_ankle', 'right_knee')\n",
    "            df_dup['left_ankle_change'] = np.gradient(df_dup['left_ankle_y'])\n",
    "            df_dup['right_ankle_change'] = np.gradient(df_dup['right_ankle_y'])\n",
    "            df_dup['left_ankle_hip_distance'] = np.sqrt((df_dup['left_ankle_x'] - df_dup['left_hip_x']) ** 2 + \n",
    "                                      (df_dup['left_ankle_y'] - df_dup['left_hip_y']) ** 2)\n",
    "            df_dup['right_ankle_hip_distance'] = np.sqrt((df_dup['right_ankle_x'] - df_dup['right_hip_x']) ** 2 + \n",
    "                                      (df_dup['right_ankle_y'] - df_dup['right_hip_y']) ** 2)\n",
    "            df_dup['left_lean_angle'] = calculate_lean_angle(df_dup, 'left_shoulder', 'left_hip')\n",
    "            df_dup['right_lean_angle'] = calculate_lean_angle(df_dup, 'right_shoulder', 'right_hip')\n",
    "\n",
    "            # Reshape data for model input\n",
    "            X_pred = np.expand_dims(df_dup.values, axis=0)\n",
    "\n",
    "            # Make predictions with the model\n",
    "            predictions = model.predict(X_pred)\n",
    "            max_probabilities = np.max(predictions, axis=1)\n",
    "            threshold = 0.7\n",
    "            labels = (max_probabilities > threshold).astype(int)\n",
    "            flat_labels = np.array(labels).flatten()\n",
    "\n",
    "            if flat_labels == 1:\n",
    "                st.write('Runner is overstriding')\n",
    "            else:\n",
    "                st.write('Runner is not overstriding')\n",
    "\n",
    "            # Calculate frame indices based on conditions\n",
    "            max_left_ankle_y_frame = np.argmax(df_dup['left_ankle_y'].values)\n",
    "            # Debugging statements\n",
    "            st.write(f\"DataFrame Info:\")\n",
    "            st.write(df_dup.head())  # Check the first few rows of the DataFrame\n",
    "            st.write(f\"Left Ankle Y values:\")\n",
    "            st.write(df_dup['left_ankle_y'].values)  # Check the values of 'left_ankle_y' column\n",
    "            st.write(f\"Argmax Left Ankle Y:\")\n",
    "            st.write(np.argmax(df_dup['left_ankle_y'].values))  # Check the argmax value\n",
    "\n",
    "            # Display frames with pose skeleton based on conditions\n",
    "            video_capture.set(cv2.CAP_PROP_POS_FRAMES, max_left_ankle_y_frame)\n",
    "            ret, frame = video_capture.read()\n",
    "            if ret:\n",
    "                image, results = mediapipe_detection(frame, pose)\n",
    "                image_rgb = cv2.cvtColor(image, cv2.COLOR_BGR2RGB)\n",
    "                draw_landmarks(image_rgb, results)\n",
    "                st.image(image_rgb, channels=\"RGB\", caption=\"Frame with maximum left ankle y\")\n",
    "\n",
    "        else:\n",
    "            st.error(\"Failed to read the uploaded video frame.\")\n",
    "    else:\n",
    "        st.error(\"Failed to open the uploaded video file.\")\n",
    "else:\n",
    "    st.warning(\"Please upload an MP4 video.\")   "
   ]
  }
 ],
 "metadata": {
  "kernelspec": {
   "display_name": ".venv",
   "language": "python",
   "name": "python3"
  },
  "language_info": {
   "codemirror_mode": {
    "name": "ipython",
    "version": 3
   },
   "file_extension": ".py",
   "mimetype": "text/x-python",
   "name": "python",
   "nbconvert_exporter": "python",
   "pygments_lexer": "ipython3",
   "version": "3.8.10"
  }
 },
 "nbformat": 4,
 "nbformat_minor": 2
}
