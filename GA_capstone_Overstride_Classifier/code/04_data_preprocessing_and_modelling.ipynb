{
 "cells": [
  {
   "cell_type": "markdown",
   "metadata": {},
   "source": [
    "<img src=\"http://imgur.com/1ZcRyrc.png\" style=\"float: left; margin: 20px; height: 55px\">\n",
    "\n",
    "# Capstone Project - Zoom Ally: A Running Form Classifier (Overstriding)\n",
    "\n",
    "> Authors: Lee Hongwei\n",
    "---\n",
    "\n",
    "**Problem Statement:**\n",
    "Our challenge is to devise a solution that empowers individuals to **detect one of the most prevalent running form anomalies: overstriding.**\n",
    "\n",
    "There are a total of ___ notebooks for this project:  \n",
    " 1. `01_Data_Collection_Video_Dl.ipynb`   \n",
    " 2. `02_Data_Collection_Pose_Estimation.ipynb`   \n",
    " 3. `03_Data_Preprocessing_and_Modelling.ipynb`\n",
    " 4. `04_`\n",
    "\n",
    "---\n",
    "**This Notebook**\n",
    "- Ensure that all numpy arrays are of the same shape for modelling\n",
    "- Training classification models"
   ]
  },
  {
   "cell_type": "markdown",
   "metadata": {},
   "source": [
    "# 1. Install and Import Libraries"
   ]
  },
  {
   "cell_type": "code",
   "execution_count": 1,
   "metadata": {},
   "outputs": [],
   "source": [
    "import os\n",
    "import numpy as np\n",
    "import matplotlib.pyplot as plt\n",
    "import pandas as pd\n",
    "import random\n",
    "import pickle\n",
    "\n",
    "from sklearn.preprocessing import StandardScaler\n",
    "from sklearn.model_selection import train_test_split\n",
    "from sklearn.metrics import classification_report, confusion_matrix\n",
    "\n",
    "import tensorflow as tf\n",
    "from tensorflow.keras.utils import to_categorical\n",
    "from tensorflow.keras.models import Sequential\n",
    "from tensorflow.keras.layers import LSTM, Conv1D, Dense, Dropout\n",
    "from tensorflow.keras.optimizers import Adam\n",
    "from keras.layers import TimeDistributed\n",
    "from keras.models import load_model"
   ]
  },
  {
   "cell_type": "markdown",
   "metadata": {},
   "source": [
    "# 2. Data Processing"
   ]
  },
  {
   "cell_type": "markdown",
   "metadata": {},
   "source": [
    "## 2.1 Renaming .npy files chronologically"
   ]
  },
  {
   "cell_type": "markdown",
   "metadata": {},
   "source": [
    "Some frames were skipped during the data collection process due to processing issues. This could likely happen during a real use case thus some processing will be required to make sure that the extracted numpy arrays are organised before it is further processed.\n",
    "\n",
    "For e.g. if frame 5 was skipped by the pose estimation model, the numpy array for frame 5 would not be saved leading to a missing file."
   ]
  },
  {
   "cell_type": "code",
   "execution_count": 2,
   "metadata": {},
   "outputs": [],
   "source": [
    "# Define a function to rename npy files chronologically\n",
    "\n",
    "def rename_npy_files(data_directory):\n",
    "    # Loop through each folder in the directory\n",
    "    for folder_name in os.listdir(data_directory):\n",
    "        folder_path = os.path.join(data_directory, folder_name)\n",
    "        if os.path.isdir(folder_path):\n",
    "            # Get a list of .npy files in the folder\n",
    "            npy_files = [f for f in os.listdir(folder_path) if f.endswith('.npy')]\n",
    "\n",
    "            # Custom sorting function to sort numerically\n",
    "            def numerical_sort(file_name):\n",
    "                parts = file_name.split('.')\n",
    "                try:\n",
    "                    return int(parts[0]) if parts[0].isdigit() else file_name  # Check if the first part is a number\n",
    "                except ValueError:\n",
    "                    return file_name  # Return the file name as is if not a number\n",
    "\n",
    "            npy_files.sort(key=numerical_sort)  # Sort the .npy files numerically\n",
    "\n",
    "            # Generate new sorted names for the .npy files\n",
    "            new_names = [f\"{i}.npy\" for i in range(len(npy_files))]\n",
    "\n",
    "            # Rename the .npy files using the new sorted names\n",
    "            for old_name, new_name in zip(npy_files, new_names):\n",
    "                old_path = os.path.join(folder_path, old_name)\n",
    "                new_path = os.path.join(folder_path, new_name)\n",
    "                os.rename(old_path, new_path)\n",
    "\n",
    "            # Print folder name and number of .npy files renamed\n",
    "            print(f\"Renamed {len(npy_files)} .npy files in folder {folder_name}\")"
   ]
  },
  {
   "cell_type": "code",
   "execution_count": 3,
   "metadata": {},
   "outputs": [
    {
     "name": "stdout",
     "output_type": "stream",
     "text": [
      "Renamed 258 .npy files in folder F_Running_4_flipped\n",
      "Renamed 258 .npy files in folder M_Running_2_flipped\n",
      "Renamed 258 .npy files in folder M_Running_3_flipped\n",
      "Renamed 258 .npy files in folder F_Running_5_flipped\n",
      "Renamed 258 .npy files in folder M_Running_1_flipped\n",
      "Renamed 258 .npy files in folder F_Running_6\n",
      "Renamed 258 .npy files in folder F_Running_8\n",
      "Renamed 258 .npy files in folder M_Running_8_flipped\n",
      "Renamed 258 .npy files in folder F_Running_7_flipped\n",
      "Renamed 258 .npy files in folder F_Running_7\n",
      "Renamed 258 .npy files in folder M_Running_7\n",
      "Renamed 258 .npy files in folder F_Running_6_flipped\n",
      "Renamed 258 .npy files in folder M_Running_1\n",
      "Renamed 258 .npy files in folder M_Running_6\n",
      "Renamed 258 .npy files in folder M_Running_8\n",
      "Renamed 258 .npy files in folder M_Running_5_flipped\n",
      "Renamed 258 .npy files in folder F_Running_3_flipped\n",
      "Renamed 258 .npy files in folder F_Running_2_flipped\n",
      "Renamed 258 .npy files in folder M_Running_4_flipped\n",
      "Renamed 258 .npy files in folder F_Running_2\n",
      "Renamed 258 .npy files in folder F_Running_5\n",
      "Renamed 258 .npy files in folder F_Running_4\n",
      "Renamed 258 .npy files in folder F_Running_3\n",
      "Renamed 258 .npy files in folder M_Running_6_flipped\n",
      "Renamed 258 .npy files in folder F_Running_8_flipped\n",
      "Renamed 258 .npy files in folder M_Running_7_flipped\n",
      "Renamed 258 .npy files in folder M_Running_3\n",
      "Renamed 258 .npy files in folder M_Running_4\n",
      "Renamed 258 .npy files in folder M_Running_5\n",
      "Renamed 258 .npy files in folder M_Running_2\n"
     ]
    }
   ],
   "source": [
    "data_directory = '../datasets/no_overstride_npy'\n",
    "rename_npy_files(data_directory)"
   ]
  },
  {
   "cell_type": "code",
   "execution_count": 4,
   "metadata": {},
   "outputs": [
    {
     "name": "stdout",
     "output_type": "stream",
     "text": [
      "Renamed 258 .npy files in folder Overstride_9_flipped\n",
      "Renamed 258 .npy files in folder Overstride_10_flipped\n",
      "Renamed 258 .npy files in folder Overstride_8_flipped\n",
      "Renamed 258 .npy files in folder Overstride_11_flipped\n",
      "Renamed 258 .npy files in folder Overstride_13_flipped\n",
      "Renamed 258 .npy files in folder Overstride_14\n",
      "Renamed 258 .npy files in folder Overstride_13\n",
      "Renamed 258 .npy files in folder Overstride_3_flipped\n",
      "Renamed 258 .npy files in folder Overstride_12\n",
      "Renamed 258 .npy files in folder Overstride_15\n",
      "Renamed 258 .npy files in folder Overstride_5\n",
      "Renamed 258 .npy files in folder Overstride_2_flipped\n",
      "Renamed 258 .npy files in folder Overstride_2\n",
      "Renamed 258 .npy files in folder Overstride_12_flipped\n",
      "Renamed 258 .npy files in folder Overstride_3\n",
      "Renamed 258 .npy files in folder Overstride_4\n",
      "Renamed 258 .npy files in folder Overstride_17_flipped\n",
      "Renamed 258 .npy files in folder Overstride_7_flipped\n",
      "Renamed 258 .npy files in folder Overstride_6_flipped\n",
      "Renamed 258 .npy files in folder Overstride_16_flipped\n",
      "Renamed 258 .npy files in folder Overstride_4_flipped\n",
      "Renamed 258 .npy files in folder Overstride_10\n",
      "Renamed 258 .npy files in folder Overstride_17\n",
      "Renamed 258 .npy files in folder Overstride_16\n",
      "Renamed 258 .npy files in folder Overstride_11\n",
      "Renamed 258 .npy files in folder Overstride_14_flipped\n",
      "Renamed 258 .npy files in folder Overstride_6\n",
      "Renamed 258 .npy files in folder Overstride_15_flipped\n",
      "Renamed 258 .npy files in folder Overstride_8\n",
      "Renamed 258 .npy files in folder Overstride_9\n",
      "Renamed 258 .npy files in folder Overstride_7\n",
      "Renamed 258 .npy files in folder Overstride_5_flipped\n"
     ]
    }
   ],
   "source": [
    "data_directory = '../datasets/overstride_npy'\n",
    "rename_npy_files(data_directory)"
   ]
  },
  {
   "cell_type": "markdown",
   "metadata": {},
   "source": [
    "## 2.1 Data Duplication for Frame Uniformity"
   ]
  },
  {
   "cell_type": "markdown",
   "metadata": {},
   "source": [
    "Since each video has very different number of frames (min=57, max=366), I will need to make sure that the number of frames are uniform for the model to read. Below are the ways this can be done and a conclusion on why duplication is my chosen methodology:\n",
    "\n",
    "**Method 1**\n",
    "Zero-padding: \n",
    "- Fills in 'empty' frames with zeros such that the shape of each numpy array fits the longest video's numpy array. \n",
    "- For cyclical movements like running, where each frame contributes to understanding the overall stride pattern, zero-padding might not be ideal as it adds artificial data that doesn't reflect the movement dynamics.\n",
    "\n",
    "**Method 2**\n",
    "Data Duplication: \n",
    "- Duplicating frames can be useful for maintaining temporal continuity without introducing artificial data\n",
    "- In running analysis, duplicating frames can help in preserving the cyclical nature of the movement, ensuring that each phase of the stride cycle is adequately represented.\n",
    "\n",
    "**Method 3** \n",
    "Interpolating Frames: \n",
    "- Interpolation techniques can generate intermediate frames based on existing frames, maintaining the temporal structure while filling gaps.\n",
    "- This approach can be beneficial for capturing smooth transitions in running movements, especially when the frame rate is variable."
   ]
  },
  {
   "cell_type": "markdown",
   "metadata": {},
   "source": [
    "**CONCLUSION** <br> \n",
    "Ultimately, I've decided to go with Data Duplication, since the nature of a runners' movement is cyclical and it does not create artificial data.\n",
    "\n",
    "Interpolation could be an interesting way to pre-process the data, especially if some datapoints have been missed. This could be used to impute missing data instead of how we processed our data in the above section (essentially dropping missing frames). However through some research, we have found out that the methods of interpolation could create artificial data that is impossible for a body's form to be in, and requires heavier computation which will affect the eventual implementation's performance."
   ]
  },
  {
   "cell_type": "markdown",
   "metadata": {},
   "source": [
    "### 2.1.1 Checking files for no_overstride data"
   ]
  },
  {
   "cell_type": "code",
   "execution_count": 5,
   "metadata": {},
   "outputs": [],
   "source": [
    "# Define the path to your data directory\n",
    "DATA_PATH = '../datasets/no_overstride_npy'\n",
    "\n",
    "# Get a list of all folders (videos) in the data directory\n",
    "video_folders_g = [f for f in os.listdir(DATA_PATH) if os.path.isdir(os.path.join(DATA_PATH, f))]"
   ]
  },
  {
   "cell_type": "code",
   "execution_count": 6,
   "metadata": {},
   "outputs": [
    {
     "data": {
      "text/plain": [
       "['F_Running_4_flipped',\n",
       " 'M_Running_2_flipped',\n",
       " 'M_Running_3_flipped',\n",
       " 'F_Running_5_flipped',\n",
       " 'M_Running_1_flipped',\n",
       " 'F_Running_6',\n",
       " 'F_Running_8',\n",
       " 'M_Running_8_flipped',\n",
       " 'F_Running_7_flipped',\n",
       " 'F_Running_7',\n",
       " 'M_Running_7',\n",
       " 'F_Running_6_flipped',\n",
       " 'M_Running_1',\n",
       " 'M_Running_6',\n",
       " 'M_Running_8',\n",
       " 'M_Running_5_flipped',\n",
       " 'F_Running_3_flipped',\n",
       " 'F_Running_2_flipped',\n",
       " 'M_Running_4_flipped',\n",
       " 'F_Running_2',\n",
       " 'F_Running_5',\n",
       " 'F_Running_4',\n",
       " 'F_Running_3',\n",
       " 'M_Running_6_flipped',\n",
       " 'F_Running_8_flipped',\n",
       " 'M_Running_7_flipped',\n",
       " 'M_Running_3',\n",
       " 'M_Running_4',\n",
       " 'M_Running_5',\n",
       " 'M_Running_2']"
      ]
     },
     "execution_count": 6,
     "metadata": {},
     "output_type": "execute_result"
    }
   ],
   "source": [
    "video_folders_g"
   ]
  },
  {
   "cell_type": "code",
   "execution_count": 7,
   "metadata": {},
   "outputs": [],
   "source": [
    "# Find folder amongst good running videos for longest video\n",
    "\n",
    "max_frames_no = 0  # Max frames of no_overstride videos\n",
    "max_folder = ''\n",
    "for folder_name in video_folders_g:\n",
    "    folder_path = os.path.join(DATA_PATH, folder_name)\n",
    "    npy_files = [f for f in os.listdir(folder_path) if f.endswith('.npy')]\n",
    "    num_frames = len(npy_files)\n",
    "    if num_frames > max_frames_no:\n",
    "        max_frames_no = num_frames\n",
    "        max_folder = folder_path\n"
   ]
  },
  {
   "cell_type": "code",
   "execution_count": 8,
   "metadata": {},
   "outputs": [
    {
     "data": {
      "text/plain": [
       "(258, '../datasets/no_overstride_npy/F_Running_4_flipped')"
      ]
     },
     "execution_count": 8,
     "metadata": {},
     "output_type": "execute_result"
    }
   ],
   "source": [
    "max_frames_no, max_folder"
   ]
  },
  {
   "cell_type": "markdown",
   "metadata": {},
   "source": [
    "### 2.1.2 Checking files for overstride data"
   ]
  },
  {
   "cell_type": "code",
   "execution_count": 9,
   "metadata": {},
   "outputs": [],
   "source": [
    "# Define the path to your data directory\n",
    "DATA_PATH = '../datasets/overstride_npy'\n",
    "\n",
    "# Get a list of all folders (videos) in the data directory\n",
    "video_folders_b = [f for f in os.listdir(DATA_PATH) if os.path.isdir(os.path.join(DATA_PATH, f))]"
   ]
  },
  {
   "cell_type": "code",
   "execution_count": 10,
   "metadata": {},
   "outputs": [
    {
     "data": {
      "text/plain": [
       "['Overstride_9_flipped',\n",
       " 'Overstride_10_flipped',\n",
       " 'Overstride_8_flipped',\n",
       " 'Overstride_11_flipped',\n",
       " 'Overstride_13_flipped',\n",
       " 'Overstride_14',\n",
       " 'Overstride_13',\n",
       " 'Overstride_3_flipped',\n",
       " 'Overstride_12',\n",
       " 'Overstride_15',\n",
       " 'Overstride_5',\n",
       " 'Overstride_2_flipped',\n",
       " 'Overstride_2',\n",
       " 'Overstride_12_flipped',\n",
       " 'Overstride_3',\n",
       " 'Overstride_4',\n",
       " 'Overstride_17_flipped',\n",
       " 'Overstride_7_flipped',\n",
       " 'Overstride_6_flipped',\n",
       " 'Overstride_16_flipped',\n",
       " 'Overstride_4_flipped',\n",
       " 'Overstride_10',\n",
       " 'Overstride_17',\n",
       " 'Overstride_16',\n",
       " 'Overstride_11',\n",
       " 'Overstride_14_flipped',\n",
       " 'Overstride_6',\n",
       " 'Overstride_15_flipped',\n",
       " 'Overstride_8',\n",
       " 'Overstride_9',\n",
       " 'Overstride_7',\n",
       " 'Overstride_5_flipped']"
      ]
     },
     "execution_count": 10,
     "metadata": {},
     "output_type": "execute_result"
    }
   ],
   "source": [
    "video_folders_b"
   ]
  },
  {
   "cell_type": "code",
   "execution_count": 11,
   "metadata": {},
   "outputs": [],
   "source": [
    "# Find the folder amongst overstride videos for longest video\n",
    "\n",
    "max_frames_o = 0  # Max frames of no_overstride videos\n",
    "max_folder = ''\n",
    "for folder_name in video_folders_b:\n",
    "    folder_path = os.path.join(DATA_PATH, folder_name)\n",
    "    npy_files = [f for f in os.listdir(folder_path) if f.endswith('.npy')]\n",
    "    num_frames = len(npy_files)\n",
    "    if num_frames > max_frames_o:\n",
    "        max_frames_o = num_frames\n",
    "        max_folder = folder_path\n"
   ]
  },
  {
   "cell_type": "code",
   "execution_count": 12,
   "metadata": {},
   "outputs": [
    {
     "data": {
      "text/plain": [
       "(258, '../datasets/overstride_npy/Overstride_9_flipped')"
      ]
     },
     "execution_count": 12,
     "metadata": {},
     "output_type": "execute_result"
    }
   ],
   "source": [
    "max_frames_o, max_folder"
   ]
  },
  {
   "cell_type": "code",
   "execution_count": 13,
   "metadata": {},
   "outputs": [
    {
     "name": "stdout",
     "output_type": "stream",
     "text": [
      "longest video has 258 frames\n"
     ]
    }
   ],
   "source": [
    "max_frames = max(max_frames_o, max_frames_no)\n",
    "print(f'longest video has {max_frames} frames')"
   ]
  },
  {
   "cell_type": "markdown",
   "metadata": {},
   "source": [
    "## 2.2 Duplicate frames to fill missing data from shorter videos"
   ]
  },
  {
   "cell_type": "markdown",
   "metadata": {},
   "source": [
    "### 2.2.1 Define a function to duplicate frames"
   ]
  },
  {
   "cell_type": "code",
   "execution_count": 14,
   "metadata": {},
   "outputs": [],
   "source": [
    "def duplicate_frames(video_folders, max_frames):\n",
    "    # Loop through each video folder again to duplicate data if needed\n",
    "    for folder_name in video_folders:\n",
    "        folder_path = os.path.join(DATA_PATH, folder_name)\n",
    "        npy_files = [f for f in os.listdir(folder_path) if f.endswith('.npy')]\n",
    "        num_files = len(npy_files)\n",
    "        \n",
    "        # Calculate the number of duplicates needed to match the max frame count\n",
    "        num_duplicates = max_frames - num_files\n",
    "        \n",
    "        # Duplicate the frames sequentially to fill up the required duplicates\n",
    "        if num_duplicates > 0:\n",
    "            # Get the last index present in the folder\n",
    "            last_index = max([int(f.split('.')[0]) for f in npy_files]) if npy_files else -1\n",
    "\n",
    "            for i in range(num_duplicates):\n",
    "                src_file_index = (last_index + i + 1) % num_files  # Calculate source index\n",
    "                src_file_path = os.path.join(folder_path, f'{src_file_index}.npy')  # Adjust file name\n",
    "                dst_file_path = os.path.join(folder_path, f'{last_index + i + 1}.npy')  # Adjust destination file name\n",
    "                frame_data = np.load(src_file_path)  # Copy from source file\n",
    "                np.save(dst_file_path, frame_data)  # Paste to new file\n",
    "\n",
    "    print(\"Data duplication completed.\")"
   ]
  },
  {
   "cell_type": "markdown",
   "metadata": {},
   "source": [
    "### 2.2.2 Duplicate frames from the overstride folder"
   ]
  },
  {
   "cell_type": "code",
   "execution_count": 15,
   "metadata": {},
   "outputs": [
    {
     "name": "stdout",
     "output_type": "stream",
     "text": [
      "Data duplication completed.\n"
     ]
    }
   ],
   "source": [
    "# duplicate frames for overstride\n",
    "# Define the path to your data directory\n",
    "DATA_PATH = '../datasets/overstride_npy'\n",
    "\n",
    "# Get a list of all folders (videos) in the data directory\n",
    "video_folders = [f for f in os.listdir(DATA_PATH) if os.path.isdir(os.path.join(DATA_PATH, f))]\n",
    "\n",
    "duplicate_frames(video_folders, max_frames)"
   ]
  },
  {
   "cell_type": "markdown",
   "metadata": {},
   "source": [
    "### 2.2.3 Duplicate frames from the no_overstride folder"
   ]
  },
  {
   "cell_type": "code",
   "execution_count": 16,
   "metadata": {},
   "outputs": [
    {
     "name": "stdout",
     "output_type": "stream",
     "text": [
      "Data duplication completed.\n"
     ]
    }
   ],
   "source": [
    "# duplicate frames for no_overstride\n",
    "# Define the path to your data directory\n",
    "DATA_PATH = '../datasets/no_overstride_npy'\n",
    "\n",
    "# Get a list of all folders (videos) in the data directory\n",
    "video_folders = [f for f in os.listdir(DATA_PATH) if os.path.isdir(os.path.join(DATA_PATH, f))]\n",
    "\n",
    "duplicate_frames(video_folders, max_frames)"
   ]
  },
  {
   "cell_type": "code",
   "execution_count": 17,
   "metadata": {},
   "outputs": [],
   "source": [
    "# Check that all my .npy folders have the same number of frames\n",
    "\n",
    "def count_npy_files_in_folders(directory):\n",
    "    folders = [f for f in os.listdir(directory) if os.path.isdir(os.path.join(directory, f))]\n",
    "    npy_counts = {}\n",
    "\n",
    "    for folder in folders:\n",
    "        folder_path = os.path.join(directory, folder)\n",
    "        npy_files = [f for f in os.listdir(folder_path) if f.endswith('.npy')]\n",
    "        npy_counts[folder] = len(npy_files)\n",
    "\n",
    "    return npy_counts"
   ]
  },
  {
   "cell_type": "code",
   "execution_count": 18,
   "metadata": {},
   "outputs": [
    {
     "name": "stdout",
     "output_type": "stream",
     "text": [
      "Unique counts of all values: 1\n"
     ]
    }
   ],
   "source": [
    "# no_overstride\n",
    "\n",
    "directory_path = '../datasets/no_overstride_npy'\n",
    "\n",
    "npy_counts = count_npy_files_in_folders(directory_path)\n",
    "\n",
    "# Get the unique counts of all values\n",
    "unique_counts = len(set(npy_counts.values()))\n",
    "\n",
    "# Print the unique counts of all values\n",
    "print(\"Unique counts of all values:\", unique_counts)"
   ]
  },
  {
   "cell_type": "code",
   "execution_count": 19,
   "metadata": {},
   "outputs": [
    {
     "name": "stdout",
     "output_type": "stream",
     "text": [
      "Unique counts of all values: 1\n"
     ]
    }
   ],
   "source": [
    "# overstride\n",
    "\n",
    "directory_path = '../datasets/overstride_npy'\n",
    "\n",
    "npy_counts = count_npy_files_in_folders(directory_path)\n",
    "\n",
    "# Get the unique counts of all values\n",
    "unique_counts = len(set(npy_counts.values()))\n",
    "\n",
    "# Print the unique counts of all values\n",
    "print(\"Unique counts of all values:\", unique_counts)\n"
   ]
  },
  {
   "cell_type": "markdown",
   "metadata": {},
   "source": [
    "## 3 Read and Label The Data"
   ]
  },
  {
   "cell_type": "markdown",
   "metadata": {},
   "source": [
    "### 3.1 no_overstride"
   ]
  },
  {
   "cell_type": "code",
   "execution_count": 20,
   "metadata": {},
   "outputs": [],
   "source": [
    "# Initialize empty lists for features and labels\n",
    "features_list = []\n",
    "labels_list = []"
   ]
  },
  {
   "cell_type": "code",
   "execution_count": 21,
   "metadata": {},
   "outputs": [
    {
     "data": {
      "text/plain": [
       "['F_Running_4_flipped',\n",
       " 'M_Running_2_flipped',\n",
       " 'M_Running_3_flipped',\n",
       " 'F_Running_5_flipped',\n",
       " 'M_Running_1_flipped',\n",
       " 'F_Running_6',\n",
       " 'F_Running_8',\n",
       " 'M_Running_8_flipped',\n",
       " 'F_Running_7_flipped',\n",
       " 'F_Running_7',\n",
       " 'M_Running_7',\n",
       " 'F_Running_6_flipped',\n",
       " 'M_Running_1',\n",
       " 'M_Running_6',\n",
       " 'M_Running_8',\n",
       " 'M_Running_5_flipped',\n",
       " 'F_Running_3_flipped',\n",
       " 'F_Running_2_flipped',\n",
       " 'M_Running_4_flipped',\n",
       " 'F_Running_2',\n",
       " 'F_Running_5',\n",
       " 'F_Running_4',\n",
       " 'F_Running_3',\n",
       " 'M_Running_6_flipped',\n",
       " 'F_Running_8_flipped',\n",
       " 'M_Running_7_flipped',\n",
       " 'M_Running_3',\n",
       " 'M_Running_4',\n",
       " 'M_Running_5',\n",
       " 'M_Running_2']"
      ]
     },
     "execution_count": 21,
     "metadata": {},
     "output_type": "execute_result"
    }
   ],
   "source": [
    "video_folders"
   ]
  },
  {
   "cell_type": "markdown",
   "metadata": {},
   "source": [
    "### 3.1.1 Save features and labels into lists"
   ]
  },
  {
   "cell_type": "code",
   "execution_count": 22,
   "metadata": {},
   "outputs": [
    {
     "name": "stdout",
     "output_type": "stream",
     "text": [
      "Features shape: (7740, 132)\n",
      "Labels shape: (7740,)\n"
     ]
    }
   ],
   "source": [
    "# Loop through each video folder to read and process the numpy arrays\n",
    "for folder_name in video_folders:\n",
    "    folder_path = os.path.join(DATA_PATH, folder_name)\n",
    "    npy_files = sorted(os.listdir(folder_path), key=lambda x: int(x.split('.')[0]))\n",
    "    \n",
    "    # Loop through each .npy file in the folder\n",
    "    for npy_file in npy_files:\n",
    "        npy_path = os.path.join(folder_path, npy_file)\n",
    "        \n",
    "        # Load the numpy array\n",
    "        keypoints = np.load(npy_path)\n",
    "        \n",
    "        # Flatten the nested lists within the numpy array\n",
    "        flattened_keypoints = [item for sublist in keypoints for item in sublist]\n",
    "        \n",
    "        # Append the flattened keypoints to the features list\n",
    "        features_list.append(flattened_keypoints)\n",
    "        \n",
    "        # Assign the label \"0\" (proper form) to this data\n",
    "        labels_list.append(0)\n",
    "\n",
    "# Convert the features and labels lists to numpy arrays\n",
    "features = np.array(features_list)\n",
    "labels = np.array(labels_list)\n",
    "\n",
    "# Print the shape of features and labels\n",
    "print(\"Features shape:\", features.shape)\n",
    "print(\"Labels shape:\", labels.shape)"
   ]
  },
  {
   "cell_type": "markdown",
   "metadata": {},
   "source": [
    "## 3.2 overstride"
   ]
  },
  {
   "cell_type": "code",
   "execution_count": 23,
   "metadata": {},
   "outputs": [],
   "source": [
    "# Define the path to your data directory\n",
    "DATA_PATH = '../datasets/overstride_npy'\n",
    "\n",
    "# Get a list of all folders (videos) in the data directory\n",
    "video_folders = [f for f in os.listdir(DATA_PATH) if os.path.isdir(os.path.join(DATA_PATH, f))]"
   ]
  },
  {
   "cell_type": "code",
   "execution_count": 24,
   "metadata": {},
   "outputs": [
    {
     "data": {
      "text/plain": [
       "['Overstride_9_flipped',\n",
       " 'Overstride_10_flipped',\n",
       " 'Overstride_8_flipped',\n",
       " 'Overstride_11_flipped',\n",
       " 'Overstride_13_flipped',\n",
       " 'Overstride_14',\n",
       " 'Overstride_13',\n",
       " 'Overstride_3_flipped',\n",
       " 'Overstride_12',\n",
       " 'Overstride_15',\n",
       " 'Overstride_5',\n",
       " 'Overstride_2_flipped',\n",
       " 'Overstride_2',\n",
       " 'Overstride_12_flipped',\n",
       " 'Overstride_3',\n",
       " 'Overstride_4',\n",
       " 'Overstride_17_flipped',\n",
       " 'Overstride_7_flipped',\n",
       " 'Overstride_6_flipped',\n",
       " 'Overstride_16_flipped',\n",
       " 'Overstride_4_flipped',\n",
       " 'Overstride_10',\n",
       " 'Overstride_17',\n",
       " 'Overstride_16',\n",
       " 'Overstride_11',\n",
       " 'Overstride_14_flipped',\n",
       " 'Overstride_6',\n",
       " 'Overstride_15_flipped',\n",
       " 'Overstride_8',\n",
       " 'Overstride_9',\n",
       " 'Overstride_7',\n",
       " 'Overstride_5_flipped']"
      ]
     },
     "execution_count": 24,
     "metadata": {},
     "output_type": "execute_result"
    }
   ],
   "source": [
    "video_folders"
   ]
  },
  {
   "cell_type": "markdown",
   "metadata": {},
   "source": [
    "### 3.2.1 Save features and labels into lists"
   ]
  },
  {
   "cell_type": "code",
   "execution_count": 25,
   "metadata": {},
   "outputs": [
    {
     "name": "stdout",
     "output_type": "stream",
     "text": [
      "Features shape: (15996, 132)\n",
      "Labels shape: (15996,)\n"
     ]
    }
   ],
   "source": [
    "# Loop through each video folder to read and process the numpy arrays\n",
    "for folder_name in video_folders:\n",
    "    folder_path = os.path.join(DATA_PATH, folder_name)\n",
    "    npy_files = sorted(os.listdir(folder_path), key=lambda x: int(x.split('.')[0]))\n",
    "    \n",
    "    # Loop through each .npy file in the folder\n",
    "    for npy_file in npy_files:\n",
    "        npy_path = os.path.join(folder_path, npy_file)\n",
    "        \n",
    "        # Load the numpy array\n",
    "        keypoints = np.load(npy_path)\n",
    "        \n",
    "        # Flatten the nested lists within the numpy array\n",
    "        flattened_keypoints = [item for sublist in keypoints for item in sublist]\n",
    "        \n",
    "        # Append the flattened keypoints to the features list\n",
    "        features_list.append(flattened_keypoints)\n",
    "        \n",
    "        # Assign the label \"1\" (overstride) to this data\n",
    "        labels_list.append(1)\n",
    "\n",
    "# Convert the features and labels lists to numpy arrays\n",
    "features = np.array(features_list)\n",
    "labels = np.array(labels_list)\n",
    "\n",
    "# Print the shape of features and labels\n",
    "print(\"Features shape:\", features.shape)\n",
    "print(\"Labels shape:\", labels.shape)"
   ]
  },
  {
   "cell_type": "code",
   "execution_count": 26,
   "metadata": {},
   "outputs": [
    {
     "name": "stdout",
     "output_type": "stream",
     "text": [
      "[0 1]\n"
     ]
    }
   ],
   "source": [
    "# Check labels\n",
    "\n",
    "print(np.unique(labels))"
   ]
  },
  {
   "cell_type": "code",
   "execution_count": 27,
   "metadata": {},
   "outputs": [
    {
     "data": {
      "text/plain": [
       "(array([0, 1]), array([7740, 8256]))"
      ]
     },
     "execution_count": 27,
     "metadata": {},
     "output_type": "execute_result"
    }
   ],
   "source": [
    "np.unique(labels, return_counts=True)"
   ]
  },
  {
   "cell_type": "markdown",
   "metadata": {},
   "source": [
    "## 3.3 Feature engineering"
   ]
  },
  {
   "cell_type": "markdown",
   "metadata": {},
   "source": [
    "<img src='https://i.imgur.com/3j8BPdc.png' style = 'height:300px'>"
   ]
  },
  {
   "cell_type": "markdown",
   "metadata": {},
   "source": [
    "### 3.3.1 Creating pandas dataframe"
   ]
  },
  {
   "cell_type": "code",
   "execution_count": 28,
   "metadata": {},
   "outputs": [],
   "source": [
    "landmark_dict = {0: 'nose', \n",
    "                 1: 'left_eye_(inner)', \n",
    "                 2: 'left_eye', \n",
    "                 3: 'left_eye_(outer)', \n",
    "                 4: 'right_eye_(inner)', \n",
    "                 5: 'right_eye', \n",
    "                 6: 'right_eye_(outer)', \n",
    "                 7: 'left_ear', \n",
    "                 8: 'right_ear', \n",
    "                 9: 'mouth_(left)', \n",
    "                 10: 'mouth_(right)', \n",
    "                 11: 'left_shoulder', \n",
    "                 12: 'right_shoulder', \n",
    "                 13: 'left_elbow', \n",
    "                 14: 'right_elbow', \n",
    "                 15: 'left_wrist', \n",
    "                 16: 'right_wrist', \n",
    "                 17: 'left_pinky', \n",
    "                 18: 'right_pinky', \n",
    "                 19: 'left_index', \n",
    "                 20: 'right_index', \n",
    "                 21: 'left_thumb', \n",
    "                 22: 'right_thumb', \n",
    "                 23: 'left_hip', \n",
    "                 24: 'right_hip', \n",
    "                 25: 'left_knee', \n",
    "                 26: 'right_knee', \n",
    "                 27: 'left_ankle', \n",
    "                 28: 'right_ankle', \n",
    "                 29: 'left_heel', \n",
    "                 30: 'right_heel', \n",
    "                 31: 'left_foot_index', \n",
    "                 32: 'right_foot_index' \n",
    "                 }"
   ]
  },
  {
   "cell_type": "code",
   "execution_count": 29,
   "metadata": {},
   "outputs": [],
   "source": [
    "suffix = ['_x', '_y', '_z', '_vis']"
   ]
  },
  {
   "cell_type": "code",
   "execution_count": 30,
   "metadata": {},
   "outputs": [
    {
     "name": "stdout",
     "output_type": "stream",
     "text": [
      "['nose_x', 'nose_y', 'nose_z', 'nose_vis', 'left_eye_(inner)_x', 'left_eye_(inner)_y', 'left_eye_(inner)_z', 'left_eye_(inner)_vis', 'left_eye_x', 'left_eye_y', 'left_eye_z', 'left_eye_vis', 'left_eye_(outer)_x', 'left_eye_(outer)_y', 'left_eye_(outer)_z', 'left_eye_(outer)_vis', 'right_eye_(inner)_x', 'right_eye_(inner)_y', 'right_eye_(inner)_z', 'right_eye_(inner)_vis']\n",
      "132\n"
     ]
    }
   ],
   "source": [
    "column_names = []\n",
    "for key, value in landmark_dict.items():\n",
    "    for suf in suffix:\n",
    "        column_names.append(f\"{value}{suf}\")\n",
    "\n",
    "# Print the first four column names for 'left_eye_(inner)'\n",
    "print(column_names[:20])\n",
    "print(len(column_names))"
   ]
  },
  {
   "cell_type": "code",
   "execution_count": 31,
   "metadata": {},
   "outputs": [
    {
     "data": {
      "text/html": [
       "<div>\n",
       "<style scoped>\n",
       "    .dataframe tbody tr th:only-of-type {\n",
       "        vertical-align: middle;\n",
       "    }\n",
       "\n",
       "    .dataframe tbody tr th {\n",
       "        vertical-align: top;\n",
       "    }\n",
       "\n",
       "    .dataframe thead th {\n",
       "        text-align: right;\n",
       "    }\n",
       "</style>\n",
       "<table border=\"1\" class=\"dataframe\">\n",
       "  <thead>\n",
       "    <tr style=\"text-align: right;\">\n",
       "      <th></th>\n",
       "      <th>nose_x</th>\n",
       "      <th>nose_y</th>\n",
       "      <th>nose_z</th>\n",
       "      <th>nose_vis</th>\n",
       "      <th>left_eye_(inner)_x</th>\n",
       "      <th>left_eye_(inner)_y</th>\n",
       "      <th>left_eye_(inner)_z</th>\n",
       "      <th>left_eye_(inner)_vis</th>\n",
       "      <th>left_eye_x</th>\n",
       "      <th>left_eye_y</th>\n",
       "      <th>...</th>\n",
       "      <th>right_heel_z</th>\n",
       "      <th>right_heel_vis</th>\n",
       "      <th>left_foot_index_x</th>\n",
       "      <th>left_foot_index_y</th>\n",
       "      <th>left_foot_index_z</th>\n",
       "      <th>left_foot_index_vis</th>\n",
       "      <th>right_foot_index_x</th>\n",
       "      <th>right_foot_index_y</th>\n",
       "      <th>right_foot_index_z</th>\n",
       "      <th>right_foot_index_vis</th>\n",
       "    </tr>\n",
       "  </thead>\n",
       "  <tbody>\n",
       "    <tr>\n",
       "      <th>0</th>\n",
       "      <td>0.601278</td>\n",
       "      <td>0.198326</td>\n",
       "      <td>-0.235878</td>\n",
       "      <td>0.999998</td>\n",
       "      <td>0.590242</td>\n",
       "      <td>0.184308</td>\n",
       "      <td>-0.201262</td>\n",
       "      <td>0.999996</td>\n",
       "      <td>0.589739</td>\n",
       "      <td>0.184252</td>\n",
       "      <td>...</td>\n",
       "      <td>-0.201964</td>\n",
       "      <td>0.989778</td>\n",
       "      <td>0.188137</td>\n",
       "      <td>0.753131</td>\n",
       "      <td>0.710654</td>\n",
       "      <td>0.927520</td>\n",
       "      <td>0.782778</td>\n",
       "      <td>0.833521</td>\n",
       "      <td>-0.432608</td>\n",
       "      <td>0.989994</td>\n",
       "    </tr>\n",
       "    <tr>\n",
       "      <th>1</th>\n",
       "      <td>0.601267</td>\n",
       "      <td>0.198079</td>\n",
       "      <td>-0.254799</td>\n",
       "      <td>0.999998</td>\n",
       "      <td>0.589598</td>\n",
       "      <td>0.184275</td>\n",
       "      <td>-0.218822</td>\n",
       "      <td>0.999996</td>\n",
       "      <td>0.588620</td>\n",
       "      <td>0.184187</td>\n",
       "      <td>...</td>\n",
       "      <td>-0.219904</td>\n",
       "      <td>0.990130</td>\n",
       "      <td>0.181183</td>\n",
       "      <td>0.744254</td>\n",
       "      <td>0.896839</td>\n",
       "      <td>0.929108</td>\n",
       "      <td>0.783123</td>\n",
       "      <td>0.835375</td>\n",
       "      <td>-0.471473</td>\n",
       "      <td>0.990426</td>\n",
       "    </tr>\n",
       "    <tr>\n",
       "      <th>2</th>\n",
       "      <td>0.600804</td>\n",
       "      <td>0.198242</td>\n",
       "      <td>-0.259006</td>\n",
       "      <td>0.999998</td>\n",
       "      <td>0.588814</td>\n",
       "      <td>0.184637</td>\n",
       "      <td>-0.220734</td>\n",
       "      <td>0.999996</td>\n",
       "      <td>0.587811</td>\n",
       "      <td>0.184539</td>\n",
       "      <td>...</td>\n",
       "      <td>-0.253653</td>\n",
       "      <td>0.990507</td>\n",
       "      <td>0.173550</td>\n",
       "      <td>0.733728</td>\n",
       "      <td>0.861558</td>\n",
       "      <td>0.930360</td>\n",
       "      <td>0.783070</td>\n",
       "      <td>0.836683</td>\n",
       "      <td>-0.499742</td>\n",
       "      <td>0.990811</td>\n",
       "    </tr>\n",
       "    <tr>\n",
       "      <th>3</th>\n",
       "      <td>0.600498</td>\n",
       "      <td>0.199202</td>\n",
       "      <td>-0.292625</td>\n",
       "      <td>0.999998</td>\n",
       "      <td>0.588437</td>\n",
       "      <td>0.185353</td>\n",
       "      <td>-0.253640</td>\n",
       "      <td>0.999996</td>\n",
       "      <td>0.587443</td>\n",
       "      <td>0.185266</td>\n",
       "      <td>...</td>\n",
       "      <td>-0.297282</td>\n",
       "      <td>0.990643</td>\n",
       "      <td>0.171419</td>\n",
       "      <td>0.721585</td>\n",
       "      <td>0.961902</td>\n",
       "      <td>0.930141</td>\n",
       "      <td>0.782209</td>\n",
       "      <td>0.839454</td>\n",
       "      <td>-0.550678</td>\n",
       "      <td>0.991019</td>\n",
       "    </tr>\n",
       "    <tr>\n",
       "      <th>4</th>\n",
       "      <td>0.600141</td>\n",
       "      <td>0.200056</td>\n",
       "      <td>-0.308465</td>\n",
       "      <td>0.999998</td>\n",
       "      <td>0.588088</td>\n",
       "      <td>0.185892</td>\n",
       "      <td>-0.269705</td>\n",
       "      <td>0.999996</td>\n",
       "      <td>0.587119</td>\n",
       "      <td>0.185809</td>\n",
       "      <td>...</td>\n",
       "      <td>-0.303290</td>\n",
       "      <td>0.990800</td>\n",
       "      <td>0.170304</td>\n",
       "      <td>0.718197</td>\n",
       "      <td>0.993053</td>\n",
       "      <td>0.930348</td>\n",
       "      <td>0.781535</td>\n",
       "      <td>0.840811</td>\n",
       "      <td>-0.557838</td>\n",
       "      <td>0.991249</td>\n",
       "    </tr>\n",
       "  </tbody>\n",
       "</table>\n",
       "<p>5 rows × 132 columns</p>\n",
       "</div>"
      ],
      "text/plain": [
       "     nose_x    nose_y    nose_z  nose_vis  left_eye_(inner)_x  \\\n",
       "0  0.601278  0.198326 -0.235878  0.999998            0.590242   \n",
       "1  0.601267  0.198079 -0.254799  0.999998            0.589598   \n",
       "2  0.600804  0.198242 -0.259006  0.999998            0.588814   \n",
       "3  0.600498  0.199202 -0.292625  0.999998            0.588437   \n",
       "4  0.600141  0.200056 -0.308465  0.999998            0.588088   \n",
       "\n",
       "   left_eye_(inner)_y  left_eye_(inner)_z  left_eye_(inner)_vis  left_eye_x  \\\n",
       "0            0.184308           -0.201262              0.999996    0.589739   \n",
       "1            0.184275           -0.218822              0.999996    0.588620   \n",
       "2            0.184637           -0.220734              0.999996    0.587811   \n",
       "3            0.185353           -0.253640              0.999996    0.587443   \n",
       "4            0.185892           -0.269705              0.999996    0.587119   \n",
       "\n",
       "   left_eye_y  ...  right_heel_z  right_heel_vis  left_foot_index_x  \\\n",
       "0    0.184252  ...     -0.201964        0.989778           0.188137   \n",
       "1    0.184187  ...     -0.219904        0.990130           0.181183   \n",
       "2    0.184539  ...     -0.253653        0.990507           0.173550   \n",
       "3    0.185266  ...     -0.297282        0.990643           0.171419   \n",
       "4    0.185809  ...     -0.303290        0.990800           0.170304   \n",
       "\n",
       "   left_foot_index_y  left_foot_index_z  left_foot_index_vis  \\\n",
       "0           0.753131           0.710654             0.927520   \n",
       "1           0.744254           0.896839             0.929108   \n",
       "2           0.733728           0.861558             0.930360   \n",
       "3           0.721585           0.961902             0.930141   \n",
       "4           0.718197           0.993053             0.930348   \n",
       "\n",
       "   right_foot_index_x  right_foot_index_y  right_foot_index_z  \\\n",
       "0            0.782778            0.833521           -0.432608   \n",
       "1            0.783123            0.835375           -0.471473   \n",
       "2            0.783070            0.836683           -0.499742   \n",
       "3            0.782209            0.839454           -0.550678   \n",
       "4            0.781535            0.840811           -0.557838   \n",
       "\n",
       "   right_foot_index_vis  \n",
       "0              0.989994  \n",
       "1              0.990426  \n",
       "2              0.990811  \n",
       "3              0.991019  \n",
       "4              0.991249  \n",
       "\n",
       "[5 rows x 132 columns]"
      ]
     },
     "execution_count": 31,
     "metadata": {},
     "output_type": "execute_result"
    }
   ],
   "source": [
    "# Combine the column_names list and features into a DataFrame\n",
    "df = pd.DataFrame(features, columns=column_names)\n",
    "\n",
    "# Now df is your combined DataFrame\n",
    "df.head() # Print the first few rows to check"
   ]
  },
  {
   "cell_type": "code",
   "execution_count": 32,
   "metadata": {},
   "outputs": [],
   "source": [
    "# Add a new column 'labels' to the DataFrame\n",
    "df.insert(0, 'labels', labels)"
   ]
  },
  {
   "cell_type": "code",
   "execution_count": 33,
   "metadata": {},
   "outputs": [
    {
     "data": {
      "text/html": [
       "<div>\n",
       "<style scoped>\n",
       "    .dataframe tbody tr th:only-of-type {\n",
       "        vertical-align: middle;\n",
       "    }\n",
       "\n",
       "    .dataframe tbody tr th {\n",
       "        vertical-align: top;\n",
       "    }\n",
       "\n",
       "    .dataframe thead th {\n",
       "        text-align: right;\n",
       "    }\n",
       "</style>\n",
       "<table border=\"1\" class=\"dataframe\">\n",
       "  <thead>\n",
       "    <tr style=\"text-align: right;\">\n",
       "      <th></th>\n",
       "      <th>labels</th>\n",
       "      <th>nose_x</th>\n",
       "      <th>nose_y</th>\n",
       "      <th>nose_z</th>\n",
       "      <th>nose_vis</th>\n",
       "      <th>left_eye_(inner)_x</th>\n",
       "      <th>left_eye_(inner)_y</th>\n",
       "      <th>left_eye_(inner)_z</th>\n",
       "      <th>left_eye_(inner)_vis</th>\n",
       "      <th>left_eye_x</th>\n",
       "      <th>...</th>\n",
       "      <th>right_heel_z</th>\n",
       "      <th>right_heel_vis</th>\n",
       "      <th>left_foot_index_x</th>\n",
       "      <th>left_foot_index_y</th>\n",
       "      <th>left_foot_index_z</th>\n",
       "      <th>left_foot_index_vis</th>\n",
       "      <th>right_foot_index_x</th>\n",
       "      <th>right_foot_index_y</th>\n",
       "      <th>right_foot_index_z</th>\n",
       "      <th>right_foot_index_vis</th>\n",
       "    </tr>\n",
       "  </thead>\n",
       "  <tbody>\n",
       "    <tr>\n",
       "      <th>0</th>\n",
       "      <td>0</td>\n",
       "      <td>0.601278</td>\n",
       "      <td>0.198326</td>\n",
       "      <td>-0.235878</td>\n",
       "      <td>0.999998</td>\n",
       "      <td>0.590242</td>\n",
       "      <td>0.184308</td>\n",
       "      <td>-0.201262</td>\n",
       "      <td>0.999996</td>\n",
       "      <td>0.589739</td>\n",
       "      <td>...</td>\n",
       "      <td>-0.201964</td>\n",
       "      <td>0.989778</td>\n",
       "      <td>0.188137</td>\n",
       "      <td>0.753131</td>\n",
       "      <td>0.710654</td>\n",
       "      <td>0.927520</td>\n",
       "      <td>0.782778</td>\n",
       "      <td>0.833521</td>\n",
       "      <td>-0.432608</td>\n",
       "      <td>0.989994</td>\n",
       "    </tr>\n",
       "    <tr>\n",
       "      <th>1</th>\n",
       "      <td>0</td>\n",
       "      <td>0.601267</td>\n",
       "      <td>0.198079</td>\n",
       "      <td>-0.254799</td>\n",
       "      <td>0.999998</td>\n",
       "      <td>0.589598</td>\n",
       "      <td>0.184275</td>\n",
       "      <td>-0.218822</td>\n",
       "      <td>0.999996</td>\n",
       "      <td>0.588620</td>\n",
       "      <td>...</td>\n",
       "      <td>-0.219904</td>\n",
       "      <td>0.990130</td>\n",
       "      <td>0.181183</td>\n",
       "      <td>0.744254</td>\n",
       "      <td>0.896839</td>\n",
       "      <td>0.929108</td>\n",
       "      <td>0.783123</td>\n",
       "      <td>0.835375</td>\n",
       "      <td>-0.471473</td>\n",
       "      <td>0.990426</td>\n",
       "    </tr>\n",
       "    <tr>\n",
       "      <th>2</th>\n",
       "      <td>0</td>\n",
       "      <td>0.600804</td>\n",
       "      <td>0.198242</td>\n",
       "      <td>-0.259006</td>\n",
       "      <td>0.999998</td>\n",
       "      <td>0.588814</td>\n",
       "      <td>0.184637</td>\n",
       "      <td>-0.220734</td>\n",
       "      <td>0.999996</td>\n",
       "      <td>0.587811</td>\n",
       "      <td>...</td>\n",
       "      <td>-0.253653</td>\n",
       "      <td>0.990507</td>\n",
       "      <td>0.173550</td>\n",
       "      <td>0.733728</td>\n",
       "      <td>0.861558</td>\n",
       "      <td>0.930360</td>\n",
       "      <td>0.783070</td>\n",
       "      <td>0.836683</td>\n",
       "      <td>-0.499742</td>\n",
       "      <td>0.990811</td>\n",
       "    </tr>\n",
       "    <tr>\n",
       "      <th>3</th>\n",
       "      <td>0</td>\n",
       "      <td>0.600498</td>\n",
       "      <td>0.199202</td>\n",
       "      <td>-0.292625</td>\n",
       "      <td>0.999998</td>\n",
       "      <td>0.588437</td>\n",
       "      <td>0.185353</td>\n",
       "      <td>-0.253640</td>\n",
       "      <td>0.999996</td>\n",
       "      <td>0.587443</td>\n",
       "      <td>...</td>\n",
       "      <td>-0.297282</td>\n",
       "      <td>0.990643</td>\n",
       "      <td>0.171419</td>\n",
       "      <td>0.721585</td>\n",
       "      <td>0.961902</td>\n",
       "      <td>0.930141</td>\n",
       "      <td>0.782209</td>\n",
       "      <td>0.839454</td>\n",
       "      <td>-0.550678</td>\n",
       "      <td>0.991019</td>\n",
       "    </tr>\n",
       "    <tr>\n",
       "      <th>4</th>\n",
       "      <td>0</td>\n",
       "      <td>0.600141</td>\n",
       "      <td>0.200056</td>\n",
       "      <td>-0.308465</td>\n",
       "      <td>0.999998</td>\n",
       "      <td>0.588088</td>\n",
       "      <td>0.185892</td>\n",
       "      <td>-0.269705</td>\n",
       "      <td>0.999996</td>\n",
       "      <td>0.587119</td>\n",
       "      <td>...</td>\n",
       "      <td>-0.303290</td>\n",
       "      <td>0.990800</td>\n",
       "      <td>0.170304</td>\n",
       "      <td>0.718197</td>\n",
       "      <td>0.993053</td>\n",
       "      <td>0.930348</td>\n",
       "      <td>0.781535</td>\n",
       "      <td>0.840811</td>\n",
       "      <td>-0.557838</td>\n",
       "      <td>0.991249</td>\n",
       "    </tr>\n",
       "  </tbody>\n",
       "</table>\n",
       "<p>5 rows × 133 columns</p>\n",
       "</div>"
      ],
      "text/plain": [
       "   labels    nose_x    nose_y    nose_z  nose_vis  left_eye_(inner)_x  \\\n",
       "0       0  0.601278  0.198326 -0.235878  0.999998            0.590242   \n",
       "1       0  0.601267  0.198079 -0.254799  0.999998            0.589598   \n",
       "2       0  0.600804  0.198242 -0.259006  0.999998            0.588814   \n",
       "3       0  0.600498  0.199202 -0.292625  0.999998            0.588437   \n",
       "4       0  0.600141  0.200056 -0.308465  0.999998            0.588088   \n",
       "\n",
       "   left_eye_(inner)_y  left_eye_(inner)_z  left_eye_(inner)_vis  left_eye_x  \\\n",
       "0            0.184308           -0.201262              0.999996    0.589739   \n",
       "1            0.184275           -0.218822              0.999996    0.588620   \n",
       "2            0.184637           -0.220734              0.999996    0.587811   \n",
       "3            0.185353           -0.253640              0.999996    0.587443   \n",
       "4            0.185892           -0.269705              0.999996    0.587119   \n",
       "\n",
       "   ...  right_heel_z  right_heel_vis  left_foot_index_x  left_foot_index_y  \\\n",
       "0  ...     -0.201964        0.989778           0.188137           0.753131   \n",
       "1  ...     -0.219904        0.990130           0.181183           0.744254   \n",
       "2  ...     -0.253653        0.990507           0.173550           0.733728   \n",
       "3  ...     -0.297282        0.990643           0.171419           0.721585   \n",
       "4  ...     -0.303290        0.990800           0.170304           0.718197   \n",
       "\n",
       "   left_foot_index_z  left_foot_index_vis  right_foot_index_x  \\\n",
       "0           0.710654             0.927520            0.782778   \n",
       "1           0.896839             0.929108            0.783123   \n",
       "2           0.861558             0.930360            0.783070   \n",
       "3           0.961902             0.930141            0.782209   \n",
       "4           0.993053             0.930348            0.781535   \n",
       "\n",
       "   right_foot_index_y  right_foot_index_z  right_foot_index_vis  \n",
       "0            0.833521           -0.432608              0.989994  \n",
       "1            0.835375           -0.471473              0.990426  \n",
       "2            0.836683           -0.499742              0.990811  \n",
       "3            0.839454           -0.550678              0.991019  \n",
       "4            0.840811           -0.557838              0.991249  \n",
       "\n",
       "[5 rows x 133 columns]"
      ]
     },
     "execution_count": 33,
     "metadata": {},
     "output_type": "execute_result"
    }
   ],
   "source": [
    "# Now df has a new column 'labels' as the first column\n",
    "df.head()"
   ]
  },
  {
   "cell_type": "markdown",
   "metadata": {},
   "source": [
    "### 3.3.2 Adding Knee Angle Columns"
   ]
  },
  {
   "cell_type": "code",
   "execution_count": 34,
   "metadata": {},
   "outputs": [],
   "source": [
    "def calculate_angle(df, a, b, c):\n",
    "    a_x = a + '_x'\n",
    "    a_y = a + '_y'\n",
    "    b_x = b + '_x'\n",
    "    b_y = b + '_y'\n",
    "    c_x = c + '_x'\n",
    "    c_y = c + '_y'\n",
    "\n",
    "    radians = np.arctan2(df[c_y].values - df[b_y].values, df[c_x].values - df[b_x].values) - \\\n",
    "              np.arctan2(df[a_y].values - df[b_y].values, df[a_x].values - df[b_x].values)\n",
    "    angles = np.abs(radians * 180.0 / np.pi)\n",
    "\n",
    "    # Adjust angles greater than 180 degrees\n",
    "    angles = np.where(angles > 180.0, 360 - angles, angles)\n",
    "\n",
    "    return angles\n"
   ]
  },
  {
   "cell_type": "code",
   "execution_count": 35,
   "metadata": {},
   "outputs": [],
   "source": [
    "# Add a new column 'right_knee_angle' using calculate_angle function\n",
    "df['right_knee_angle'] = calculate_angle(df, 'right_hip', 'right_knee', 'right_ankle')\n"
   ]
  },
  {
   "cell_type": "code",
   "execution_count": 36,
   "metadata": {},
   "outputs": [],
   "source": [
    "# Add a new column 'left_knee_angle' using calculate_angle function\n",
    "df['left_knee_angle'] = calculate_angle(df, 'left_hip', 'left_knee', 'left_ankle')"
   ]
  },
  {
   "cell_type": "code",
   "execution_count": 37,
   "metadata": {},
   "outputs": [
    {
     "data": {
      "text/html": [
       "<div>\n",
       "<style scoped>\n",
       "    .dataframe tbody tr th:only-of-type {\n",
       "        vertical-align: middle;\n",
       "    }\n",
       "\n",
       "    .dataframe tbody tr th {\n",
       "        vertical-align: top;\n",
       "    }\n",
       "\n",
       "    .dataframe thead th {\n",
       "        text-align: right;\n",
       "    }\n",
       "</style>\n",
       "<table border=\"1\" class=\"dataframe\">\n",
       "  <thead>\n",
       "    <tr style=\"text-align: right;\">\n",
       "      <th></th>\n",
       "      <th>labels</th>\n",
       "      <th>nose_x</th>\n",
       "      <th>nose_y</th>\n",
       "      <th>nose_z</th>\n",
       "      <th>nose_vis</th>\n",
       "      <th>left_eye_(inner)_x</th>\n",
       "      <th>left_eye_(inner)_y</th>\n",
       "      <th>left_eye_(inner)_z</th>\n",
       "      <th>left_eye_(inner)_vis</th>\n",
       "      <th>left_eye_x</th>\n",
       "      <th>...</th>\n",
       "      <th>left_foot_index_x</th>\n",
       "      <th>left_foot_index_y</th>\n",
       "      <th>left_foot_index_z</th>\n",
       "      <th>left_foot_index_vis</th>\n",
       "      <th>right_foot_index_x</th>\n",
       "      <th>right_foot_index_y</th>\n",
       "      <th>right_foot_index_z</th>\n",
       "      <th>right_foot_index_vis</th>\n",
       "      <th>right_knee_angle</th>\n",
       "      <th>left_knee_angle</th>\n",
       "    </tr>\n",
       "  </thead>\n",
       "  <tbody>\n",
       "    <tr>\n",
       "      <th>0</th>\n",
       "      <td>0</td>\n",
       "      <td>0.601278</td>\n",
       "      <td>0.198326</td>\n",
       "      <td>-0.235878</td>\n",
       "      <td>0.999998</td>\n",
       "      <td>0.590242</td>\n",
       "      <td>0.184308</td>\n",
       "      <td>-0.201262</td>\n",
       "      <td>0.999996</td>\n",
       "      <td>0.589739</td>\n",
       "      <td>...</td>\n",
       "      <td>0.188137</td>\n",
       "      <td>0.753131</td>\n",
       "      <td>0.710654</td>\n",
       "      <td>0.927520</td>\n",
       "      <td>0.782778</td>\n",
       "      <td>0.833521</td>\n",
       "      <td>-0.432608</td>\n",
       "      <td>0.989994</td>\n",
       "      <td>148.844804</td>\n",
       "      <td>145.412545</td>\n",
       "    </tr>\n",
       "    <tr>\n",
       "      <th>1</th>\n",
       "      <td>0</td>\n",
       "      <td>0.601267</td>\n",
       "      <td>0.198079</td>\n",
       "      <td>-0.254799</td>\n",
       "      <td>0.999998</td>\n",
       "      <td>0.589598</td>\n",
       "      <td>0.184275</td>\n",
       "      <td>-0.218822</td>\n",
       "      <td>0.999996</td>\n",
       "      <td>0.588620</td>\n",
       "      <td>...</td>\n",
       "      <td>0.181183</td>\n",
       "      <td>0.744254</td>\n",
       "      <td>0.896839</td>\n",
       "      <td>0.929108</td>\n",
       "      <td>0.783123</td>\n",
       "      <td>0.835375</td>\n",
       "      <td>-0.471473</td>\n",
       "      <td>0.990426</td>\n",
       "      <td>150.284475</td>\n",
       "      <td>142.786141</td>\n",
       "    </tr>\n",
       "    <tr>\n",
       "      <th>2</th>\n",
       "      <td>0</td>\n",
       "      <td>0.600804</td>\n",
       "      <td>0.198242</td>\n",
       "      <td>-0.259006</td>\n",
       "      <td>0.999998</td>\n",
       "      <td>0.588814</td>\n",
       "      <td>0.184637</td>\n",
       "      <td>-0.220734</td>\n",
       "      <td>0.999996</td>\n",
       "      <td>0.587811</td>\n",
       "      <td>...</td>\n",
       "      <td>0.173550</td>\n",
       "      <td>0.733728</td>\n",
       "      <td>0.861558</td>\n",
       "      <td>0.930360</td>\n",
       "      <td>0.783070</td>\n",
       "      <td>0.836683</td>\n",
       "      <td>-0.499742</td>\n",
       "      <td>0.990811</td>\n",
       "      <td>151.623917</td>\n",
       "      <td>137.905981</td>\n",
       "    </tr>\n",
       "    <tr>\n",
       "      <th>3</th>\n",
       "      <td>0</td>\n",
       "      <td>0.600498</td>\n",
       "      <td>0.199202</td>\n",
       "      <td>-0.292625</td>\n",
       "      <td>0.999998</td>\n",
       "      <td>0.588437</td>\n",
       "      <td>0.185353</td>\n",
       "      <td>-0.253640</td>\n",
       "      <td>0.999996</td>\n",
       "      <td>0.587443</td>\n",
       "      <td>...</td>\n",
       "      <td>0.171419</td>\n",
       "      <td>0.721585</td>\n",
       "      <td>0.961902</td>\n",
       "      <td>0.930141</td>\n",
       "      <td>0.782209</td>\n",
       "      <td>0.839454</td>\n",
       "      <td>-0.550678</td>\n",
       "      <td>0.991019</td>\n",
       "      <td>153.108802</td>\n",
       "      <td>133.727828</td>\n",
       "    </tr>\n",
       "    <tr>\n",
       "      <th>4</th>\n",
       "      <td>0</td>\n",
       "      <td>0.600141</td>\n",
       "      <td>0.200056</td>\n",
       "      <td>-0.308465</td>\n",
       "      <td>0.999998</td>\n",
       "      <td>0.588088</td>\n",
       "      <td>0.185892</td>\n",
       "      <td>-0.269705</td>\n",
       "      <td>0.999996</td>\n",
       "      <td>0.587119</td>\n",
       "      <td>...</td>\n",
       "      <td>0.170304</td>\n",
       "      <td>0.718197</td>\n",
       "      <td>0.993053</td>\n",
       "      <td>0.930348</td>\n",
       "      <td>0.781535</td>\n",
       "      <td>0.840811</td>\n",
       "      <td>-0.557838</td>\n",
       "      <td>0.991249</td>\n",
       "      <td>153.862136</td>\n",
       "      <td>132.605864</td>\n",
       "    </tr>\n",
       "  </tbody>\n",
       "</table>\n",
       "<p>5 rows × 135 columns</p>\n",
       "</div>"
      ],
      "text/plain": [
       "   labels    nose_x    nose_y    nose_z  nose_vis  left_eye_(inner)_x  \\\n",
       "0       0  0.601278  0.198326 -0.235878  0.999998            0.590242   \n",
       "1       0  0.601267  0.198079 -0.254799  0.999998            0.589598   \n",
       "2       0  0.600804  0.198242 -0.259006  0.999998            0.588814   \n",
       "3       0  0.600498  0.199202 -0.292625  0.999998            0.588437   \n",
       "4       0  0.600141  0.200056 -0.308465  0.999998            0.588088   \n",
       "\n",
       "   left_eye_(inner)_y  left_eye_(inner)_z  left_eye_(inner)_vis  left_eye_x  \\\n",
       "0            0.184308           -0.201262              0.999996    0.589739   \n",
       "1            0.184275           -0.218822              0.999996    0.588620   \n",
       "2            0.184637           -0.220734              0.999996    0.587811   \n",
       "3            0.185353           -0.253640              0.999996    0.587443   \n",
       "4            0.185892           -0.269705              0.999996    0.587119   \n",
       "\n",
       "   ...  left_foot_index_x  left_foot_index_y  left_foot_index_z  \\\n",
       "0  ...           0.188137           0.753131           0.710654   \n",
       "1  ...           0.181183           0.744254           0.896839   \n",
       "2  ...           0.173550           0.733728           0.861558   \n",
       "3  ...           0.171419           0.721585           0.961902   \n",
       "4  ...           0.170304           0.718197           0.993053   \n",
       "\n",
       "   left_foot_index_vis  right_foot_index_x  right_foot_index_y  \\\n",
       "0             0.927520            0.782778            0.833521   \n",
       "1             0.929108            0.783123            0.835375   \n",
       "2             0.930360            0.783070            0.836683   \n",
       "3             0.930141            0.782209            0.839454   \n",
       "4             0.930348            0.781535            0.840811   \n",
       "\n",
       "   right_foot_index_z  right_foot_index_vis  right_knee_angle  left_knee_angle  \n",
       "0           -0.432608              0.989994        148.844804       145.412545  \n",
       "1           -0.471473              0.990426        150.284475       142.786141  \n",
       "2           -0.499742              0.990811        151.623917       137.905981  \n",
       "3           -0.550678              0.991019        153.108802       133.727828  \n",
       "4           -0.557838              0.991249        153.862136       132.605864  \n",
       "\n",
       "[5 rows x 135 columns]"
      ]
     },
     "execution_count": 37,
     "metadata": {},
     "output_type": "execute_result"
    }
   ],
   "source": [
    "# Checking that the two new columns are created\n",
    "df.head()"
   ]
  },
  {
   "cell_type": "markdown",
   "metadata": {},
   "source": [
    "### 3.3.3 Adding Shank Angle Columns"
   ]
  },
  {
   "cell_type": "code",
   "execution_count": 38,
   "metadata": {},
   "outputs": [],
   "source": [
    "def calculate_shank_angle(df, ankle, knee):\n",
    "    \"\"\"\n",
    "    Calculate the angle between the shank (knee to ankle) and the horizontal line.\n",
    "\n",
    "    Args:\n",
    "        df: DataFrame containing the relevant columns.\n",
    "        ankle: Name of the ankle column.\n",
    "        knee: Name of the knee column.\n",
    "\n",
    "    Returns:\n",
    "        The angle in degrees between the shank and the horizontal line.\n",
    "    \"\"\"\n",
    "    ankle_x = ankle + '_x'\n",
    "    ankle_y = ankle + '_y'\n",
    "    knee_x = knee + '_x'\n",
    "    knee_y = knee + '_y'\n",
    "\n",
    "    angle_rad = np.arctan2(df[knee_y] - df[ankle_y], df[knee_x] - df[ankle_x])\n",
    "    angle_deg = np.degrees(angle_rad) + 90\n",
    "    return angle_deg"
   ]
  },
  {
   "cell_type": "code",
   "execution_count": 39,
   "metadata": {},
   "outputs": [],
   "source": [
    "df['left_shank_angle'] = calculate_shank_angle(df, 'left_ankle', 'left_knee')\n",
    "df['right_shank_angle'] = calculate_shank_angle(df, 'right_ankle', 'right_knee')"
   ]
  },
  {
   "cell_type": "code",
   "execution_count": 40,
   "metadata": {},
   "outputs": [
    {
     "data": {
      "text/html": [
       "<div>\n",
       "<style scoped>\n",
       "    .dataframe tbody tr th:only-of-type {\n",
       "        vertical-align: middle;\n",
       "    }\n",
       "\n",
       "    .dataframe tbody tr th {\n",
       "        vertical-align: top;\n",
       "    }\n",
       "\n",
       "    .dataframe thead th {\n",
       "        text-align: right;\n",
       "    }\n",
       "</style>\n",
       "<table border=\"1\" class=\"dataframe\">\n",
       "  <thead>\n",
       "    <tr style=\"text-align: right;\">\n",
       "      <th></th>\n",
       "      <th>labels</th>\n",
       "      <th>nose_x</th>\n",
       "      <th>nose_y</th>\n",
       "      <th>nose_z</th>\n",
       "      <th>nose_vis</th>\n",
       "      <th>left_eye_(inner)_x</th>\n",
       "      <th>left_eye_(inner)_y</th>\n",
       "      <th>left_eye_(inner)_z</th>\n",
       "      <th>left_eye_(inner)_vis</th>\n",
       "      <th>left_eye_x</th>\n",
       "      <th>...</th>\n",
       "      <th>left_foot_index_z</th>\n",
       "      <th>left_foot_index_vis</th>\n",
       "      <th>right_foot_index_x</th>\n",
       "      <th>right_foot_index_y</th>\n",
       "      <th>right_foot_index_z</th>\n",
       "      <th>right_foot_index_vis</th>\n",
       "      <th>right_knee_angle</th>\n",
       "      <th>left_knee_angle</th>\n",
       "      <th>left_shank_angle</th>\n",
       "      <th>right_shank_angle</th>\n",
       "    </tr>\n",
       "  </thead>\n",
       "  <tbody>\n",
       "    <tr>\n",
       "      <th>0</th>\n",
       "      <td>0</td>\n",
       "      <td>0.601278</td>\n",
       "      <td>0.198326</td>\n",
       "      <td>-0.235878</td>\n",
       "      <td>0.999998</td>\n",
       "      <td>0.590242</td>\n",
       "      <td>0.184308</td>\n",
       "      <td>-0.201262</td>\n",
       "      <td>0.999996</td>\n",
       "      <td>0.589739</td>\n",
       "      <td>...</td>\n",
       "      <td>0.710654</td>\n",
       "      <td>0.927520</td>\n",
       "      <td>0.782778</td>\n",
       "      <td>0.833521</td>\n",
       "      <td>-0.432608</td>\n",
       "      <td>0.989994</td>\n",
       "      <td>148.844804</td>\n",
       "      <td>145.412545</td>\n",
       "      <td>74.905031</td>\n",
       "      <td>-11.005239</td>\n",
       "    </tr>\n",
       "    <tr>\n",
       "      <th>1</th>\n",
       "      <td>0</td>\n",
       "      <td>0.601267</td>\n",
       "      <td>0.198079</td>\n",
       "      <td>-0.254799</td>\n",
       "      <td>0.999998</td>\n",
       "      <td>0.589598</td>\n",
       "      <td>0.184275</td>\n",
       "      <td>-0.218822</td>\n",
       "      <td>0.999996</td>\n",
       "      <td>0.588620</td>\n",
       "      <td>...</td>\n",
       "      <td>0.896839</td>\n",
       "      <td>0.929108</td>\n",
       "      <td>0.783123</td>\n",
       "      <td>0.835375</td>\n",
       "      <td>-0.471473</td>\n",
       "      <td>0.990426</td>\n",
       "      <td>150.284475</td>\n",
       "      <td>142.786141</td>\n",
       "      <td>76.799491</td>\n",
       "      <td>-11.827301</td>\n",
       "    </tr>\n",
       "    <tr>\n",
       "      <th>2</th>\n",
       "      <td>0</td>\n",
       "      <td>0.600804</td>\n",
       "      <td>0.198242</td>\n",
       "      <td>-0.259006</td>\n",
       "      <td>0.999998</td>\n",
       "      <td>0.588814</td>\n",
       "      <td>0.184637</td>\n",
       "      <td>-0.220734</td>\n",
       "      <td>0.999996</td>\n",
       "      <td>0.587811</td>\n",
       "      <td>...</td>\n",
       "      <td>0.861558</td>\n",
       "      <td>0.930360</td>\n",
       "      <td>0.783070</td>\n",
       "      <td>0.836683</td>\n",
       "      <td>-0.499742</td>\n",
       "      <td>0.990811</td>\n",
       "      <td>151.623917</td>\n",
       "      <td>137.905981</td>\n",
       "      <td>80.294751</td>\n",
       "      <td>-12.490950</td>\n",
       "    </tr>\n",
       "    <tr>\n",
       "      <th>3</th>\n",
       "      <td>0</td>\n",
       "      <td>0.600498</td>\n",
       "      <td>0.199202</td>\n",
       "      <td>-0.292625</td>\n",
       "      <td>0.999998</td>\n",
       "      <td>0.588437</td>\n",
       "      <td>0.185353</td>\n",
       "      <td>-0.253640</td>\n",
       "      <td>0.999996</td>\n",
       "      <td>0.587443</td>\n",
       "      <td>...</td>\n",
       "      <td>0.961902</td>\n",
       "      <td>0.930141</td>\n",
       "      <td>0.782209</td>\n",
       "      <td>0.839454</td>\n",
       "      <td>-0.550678</td>\n",
       "      <td>0.991019</td>\n",
       "      <td>153.108802</td>\n",
       "      <td>133.727828</td>\n",
       "      <td>83.352335</td>\n",
       "      <td>-13.019802</td>\n",
       "    </tr>\n",
       "    <tr>\n",
       "      <th>4</th>\n",
       "      <td>0</td>\n",
       "      <td>0.600141</td>\n",
       "      <td>0.200056</td>\n",
       "      <td>-0.308465</td>\n",
       "      <td>0.999998</td>\n",
       "      <td>0.588088</td>\n",
       "      <td>0.185892</td>\n",
       "      <td>-0.269705</td>\n",
       "      <td>0.999996</td>\n",
       "      <td>0.587119</td>\n",
       "      <td>...</td>\n",
       "      <td>0.993053</td>\n",
       "      <td>0.930348</td>\n",
       "      <td>0.781535</td>\n",
       "      <td>0.840811</td>\n",
       "      <td>-0.557838</td>\n",
       "      <td>0.991249</td>\n",
       "      <td>153.862136</td>\n",
       "      <td>132.605864</td>\n",
       "      <td>84.223771</td>\n",
       "      <td>-13.294683</td>\n",
       "    </tr>\n",
       "  </tbody>\n",
       "</table>\n",
       "<p>5 rows × 137 columns</p>\n",
       "</div>"
      ],
      "text/plain": [
       "   labels    nose_x    nose_y    nose_z  nose_vis  left_eye_(inner)_x  \\\n",
       "0       0  0.601278  0.198326 -0.235878  0.999998            0.590242   \n",
       "1       0  0.601267  0.198079 -0.254799  0.999998            0.589598   \n",
       "2       0  0.600804  0.198242 -0.259006  0.999998            0.588814   \n",
       "3       0  0.600498  0.199202 -0.292625  0.999998            0.588437   \n",
       "4       0  0.600141  0.200056 -0.308465  0.999998            0.588088   \n",
       "\n",
       "   left_eye_(inner)_y  left_eye_(inner)_z  left_eye_(inner)_vis  left_eye_x  \\\n",
       "0            0.184308           -0.201262              0.999996    0.589739   \n",
       "1            0.184275           -0.218822              0.999996    0.588620   \n",
       "2            0.184637           -0.220734              0.999996    0.587811   \n",
       "3            0.185353           -0.253640              0.999996    0.587443   \n",
       "4            0.185892           -0.269705              0.999996    0.587119   \n",
       "\n",
       "   ...  left_foot_index_z  left_foot_index_vis  right_foot_index_x  \\\n",
       "0  ...           0.710654             0.927520            0.782778   \n",
       "1  ...           0.896839             0.929108            0.783123   \n",
       "2  ...           0.861558             0.930360            0.783070   \n",
       "3  ...           0.961902             0.930141            0.782209   \n",
       "4  ...           0.993053             0.930348            0.781535   \n",
       "\n",
       "   right_foot_index_y  right_foot_index_z  right_foot_index_vis  \\\n",
       "0            0.833521           -0.432608              0.989994   \n",
       "1            0.835375           -0.471473              0.990426   \n",
       "2            0.836683           -0.499742              0.990811   \n",
       "3            0.839454           -0.550678              0.991019   \n",
       "4            0.840811           -0.557838              0.991249   \n",
       "\n",
       "   right_knee_angle  left_knee_angle  left_shank_angle  right_shank_angle  \n",
       "0        148.844804       145.412545         74.905031         -11.005239  \n",
       "1        150.284475       142.786141         76.799491         -11.827301  \n",
       "2        151.623917       137.905981         80.294751         -12.490950  \n",
       "3        153.108802       133.727828         83.352335         -13.019802  \n",
       "4        153.862136       132.605864         84.223771         -13.294683  \n",
       "\n",
       "[5 rows x 137 columns]"
      ]
     },
     "execution_count": 40,
     "metadata": {},
     "output_type": "execute_result"
    }
   ],
   "source": [
    "df.head()"
   ]
  },
  {
   "cell_type": "markdown",
   "metadata": {},
   "source": [
    "### 3.3.4 Gradient of y position of ankle"
   ]
  },
  {
   "cell_type": "code",
   "execution_count": 41,
   "metadata": {},
   "outputs": [],
   "source": [
    "df['left_ankle_change'] = np.gradient(df['left_ankle_y'])\n",
    "df['right_ankle_change'] = np.gradient(df['right_ankle_y'])"
   ]
  },
  {
   "cell_type": "code",
   "execution_count": 42,
   "metadata": {},
   "outputs": [
    {
     "data": {
      "text/html": [
       "<div>\n",
       "<style scoped>\n",
       "    .dataframe tbody tr th:only-of-type {\n",
       "        vertical-align: middle;\n",
       "    }\n",
       "\n",
       "    .dataframe tbody tr th {\n",
       "        vertical-align: top;\n",
       "    }\n",
       "\n",
       "    .dataframe thead th {\n",
       "        text-align: right;\n",
       "    }\n",
       "</style>\n",
       "<table border=\"1\" class=\"dataframe\">\n",
       "  <thead>\n",
       "    <tr style=\"text-align: right;\">\n",
       "      <th></th>\n",
       "      <th>labels</th>\n",
       "      <th>nose_x</th>\n",
       "      <th>nose_y</th>\n",
       "      <th>nose_z</th>\n",
       "      <th>nose_vis</th>\n",
       "      <th>left_eye_(inner)_x</th>\n",
       "      <th>left_eye_(inner)_y</th>\n",
       "      <th>left_eye_(inner)_z</th>\n",
       "      <th>left_eye_(inner)_vis</th>\n",
       "      <th>left_eye_x</th>\n",
       "      <th>...</th>\n",
       "      <th>right_foot_index_x</th>\n",
       "      <th>right_foot_index_y</th>\n",
       "      <th>right_foot_index_z</th>\n",
       "      <th>right_foot_index_vis</th>\n",
       "      <th>right_knee_angle</th>\n",
       "      <th>left_knee_angle</th>\n",
       "      <th>left_shank_angle</th>\n",
       "      <th>right_shank_angle</th>\n",
       "      <th>left_ankle_change</th>\n",
       "      <th>right_ankle_change</th>\n",
       "    </tr>\n",
       "  </thead>\n",
       "  <tbody>\n",
       "    <tr>\n",
       "      <th>0</th>\n",
       "      <td>0</td>\n",
       "      <td>0.601278</td>\n",
       "      <td>0.198326</td>\n",
       "      <td>-0.235878</td>\n",
       "      <td>0.999998</td>\n",
       "      <td>0.590242</td>\n",
       "      <td>0.184308</td>\n",
       "      <td>-0.201262</td>\n",
       "      <td>0.999996</td>\n",
       "      <td>0.589739</td>\n",
       "      <td>...</td>\n",
       "      <td>0.782778</td>\n",
       "      <td>0.833521</td>\n",
       "      <td>-0.432608</td>\n",
       "      <td>0.989994</td>\n",
       "      <td>148.844804</td>\n",
       "      <td>145.412545</td>\n",
       "      <td>74.905031</td>\n",
       "      <td>-11.005239</td>\n",
       "      <td>-0.006235</td>\n",
       "      <td>0.000107</td>\n",
       "    </tr>\n",
       "    <tr>\n",
       "      <th>1</th>\n",
       "      <td>0</td>\n",
       "      <td>0.601267</td>\n",
       "      <td>0.198079</td>\n",
       "      <td>-0.254799</td>\n",
       "      <td>0.999998</td>\n",
       "      <td>0.589598</td>\n",
       "      <td>0.184275</td>\n",
       "      <td>-0.218822</td>\n",
       "      <td>0.999996</td>\n",
       "      <td>0.588620</td>\n",
       "      <td>...</td>\n",
       "      <td>0.783123</td>\n",
       "      <td>0.835375</td>\n",
       "      <td>-0.471473</td>\n",
       "      <td>0.990426</td>\n",
       "      <td>150.284475</td>\n",
       "      <td>142.786141</td>\n",
       "      <td>76.799491</td>\n",
       "      <td>-11.827301</td>\n",
       "      <td>-0.008410</td>\n",
       "      <td>0.000260</td>\n",
       "    </tr>\n",
       "    <tr>\n",
       "      <th>2</th>\n",
       "      <td>0</td>\n",
       "      <td>0.600804</td>\n",
       "      <td>0.198242</td>\n",
       "      <td>-0.259006</td>\n",
       "      <td>0.999998</td>\n",
       "      <td>0.588814</td>\n",
       "      <td>0.184637</td>\n",
       "      <td>-0.220734</td>\n",
       "      <td>0.999996</td>\n",
       "      <td>0.587811</td>\n",
       "      <td>...</td>\n",
       "      <td>0.783070</td>\n",
       "      <td>0.836683</td>\n",
       "      <td>-0.499742</td>\n",
       "      <td>0.990811</td>\n",
       "      <td>151.623917</td>\n",
       "      <td>137.905981</td>\n",
       "      <td>80.294751</td>\n",
       "      <td>-12.490950</td>\n",
       "      <td>-0.009780</td>\n",
       "      <td>0.001225</td>\n",
       "    </tr>\n",
       "    <tr>\n",
       "      <th>3</th>\n",
       "      <td>0</td>\n",
       "      <td>0.600498</td>\n",
       "      <td>0.199202</td>\n",
       "      <td>-0.292625</td>\n",
       "      <td>0.999998</td>\n",
       "      <td>0.588437</td>\n",
       "      <td>0.185353</td>\n",
       "      <td>-0.253640</td>\n",
       "      <td>0.999996</td>\n",
       "      <td>0.587443</td>\n",
       "      <td>...</td>\n",
       "      <td>0.782209</td>\n",
       "      <td>0.839454</td>\n",
       "      <td>-0.550678</td>\n",
       "      <td>0.991019</td>\n",
       "      <td>153.108802</td>\n",
       "      <td>133.727828</td>\n",
       "      <td>83.352335</td>\n",
       "      <td>-13.019802</td>\n",
       "      <td>-0.005718</td>\n",
       "      <td>0.001342</td>\n",
       "    </tr>\n",
       "    <tr>\n",
       "      <th>4</th>\n",
       "      <td>0</td>\n",
       "      <td>0.600141</td>\n",
       "      <td>0.200056</td>\n",
       "      <td>-0.308465</td>\n",
       "      <td>0.999998</td>\n",
       "      <td>0.588088</td>\n",
       "      <td>0.185892</td>\n",
       "      <td>-0.269705</td>\n",
       "      <td>0.999996</td>\n",
       "      <td>0.587119</td>\n",
       "      <td>...</td>\n",
       "      <td>0.781535</td>\n",
       "      <td>0.840811</td>\n",
       "      <td>-0.557838</td>\n",
       "      <td>0.991249</td>\n",
       "      <td>153.862136</td>\n",
       "      <td>132.605864</td>\n",
       "      <td>84.223771</td>\n",
       "      <td>-13.294683</td>\n",
       "      <td>-0.005575</td>\n",
       "      <td>0.001957</td>\n",
       "    </tr>\n",
       "  </tbody>\n",
       "</table>\n",
       "<p>5 rows × 139 columns</p>\n",
       "</div>"
      ],
      "text/plain": [
       "   labels    nose_x    nose_y    nose_z  nose_vis  left_eye_(inner)_x  \\\n",
       "0       0  0.601278  0.198326 -0.235878  0.999998            0.590242   \n",
       "1       0  0.601267  0.198079 -0.254799  0.999998            0.589598   \n",
       "2       0  0.600804  0.198242 -0.259006  0.999998            0.588814   \n",
       "3       0  0.600498  0.199202 -0.292625  0.999998            0.588437   \n",
       "4       0  0.600141  0.200056 -0.308465  0.999998            0.588088   \n",
       "\n",
       "   left_eye_(inner)_y  left_eye_(inner)_z  left_eye_(inner)_vis  left_eye_x  \\\n",
       "0            0.184308           -0.201262              0.999996    0.589739   \n",
       "1            0.184275           -0.218822              0.999996    0.588620   \n",
       "2            0.184637           -0.220734              0.999996    0.587811   \n",
       "3            0.185353           -0.253640              0.999996    0.587443   \n",
       "4            0.185892           -0.269705              0.999996    0.587119   \n",
       "\n",
       "   ...  right_foot_index_x  right_foot_index_y  right_foot_index_z  \\\n",
       "0  ...            0.782778            0.833521           -0.432608   \n",
       "1  ...            0.783123            0.835375           -0.471473   \n",
       "2  ...            0.783070            0.836683           -0.499742   \n",
       "3  ...            0.782209            0.839454           -0.550678   \n",
       "4  ...            0.781535            0.840811           -0.557838   \n",
       "\n",
       "   right_foot_index_vis  right_knee_angle  left_knee_angle  left_shank_angle  \\\n",
       "0              0.989994        148.844804       145.412545         74.905031   \n",
       "1              0.990426        150.284475       142.786141         76.799491   \n",
       "2              0.990811        151.623917       137.905981         80.294751   \n",
       "3              0.991019        153.108802       133.727828         83.352335   \n",
       "4              0.991249        153.862136       132.605864         84.223771   \n",
       "\n",
       "   right_shank_angle  left_ankle_change  right_ankle_change  \n",
       "0         -11.005239          -0.006235            0.000107  \n",
       "1         -11.827301          -0.008410            0.000260  \n",
       "2         -12.490950          -0.009780            0.001225  \n",
       "3         -13.019802          -0.005718            0.001342  \n",
       "4         -13.294683          -0.005575            0.001957  \n",
       "\n",
       "[5 rows x 139 columns]"
      ]
     },
     "execution_count": 42,
     "metadata": {},
     "output_type": "execute_result"
    }
   ],
   "source": [
    "df.head()"
   ]
  },
  {
   "cell_type": "markdown",
   "metadata": {},
   "source": [
    "### 3.3.5 Ankle to Hip distance"
   ]
  },
  {
   "cell_type": "code",
   "execution_count": 43,
   "metadata": {},
   "outputs": [],
   "source": [
    "# Calculate relative distance between left ankle and left hip\n",
    "df['left_ankle_hip_distance'] = np.sqrt((df['left_ankle_x'] - df['left_hip_x']) ** 2 + \n",
    "                                      (df['left_ankle_y'] - df['left_hip_y']) ** 2)\n",
    "\n",
    "df['right_ankle_hip_distance'] = np.sqrt((df['right_ankle_x'] - df['right_hip_x']) ** 2 + \n",
    "                                      (df['right_ankle_y'] - df['right_hip_y']) ** 2)"
   ]
  },
  {
   "cell_type": "code",
   "execution_count": 44,
   "metadata": {},
   "outputs": [
    {
     "data": {
      "text/html": [
       "<div>\n",
       "<style scoped>\n",
       "    .dataframe tbody tr th:only-of-type {\n",
       "        vertical-align: middle;\n",
       "    }\n",
       "\n",
       "    .dataframe tbody tr th {\n",
       "        vertical-align: top;\n",
       "    }\n",
       "\n",
       "    .dataframe thead th {\n",
       "        text-align: right;\n",
       "    }\n",
       "</style>\n",
       "<table border=\"1\" class=\"dataframe\">\n",
       "  <thead>\n",
       "    <tr style=\"text-align: right;\">\n",
       "      <th></th>\n",
       "      <th>labels</th>\n",
       "      <th>nose_x</th>\n",
       "      <th>nose_y</th>\n",
       "      <th>nose_z</th>\n",
       "      <th>nose_vis</th>\n",
       "      <th>left_eye_(inner)_x</th>\n",
       "      <th>left_eye_(inner)_y</th>\n",
       "      <th>left_eye_(inner)_z</th>\n",
       "      <th>left_eye_(inner)_vis</th>\n",
       "      <th>left_eye_x</th>\n",
       "      <th>...</th>\n",
       "      <th>right_foot_index_z</th>\n",
       "      <th>right_foot_index_vis</th>\n",
       "      <th>right_knee_angle</th>\n",
       "      <th>left_knee_angle</th>\n",
       "      <th>left_shank_angle</th>\n",
       "      <th>right_shank_angle</th>\n",
       "      <th>left_ankle_change</th>\n",
       "      <th>right_ankle_change</th>\n",
       "      <th>left_ankle_hip_distance</th>\n",
       "      <th>right_ankle_hip_distance</th>\n",
       "    </tr>\n",
       "  </thead>\n",
       "  <tbody>\n",
       "    <tr>\n",
       "      <th>0</th>\n",
       "      <td>0</td>\n",
       "      <td>0.601278</td>\n",
       "      <td>0.198326</td>\n",
       "      <td>-0.235878</td>\n",
       "      <td>0.999998</td>\n",
       "      <td>0.590242</td>\n",
       "      <td>0.184308</td>\n",
       "      <td>-0.201262</td>\n",
       "      <td>0.999996</td>\n",
       "      <td>0.589739</td>\n",
       "      <td>...</td>\n",
       "      <td>-0.432608</td>\n",
       "      <td>0.989994</td>\n",
       "      <td>148.844804</td>\n",
       "      <td>145.412545</td>\n",
       "      <td>74.905031</td>\n",
       "      <td>-11.005239</td>\n",
       "      <td>-0.006235</td>\n",
       "      <td>0.000107</td>\n",
       "      <td>0.383488</td>\n",
       "      <td>0.354912</td>\n",
       "    </tr>\n",
       "    <tr>\n",
       "      <th>1</th>\n",
       "      <td>0</td>\n",
       "      <td>0.601267</td>\n",
       "      <td>0.198079</td>\n",
       "      <td>-0.254799</td>\n",
       "      <td>0.999998</td>\n",
       "      <td>0.589598</td>\n",
       "      <td>0.184275</td>\n",
       "      <td>-0.218822</td>\n",
       "      <td>0.999996</td>\n",
       "      <td>0.588620</td>\n",
       "      <td>...</td>\n",
       "      <td>-0.471473</td>\n",
       "      <td>0.990426</td>\n",
       "      <td>150.284475</td>\n",
       "      <td>142.786141</td>\n",
       "      <td>76.799491</td>\n",
       "      <td>-11.827301</td>\n",
       "      <td>-0.008410</td>\n",
       "      <td>0.000260</td>\n",
       "      <td>0.382310</td>\n",
       "      <td>0.354783</td>\n",
       "    </tr>\n",
       "    <tr>\n",
       "      <th>2</th>\n",
       "      <td>0</td>\n",
       "      <td>0.600804</td>\n",
       "      <td>0.198242</td>\n",
       "      <td>-0.259006</td>\n",
       "      <td>0.999998</td>\n",
       "      <td>0.588814</td>\n",
       "      <td>0.184637</td>\n",
       "      <td>-0.220734</td>\n",
       "      <td>0.999996</td>\n",
       "      <td>0.587811</td>\n",
       "      <td>...</td>\n",
       "      <td>-0.499742</td>\n",
       "      <td>0.990811</td>\n",
       "      <td>151.623917</td>\n",
       "      <td>137.905981</td>\n",
       "      <td>80.294751</td>\n",
       "      <td>-12.490950</td>\n",
       "      <td>-0.009780</td>\n",
       "      <td>0.001225</td>\n",
       "      <td>0.379527</td>\n",
       "      <td>0.354754</td>\n",
       "    </tr>\n",
       "    <tr>\n",
       "      <th>3</th>\n",
       "      <td>0</td>\n",
       "      <td>0.600498</td>\n",
       "      <td>0.199202</td>\n",
       "      <td>-0.292625</td>\n",
       "      <td>0.999998</td>\n",
       "      <td>0.588437</td>\n",
       "      <td>0.185353</td>\n",
       "      <td>-0.253640</td>\n",
       "      <td>0.999996</td>\n",
       "      <td>0.587443</td>\n",
       "      <td>...</td>\n",
       "      <td>-0.550678</td>\n",
       "      <td>0.991019</td>\n",
       "      <td>153.108802</td>\n",
       "      <td>133.727828</td>\n",
       "      <td>83.352335</td>\n",
       "      <td>-13.019802</td>\n",
       "      <td>-0.005718</td>\n",
       "      <td>0.001342</td>\n",
       "      <td>0.377349</td>\n",
       "      <td>0.354640</td>\n",
       "    </tr>\n",
       "    <tr>\n",
       "      <th>4</th>\n",
       "      <td>0</td>\n",
       "      <td>0.600141</td>\n",
       "      <td>0.200056</td>\n",
       "      <td>-0.308465</td>\n",
       "      <td>0.999998</td>\n",
       "      <td>0.588088</td>\n",
       "      <td>0.185892</td>\n",
       "      <td>-0.269705</td>\n",
       "      <td>0.999996</td>\n",
       "      <td>0.587119</td>\n",
       "      <td>...</td>\n",
       "      <td>-0.557838</td>\n",
       "      <td>0.991249</td>\n",
       "      <td>153.862136</td>\n",
       "      <td>132.605864</td>\n",
       "      <td>84.223771</td>\n",
       "      <td>-13.294683</td>\n",
       "      <td>-0.005575</td>\n",
       "      <td>0.001957</td>\n",
       "      <td>0.376988</td>\n",
       "      <td>0.354052</td>\n",
       "    </tr>\n",
       "  </tbody>\n",
       "</table>\n",
       "<p>5 rows × 141 columns</p>\n",
       "</div>"
      ],
      "text/plain": [
       "   labels    nose_x    nose_y    nose_z  nose_vis  left_eye_(inner)_x  \\\n",
       "0       0  0.601278  0.198326 -0.235878  0.999998            0.590242   \n",
       "1       0  0.601267  0.198079 -0.254799  0.999998            0.589598   \n",
       "2       0  0.600804  0.198242 -0.259006  0.999998            0.588814   \n",
       "3       0  0.600498  0.199202 -0.292625  0.999998            0.588437   \n",
       "4       0  0.600141  0.200056 -0.308465  0.999998            0.588088   \n",
       "\n",
       "   left_eye_(inner)_y  left_eye_(inner)_z  left_eye_(inner)_vis  left_eye_x  \\\n",
       "0            0.184308           -0.201262              0.999996    0.589739   \n",
       "1            0.184275           -0.218822              0.999996    0.588620   \n",
       "2            0.184637           -0.220734              0.999996    0.587811   \n",
       "3            0.185353           -0.253640              0.999996    0.587443   \n",
       "4            0.185892           -0.269705              0.999996    0.587119   \n",
       "\n",
       "   ...  right_foot_index_z  right_foot_index_vis  right_knee_angle  \\\n",
       "0  ...           -0.432608              0.989994        148.844804   \n",
       "1  ...           -0.471473              0.990426        150.284475   \n",
       "2  ...           -0.499742              0.990811        151.623917   \n",
       "3  ...           -0.550678              0.991019        153.108802   \n",
       "4  ...           -0.557838              0.991249        153.862136   \n",
       "\n",
       "   left_knee_angle  left_shank_angle  right_shank_angle  left_ankle_change  \\\n",
       "0       145.412545         74.905031         -11.005239          -0.006235   \n",
       "1       142.786141         76.799491         -11.827301          -0.008410   \n",
       "2       137.905981         80.294751         -12.490950          -0.009780   \n",
       "3       133.727828         83.352335         -13.019802          -0.005718   \n",
       "4       132.605864         84.223771         -13.294683          -0.005575   \n",
       "\n",
       "   right_ankle_change  left_ankle_hip_distance  right_ankle_hip_distance  \n",
       "0            0.000107                 0.383488                  0.354912  \n",
       "1            0.000260                 0.382310                  0.354783  \n",
       "2            0.001225                 0.379527                  0.354754  \n",
       "3            0.001342                 0.377349                  0.354640  \n",
       "4            0.001957                 0.376988                  0.354052  \n",
       "\n",
       "[5 rows x 141 columns]"
      ]
     },
     "execution_count": 44,
     "metadata": {},
     "output_type": "execute_result"
    }
   ],
   "source": [
    "df.head()"
   ]
  },
  {
   "cell_type": "code",
   "execution_count": 45,
   "metadata": {},
   "outputs": [
    {
     "name": "stdout",
     "output_type": "stream",
     "text": [
      "Index(['labels', 'nose_x', 'nose_y', 'nose_z', 'nose_vis',\n",
      "       'left_eye_(inner)_x', 'left_eye_(inner)_y', 'left_eye_(inner)_z',\n",
      "       'left_eye_(inner)_vis', 'left_eye_x',\n",
      "       ...\n",
      "       'right_foot_index_z', 'right_foot_index_vis', 'right_knee_angle',\n",
      "       'left_knee_angle', 'left_shank_angle', 'right_shank_angle',\n",
      "       'left_ankle_change', 'right_ankle_change', 'left_ankle_hip_distance',\n",
      "       'right_ankle_hip_distance'],\n",
      "      dtype='object', length=141)\n"
     ]
    }
   ],
   "source": [
    "print(df.columns)"
   ]
  },
  {
   "cell_type": "markdown",
   "metadata": {},
   "source": [
    "### 3.3.6 Drop columns that contain face data"
   ]
  },
  {
   "cell_type": "code",
   "execution_count": 46,
   "metadata": {},
   "outputs": [
    {
     "data": {
      "text/plain": [
       "Index(['labels', 'nose_x', 'nose_y', 'nose_z', 'nose_vis',\n",
       "       'left_eye_(inner)_x', 'left_eye_(inner)_y', 'left_eye_(inner)_z',\n",
       "       'left_eye_(inner)_vis', 'left_eye_x', 'left_eye_y', 'left_eye_z',\n",
       "       'left_eye_vis', 'left_eye_(outer)_x', 'left_eye_(outer)_y',\n",
       "       'left_eye_(outer)_z', 'left_eye_(outer)_vis', 'right_eye_(inner)_x',\n",
       "       'right_eye_(inner)_y', 'right_eye_(inner)_z', 'right_eye_(inner)_vis',\n",
       "       'right_eye_x', 'right_eye_y', 'right_eye_z', 'right_eye_vis',\n",
       "       'right_eye_(outer)_x', 'right_eye_(outer)_y', 'right_eye_(outer)_z',\n",
       "       'right_eye_(outer)_vis', 'left_ear_x', 'left_ear_y', 'left_ear_z',\n",
       "       'left_ear_vis', 'right_ear_x', 'right_ear_y', 'right_ear_z',\n",
       "       'right_ear_vis', 'mouth_(left)_x', 'mouth_(left)_y', 'mouth_(left)_z',\n",
       "       'mouth_(left)_vis', 'mouth_(right)_x', 'mouth_(right)_y',\n",
       "       'mouth_(right)_z', 'mouth_(right)_vis'],\n",
       "      dtype='object')"
      ]
     },
     "execution_count": 46,
     "metadata": {},
     "output_type": "execute_result"
    }
   ],
   "source": [
    "df.columns[0:45]"
   ]
  },
  {
   "cell_type": "code",
   "execution_count": 47,
   "metadata": {},
   "outputs": [],
   "source": [
    "# Dropping all columns that include face data\n",
    "df.drop(df.columns[1:45], axis=1, inplace=True)"
   ]
  },
  {
   "cell_type": "code",
   "execution_count": 48,
   "metadata": {},
   "outputs": [
    {
     "data": {
      "text/plain": [
       "Index(['labels', 'left_shoulder_x', 'left_shoulder_y', 'left_shoulder_z',\n",
       "       'left_shoulder_vis', 'right_shoulder_x', 'right_shoulder_y',\n",
       "       'right_shoulder_z', 'right_shoulder_vis', 'left_elbow_x',\n",
       "       'left_elbow_y', 'left_elbow_z', 'left_elbow_vis', 'right_elbow_x',\n",
       "       'right_elbow_y', 'right_elbow_z', 'right_elbow_vis', 'left_wrist_x',\n",
       "       'left_wrist_y', 'left_wrist_z', 'left_wrist_vis', 'right_wrist_x',\n",
       "       'right_wrist_y', 'right_wrist_z', 'right_wrist_vis', 'left_pinky_x',\n",
       "       'left_pinky_y', 'left_pinky_z', 'left_pinky_vis', 'right_pinky_x',\n",
       "       'right_pinky_y', 'right_pinky_z', 'right_pinky_vis', 'left_index_x',\n",
       "       'left_index_y', 'left_index_z', 'left_index_vis', 'right_index_x',\n",
       "       'right_index_y', 'right_index_z', 'right_index_vis', 'left_thumb_x',\n",
       "       'left_thumb_y', 'left_thumb_z', 'left_thumb_vis', 'right_thumb_x',\n",
       "       'right_thumb_y', 'right_thumb_z', 'right_thumb_vis', 'left_hip_x',\n",
       "       'left_hip_y', 'left_hip_z', 'left_hip_vis', 'right_hip_x',\n",
       "       'right_hip_y', 'right_hip_z', 'right_hip_vis', 'left_knee_x',\n",
       "       'left_knee_y', 'left_knee_z', 'left_knee_vis', 'right_knee_x',\n",
       "       'right_knee_y', 'right_knee_z', 'right_knee_vis', 'left_ankle_x',\n",
       "       'left_ankle_y', 'left_ankle_z', 'left_ankle_vis', 'right_ankle_x',\n",
       "       'right_ankle_y', 'right_ankle_z', 'right_ankle_vis', 'left_heel_x',\n",
       "       'left_heel_y', 'left_heel_z', 'left_heel_vis', 'right_heel_x',\n",
       "       'right_heel_y', 'right_heel_z', 'right_heel_vis', 'left_foot_index_x',\n",
       "       'left_foot_index_y', 'left_foot_index_z', 'left_foot_index_vis',\n",
       "       'right_foot_index_x', 'right_foot_index_y', 'right_foot_index_z',\n",
       "       'right_foot_index_vis', 'right_knee_angle', 'left_knee_angle',\n",
       "       'left_shank_angle', 'right_shank_angle', 'left_ankle_change',\n",
       "       'right_ankle_change', 'left_ankle_hip_distance',\n",
       "       'right_ankle_hip_distance'],\n",
       "      dtype='object')"
      ]
     },
     "execution_count": 48,
     "metadata": {},
     "output_type": "execute_result"
    }
   ],
   "source": [
    "df.columns"
   ]
  },
  {
   "cell_type": "code",
   "execution_count": 49,
   "metadata": {},
   "outputs": [],
   "source": [
    "def calculate_lean_angle(df, a, b):\n",
    "    a_x = a + '_x'\n",
    "    a_y = a + '_y'\n",
    "    b_x = b + '_x'\n",
    "    b_y = b + '_y'\n",
    "\n",
    "    radians = np.arctan2(0 - df[b_y].values, df[b_x].values - df[b_x].values) - \\\n",
    "              np.arctan2(df[a_y].values - df[b_y].values, df[a_x].values - df[b_x].values)\n",
    "    angles = np.abs(radians * 180.0 / np.pi)\n",
    "\n",
    "    # Adjust angles greater than 180 degrees\n",
    "    angles = np.where(angles > 180.0, 360 - angles, angles)\n",
    "\n",
    "    return angles"
   ]
  },
  {
   "cell_type": "code",
   "execution_count": 50,
   "metadata": {},
   "outputs": [],
   "source": [
    "df['left_lean_angle'] = calculate_lean_angle(df, 'left_shoulder', 'left_hip')\n",
    "df['right_lean_angle'] = calculate_lean_angle(df, 'right_shoulder', 'right_hip')"
   ]
  },
  {
   "cell_type": "code",
   "execution_count": 51,
   "metadata": {},
   "outputs": [
    {
     "data": {
      "text/html": [
       "<div>\n",
       "<style scoped>\n",
       "    .dataframe tbody tr th:only-of-type {\n",
       "        vertical-align: middle;\n",
       "    }\n",
       "\n",
       "    .dataframe tbody tr th {\n",
       "        vertical-align: top;\n",
       "    }\n",
       "\n",
       "    .dataframe thead th {\n",
       "        text-align: right;\n",
       "    }\n",
       "</style>\n",
       "<table border=\"1\" class=\"dataframe\">\n",
       "  <thead>\n",
       "    <tr style=\"text-align: right;\">\n",
       "      <th></th>\n",
       "      <th>labels</th>\n",
       "      <th>left_shoulder_x</th>\n",
       "      <th>left_shoulder_y</th>\n",
       "      <th>left_shoulder_z</th>\n",
       "      <th>left_shoulder_vis</th>\n",
       "      <th>right_shoulder_x</th>\n",
       "      <th>right_shoulder_y</th>\n",
       "      <th>right_shoulder_z</th>\n",
       "      <th>right_shoulder_vis</th>\n",
       "      <th>left_elbow_x</th>\n",
       "      <th>...</th>\n",
       "      <th>right_knee_angle</th>\n",
       "      <th>left_knee_angle</th>\n",
       "      <th>left_shank_angle</th>\n",
       "      <th>right_shank_angle</th>\n",
       "      <th>left_ankle_change</th>\n",
       "      <th>right_ankle_change</th>\n",
       "      <th>left_ankle_hip_distance</th>\n",
       "      <th>right_ankle_hip_distance</th>\n",
       "      <th>left_lean_angle</th>\n",
       "      <th>right_lean_angle</th>\n",
       "    </tr>\n",
       "  </thead>\n",
       "  <tbody>\n",
       "    <tr>\n",
       "      <th>0</th>\n",
       "      <td>0</td>\n",
       "      <td>0.557416</td>\n",
       "      <td>0.283308</td>\n",
       "      <td>0.277563</td>\n",
       "      <td>0.999946</td>\n",
       "      <td>0.431698</td>\n",
       "      <td>0.266652</td>\n",
       "      <td>-0.483307</td>\n",
       "      <td>0.999999</td>\n",
       "      <td>0.561411</td>\n",
       "      <td>...</td>\n",
       "      <td>148.844804</td>\n",
       "      <td>145.412545</td>\n",
       "      <td>74.905031</td>\n",
       "      <td>-11.005239</td>\n",
       "      <td>-0.006235</td>\n",
       "      <td>0.000107</td>\n",
       "      <td>0.383488</td>\n",
       "      <td>0.354912</td>\n",
       "      <td>8.146083</td>\n",
       "      <td>12.721786</td>\n",
       "    </tr>\n",
       "    <tr>\n",
       "      <th>1</th>\n",
       "      <td>0</td>\n",
       "      <td>0.557928</td>\n",
       "      <td>0.283318</td>\n",
       "      <td>0.277466</td>\n",
       "      <td>0.999946</td>\n",
       "      <td>0.432049</td>\n",
       "      <td>0.266151</td>\n",
       "      <td>-0.515581</td>\n",
       "      <td>0.999999</td>\n",
       "      <td>0.563095</td>\n",
       "      <td>...</td>\n",
       "      <td>150.284475</td>\n",
       "      <td>142.786141</td>\n",
       "      <td>76.799491</td>\n",
       "      <td>-11.827301</td>\n",
       "      <td>-0.008410</td>\n",
       "      <td>0.000260</td>\n",
       "      <td>0.382310</td>\n",
       "      <td>0.354783</td>\n",
       "      <td>7.478782</td>\n",
       "      <td>12.675093</td>\n",
       "    </tr>\n",
       "    <tr>\n",
       "      <th>2</th>\n",
       "      <td>0</td>\n",
       "      <td>0.558076</td>\n",
       "      <td>0.283247</td>\n",
       "      <td>0.298320</td>\n",
       "      <td>0.999947</td>\n",
       "      <td>0.432660</td>\n",
       "      <td>0.266129</td>\n",
       "      <td>-0.483504</td>\n",
       "      <td>0.999999</td>\n",
       "      <td>0.563272</td>\n",
       "      <td>...</td>\n",
       "      <td>151.623917</td>\n",
       "      <td>137.905981</td>\n",
       "      <td>80.294751</td>\n",
       "      <td>-12.490950</td>\n",
       "      <td>-0.009780</td>\n",
       "      <td>0.001225</td>\n",
       "      <td>0.379527</td>\n",
       "      <td>0.354754</td>\n",
       "      <td>6.579277</td>\n",
       "      <td>12.483551</td>\n",
       "    </tr>\n",
       "    <tr>\n",
       "      <th>3</th>\n",
       "      <td>0</td>\n",
       "      <td>0.558303</td>\n",
       "      <td>0.283237</td>\n",
       "      <td>0.289210</td>\n",
       "      <td>0.999948</td>\n",
       "      <td>0.432731</td>\n",
       "      <td>0.267165</td>\n",
       "      <td>-0.481804</td>\n",
       "      <td>0.999999</td>\n",
       "      <td>0.563108</td>\n",
       "      <td>...</td>\n",
       "      <td>153.108802</td>\n",
       "      <td>133.727828</td>\n",
       "      <td>83.352335</td>\n",
       "      <td>-13.019802</td>\n",
       "      <td>-0.005718</td>\n",
       "      <td>0.001342</td>\n",
       "      <td>0.377349</td>\n",
       "      <td>0.354640</td>\n",
       "      <td>5.478205</td>\n",
       "      <td>12.386663</td>\n",
       "    </tr>\n",
       "    <tr>\n",
       "      <th>4</th>\n",
       "      <td>0</td>\n",
       "      <td>0.558609</td>\n",
       "      <td>0.283267</td>\n",
       "      <td>0.278380</td>\n",
       "      <td>0.999950</td>\n",
       "      <td>0.432776</td>\n",
       "      <td>0.267947</td>\n",
       "      <td>-0.481946</td>\n",
       "      <td>0.999999</td>\n",
       "      <td>0.562955</td>\n",
       "      <td>...</td>\n",
       "      <td>153.862136</td>\n",
       "      <td>132.605864</td>\n",
       "      <td>84.223771</td>\n",
       "      <td>-13.294683</td>\n",
       "      <td>-0.005575</td>\n",
       "      <td>0.001957</td>\n",
       "      <td>0.376988</td>\n",
       "      <td>0.354052</td>\n",
       "      <td>5.001954</td>\n",
       "      <td>12.330600</td>\n",
       "    </tr>\n",
       "  </tbody>\n",
       "</table>\n",
       "<p>5 rows × 99 columns</p>\n",
       "</div>"
      ],
      "text/plain": [
       "   labels  left_shoulder_x  left_shoulder_y  left_shoulder_z  \\\n",
       "0       0         0.557416         0.283308         0.277563   \n",
       "1       0         0.557928         0.283318         0.277466   \n",
       "2       0         0.558076         0.283247         0.298320   \n",
       "3       0         0.558303         0.283237         0.289210   \n",
       "4       0         0.558609         0.283267         0.278380   \n",
       "\n",
       "   left_shoulder_vis  right_shoulder_x  right_shoulder_y  right_shoulder_z  \\\n",
       "0           0.999946          0.431698          0.266652         -0.483307   \n",
       "1           0.999946          0.432049          0.266151         -0.515581   \n",
       "2           0.999947          0.432660          0.266129         -0.483504   \n",
       "3           0.999948          0.432731          0.267165         -0.481804   \n",
       "4           0.999950          0.432776          0.267947         -0.481946   \n",
       "\n",
       "   right_shoulder_vis  left_elbow_x  ...  right_knee_angle  left_knee_angle  \\\n",
       "0            0.999999      0.561411  ...        148.844804       145.412545   \n",
       "1            0.999999      0.563095  ...        150.284475       142.786141   \n",
       "2            0.999999      0.563272  ...        151.623917       137.905981   \n",
       "3            0.999999      0.563108  ...        153.108802       133.727828   \n",
       "4            0.999999      0.562955  ...        153.862136       132.605864   \n",
       "\n",
       "   left_shank_angle  right_shank_angle  left_ankle_change  right_ankle_change  \\\n",
       "0         74.905031         -11.005239          -0.006235            0.000107   \n",
       "1         76.799491         -11.827301          -0.008410            0.000260   \n",
       "2         80.294751         -12.490950          -0.009780            0.001225   \n",
       "3         83.352335         -13.019802          -0.005718            0.001342   \n",
       "4         84.223771         -13.294683          -0.005575            0.001957   \n",
       "\n",
       "   left_ankle_hip_distance  right_ankle_hip_distance  left_lean_angle  \\\n",
       "0                 0.383488                  0.354912         8.146083   \n",
       "1                 0.382310                  0.354783         7.478782   \n",
       "2                 0.379527                  0.354754         6.579277   \n",
       "3                 0.377349                  0.354640         5.478205   \n",
       "4                 0.376988                  0.354052         5.001954   \n",
       "\n",
       "   right_lean_angle  \n",
       "0         12.721786  \n",
       "1         12.675093  \n",
       "2         12.483551  \n",
       "3         12.386663  \n",
       "4         12.330600  \n",
       "\n",
       "[5 rows x 99 columns]"
      ]
     },
     "execution_count": 51,
     "metadata": {},
     "output_type": "execute_result"
    }
   ],
   "source": [
    "df.head()"
   ]
  },
  {
   "cell_type": "code",
   "execution_count": 52,
   "metadata": {},
   "outputs": [
    {
     "data": {
      "text/plain": [
       "Index(['labels', 'left_shoulder_x', 'left_shoulder_y', 'left_shoulder_z',\n",
       "       'left_shoulder_vis', 'right_shoulder_x', 'right_shoulder_y',\n",
       "       'right_shoulder_z', 'right_shoulder_vis', 'left_elbow_x',\n",
       "       'left_elbow_y', 'left_elbow_z', 'left_elbow_vis', 'right_elbow_x',\n",
       "       'right_elbow_y', 'right_elbow_z', 'right_elbow_vis', 'left_wrist_x',\n",
       "       'left_wrist_y', 'left_wrist_z', 'left_wrist_vis', 'right_wrist_x',\n",
       "       'right_wrist_y', 'right_wrist_z', 'right_wrist_vis', 'left_pinky_x',\n",
       "       'left_pinky_y', 'left_pinky_z', 'left_pinky_vis', 'right_pinky_x',\n",
       "       'right_pinky_y', 'right_pinky_z', 'right_pinky_vis', 'left_index_x',\n",
       "       'left_index_y', 'left_index_z', 'left_index_vis', 'right_index_x',\n",
       "       'right_index_y', 'right_index_z', 'right_index_vis', 'left_thumb_x',\n",
       "       'left_thumb_y', 'left_thumb_z', 'left_thumb_vis', 'right_thumb_x',\n",
       "       'right_thumb_y', 'right_thumb_z', 'right_thumb_vis', 'left_hip_x',\n",
       "       'left_hip_y', 'left_hip_z', 'left_hip_vis', 'right_hip_x',\n",
       "       'right_hip_y', 'right_hip_z', 'right_hip_vis', 'left_knee_x',\n",
       "       'left_knee_y', 'left_knee_z', 'left_knee_vis', 'right_knee_x',\n",
       "       'right_knee_y', 'right_knee_z', 'right_knee_vis', 'left_ankle_x',\n",
       "       'left_ankle_y', 'left_ankle_z', 'left_ankle_vis', 'right_ankle_x',\n",
       "       'right_ankle_y', 'right_ankle_z', 'right_ankle_vis', 'left_heel_x',\n",
       "       'left_heel_y', 'left_heel_z', 'left_heel_vis', 'right_heel_x',\n",
       "       'right_heel_y', 'right_heel_z', 'right_heel_vis', 'left_foot_index_x',\n",
       "       'left_foot_index_y', 'left_foot_index_z', 'left_foot_index_vis',\n",
       "       'right_foot_index_x', 'right_foot_index_y', 'right_foot_index_z',\n",
       "       'right_foot_index_vis', 'right_knee_angle', 'left_knee_angle',\n",
       "       'left_shank_angle', 'right_shank_angle', 'left_ankle_change',\n",
       "       'right_ankle_change', 'left_ankle_hip_distance',\n",
       "       'right_ankle_hip_distance', 'left_lean_angle', 'right_lean_angle'],\n",
       "      dtype='object')"
      ]
     },
     "execution_count": 52,
     "metadata": {},
     "output_type": "execute_result"
    }
   ],
   "source": [
    "df.columns"
   ]
  },
  {
   "cell_type": "markdown",
   "metadata": {},
   "source": [
    "# 4 Preparing Data for Modelling"
   ]
  },
  {
   "cell_type": "markdown",
   "metadata": {},
   "source": [
    "### 4.1 Train-Test-Val Split"
   ]
  },
  {
   "cell_type": "markdown",
   "metadata": {},
   "source": [
    "We will be splitting our data into 60% Train, 20% Test and 20% Validation. The Train and Validation data will be used to train our model while the 20% Test data will be the 'unseen' data from the model to test real implementation accuracy."
   ]
  },
  {
   "cell_type": "code",
   "execution_count": 53,
   "metadata": {},
   "outputs": [],
   "source": [
    "# Set X and y variables\n",
    "\n",
    "X = df.drop(columns = 'labels')\n",
    "y = df['labels']"
   ]
  },
  {
   "cell_type": "code",
   "execution_count": 54,
   "metadata": {},
   "outputs": [
    {
     "name": "stdout",
     "output_type": "stream",
     "text": [
      "(15996, 98)\n",
      "(15996,)\n"
     ]
    }
   ],
   "source": [
    "# Check that X and y variables have the correct number of rows and columns\n",
    "\n",
    "print(X.shape)\n",
    "print(y.shape)"
   ]
  },
  {
   "cell_type": "code",
   "execution_count": 55,
   "metadata": {},
   "outputs": [],
   "source": [
    "# Define the sequence length\n",
    "sequence_length = 258\n",
    "\n",
    "# Calculate the number of sequences that can be formed\n",
    "num_sequences = X.shape[0] // sequence_length\n",
    "\n",
    "# Reshape features and labels into sequences\n",
    "X_sequences = np.array([X.iloc[i:i+sequence_length, :].values for i in range(0, X.shape[0] - sequence_length + 1, sequence_length)])\n",
    "y_sequences = np.array([y.iloc[i:i+sequence_length].values for i in range(0, y.shape[0] - sequence_length + 1, sequence_length)])"
   ]
  },
  {
   "cell_type": "code",
   "execution_count": 56,
   "metadata": {},
   "outputs": [],
   "source": [
    "# Split the data into train, validation, and test sets with stratification\n",
    "X_train_val, X_test, y_train_val, y_test = train_test_split(\n",
    "    X_sequences, y_sequences, test_size=0.2, stratify=y_sequences, random_state=42)\n",
    "\n",
    "X_train, X_val, y_train, y_val = train_test_split(\n",
    "    X_train_val, y_train_val, test_size=0.25, stratify=y_train_val, random_state=42)  # 0.25 x 0.8 = 0.2 (validation size)"
   ]
  },
  {
   "cell_type": "code",
   "execution_count": 57,
   "metadata": {},
   "outputs": [
    {
     "name": "stdout",
     "output_type": "stream",
     "text": [
      "Train shapes: (36, 258, 98) (36, 258)\n",
      "Validation shapes: (13, 258, 98) (13, 258)\n",
      "Test shapes: (13, 258, 98) (13, 258)\n"
     ]
    }
   ],
   "source": [
    "# Print the shapes of the splits for verification\n",
    "print(\"Train shapes:\", X_train.shape, y_train.shape)\n",
    "print(\"Validation shapes:\", X_val.shape, y_val.shape)\n",
    "print(\"Test shapes:\", X_test.shape, y_test.shape)"
   ]
  },
  {
   "cell_type": "code",
   "execution_count": 83,
   "metadata": {},
   "outputs": [],
   "source": [
    "# Define label names\n",
    "# Currently in the dataframe, 0 represents no_overstride and 1 represents overstride\n",
    "\n",
    "label_names = ['overstride', 'no overstride']"
   ]
  },
  {
   "cell_type": "code",
   "execution_count": 84,
   "metadata": {},
   "outputs": [
    {
     "data": {
      "text/plain": [
       "{'overstride': 0, 'no overstride': 1}"
      ]
     },
     "execution_count": 84,
     "metadata": {},
     "output_type": "execute_result"
    }
   ],
   "source": [
    "# create a dictionary to store integer values for our classes\n",
    "label_map = {label:num for num, label in enumerate(np.array(label_names))}\n",
    "label_map"
   ]
  },
  {
   "cell_type": "markdown",
   "metadata": {},
   "source": [
    "### 4.2 Scale data"
   ]
  },
  {
   "cell_type": "code",
   "execution_count": 58,
   "metadata": {},
   "outputs": [
    {
     "data": {
      "text/html": [
       "<style>#sk-container-id-1 {color: black;}#sk-container-id-1 pre{padding: 0;}#sk-container-id-1 div.sk-toggleable {background-color: white;}#sk-container-id-1 label.sk-toggleable__label {cursor: pointer;display: block;width: 100%;margin-bottom: 0;padding: 0.3em;box-sizing: border-box;text-align: center;}#sk-container-id-1 label.sk-toggleable__label-arrow:before {content: \"▸\";float: left;margin-right: 0.25em;color: #696969;}#sk-container-id-1 label.sk-toggleable__label-arrow:hover:before {color: black;}#sk-container-id-1 div.sk-estimator:hover label.sk-toggleable__label-arrow:before {color: black;}#sk-container-id-1 div.sk-toggleable__content {max-height: 0;max-width: 0;overflow: hidden;text-align: left;background-color: #f0f8ff;}#sk-container-id-1 div.sk-toggleable__content pre {margin: 0.2em;color: black;border-radius: 0.25em;background-color: #f0f8ff;}#sk-container-id-1 input.sk-toggleable__control:checked~div.sk-toggleable__content {max-height: 200px;max-width: 100%;overflow: auto;}#sk-container-id-1 input.sk-toggleable__control:checked~label.sk-toggleable__label-arrow:before {content: \"▾\";}#sk-container-id-1 div.sk-estimator input.sk-toggleable__control:checked~label.sk-toggleable__label {background-color: #d4ebff;}#sk-container-id-1 div.sk-label input.sk-toggleable__control:checked~label.sk-toggleable__label {background-color: #d4ebff;}#sk-container-id-1 input.sk-hidden--visually {border: 0;clip: rect(1px 1px 1px 1px);clip: rect(1px, 1px, 1px, 1px);height: 1px;margin: -1px;overflow: hidden;padding: 0;position: absolute;width: 1px;}#sk-container-id-1 div.sk-estimator {font-family: monospace;background-color: #f0f8ff;border: 1px dotted black;border-radius: 0.25em;box-sizing: border-box;margin-bottom: 0.5em;}#sk-container-id-1 div.sk-estimator:hover {background-color: #d4ebff;}#sk-container-id-1 div.sk-parallel-item::after {content: \"\";width: 100%;border-bottom: 1px solid gray;flex-grow: 1;}#sk-container-id-1 div.sk-label:hover label.sk-toggleable__label {background-color: #d4ebff;}#sk-container-id-1 div.sk-serial::before {content: \"\";position: absolute;border-left: 1px solid gray;box-sizing: border-box;top: 0;bottom: 0;left: 50%;z-index: 0;}#sk-container-id-1 div.sk-serial {display: flex;flex-direction: column;align-items: center;background-color: white;padding-right: 0.2em;padding-left: 0.2em;position: relative;}#sk-container-id-1 div.sk-item {position: relative;z-index: 1;}#sk-container-id-1 div.sk-parallel {display: flex;align-items: stretch;justify-content: center;background-color: white;position: relative;}#sk-container-id-1 div.sk-item::before, #sk-container-id-1 div.sk-parallel-item::before {content: \"\";position: absolute;border-left: 1px solid gray;box-sizing: border-box;top: 0;bottom: 0;left: 50%;z-index: -1;}#sk-container-id-1 div.sk-parallel-item {display: flex;flex-direction: column;z-index: 1;position: relative;background-color: white;}#sk-container-id-1 div.sk-parallel-item:first-child::after {align-self: flex-end;width: 50%;}#sk-container-id-1 div.sk-parallel-item:last-child::after {align-self: flex-start;width: 50%;}#sk-container-id-1 div.sk-parallel-item:only-child::after {width: 0;}#sk-container-id-1 div.sk-dashed-wrapped {border: 1px dashed gray;margin: 0 0.4em 0.5em 0.4em;box-sizing: border-box;padding-bottom: 0.4em;background-color: white;}#sk-container-id-1 div.sk-label label {font-family: monospace;font-weight: bold;display: inline-block;line-height: 1.2em;}#sk-container-id-1 div.sk-label-container {text-align: center;}#sk-container-id-1 div.sk-container {/* jupyter's `normalize.less` sets `[hidden] { display: none; }` but bootstrap.min.css set `[hidden] { display: none !important; }` so we also need the `!important` here to be able to override the default hidden behavior on the sphinx rendered scikit-learn.org. See: https://github.com/scikit-learn/scikit-learn/issues/21755 */display: inline-block !important;position: relative;}#sk-container-id-1 div.sk-text-repr-fallback {display: none;}</style><div id=\"sk-container-id-1\" class=\"sk-top-container\"><div class=\"sk-text-repr-fallback\"><pre>StandardScaler()</pre><b>In a Jupyter environment, please rerun this cell to show the HTML representation or trust the notebook. <br />On GitHub, the HTML representation is unable to render, please try loading this page with nbviewer.org.</b></div><div class=\"sk-container\" hidden><div class=\"sk-item\"><div class=\"sk-estimator sk-toggleable\"><input class=\"sk-toggleable__control sk-hidden--visually\" id=\"sk-estimator-id-1\" type=\"checkbox\" checked><label for=\"sk-estimator-id-1\" class=\"sk-toggleable__label sk-toggleable__label-arrow\">StandardScaler</label><div class=\"sk-toggleable__content\"><pre>StandardScaler()</pre></div></div></div></div></div>"
      ],
      "text/plain": [
       "StandardScaler()"
      ]
     },
     "execution_count": 58,
     "metadata": {},
     "output_type": "execute_result"
    }
   ],
   "source": [
    "# Initialize StandardScaler\n",
    "ss = StandardScaler()\n",
    "\n",
    "# We need to reshape the data to 2D for scaling and then reshape back to 3D\n",
    "X_train_reshaped = X_train.reshape(-1, X_train.shape[-1])\n",
    "\n",
    "ss.fit(X_train_reshaped)"
   ]
  },
  {
   "cell_type": "code",
   "execution_count": null,
   "metadata": {},
   "outputs": [],
   "source": [
    "with open('../models/scaler.pkl', 'wb') as f:\n",
    "    pickle.dump(ss, f)"
   ]
  },
  {
   "cell_type": "code",
   "execution_count": 59,
   "metadata": {},
   "outputs": [],
   "source": [
    "# Transform the training, validation, and test data using the fitted scaler\n",
    "X_train_scaled = ss.transform(X_train_reshaped).reshape(X_train.shape)\n",
    "X_val_scaled = ss.transform(X_val.reshape(-1, X_val.shape[-1])).reshape(X_val.shape)\n",
    "X_test_scaled = ss.transform(X_test.reshape(-1, X_test.shape[-1])).reshape(X_test.shape)"
   ]
  },
  {
   "cell_type": "code",
   "execution_count": 60,
   "metadata": {},
   "outputs": [
    {
     "name": "stdout",
     "output_type": "stream",
     "text": [
      "Scaled Train shapes: (36, 258, 98)\n",
      "Scaled Validation shapes: (13, 258, 98)\n",
      "Scaled Test shapes: (13, 258, 98)\n"
     ]
    }
   ],
   "source": [
    "# Print the shapes of the scaled splits for verification\n",
    "print(\"Scaled Train shapes:\", X_train_scaled.shape)\n",
    "print(\"Scaled Validation shapes:\", X_val_scaled.shape)\n",
    "print(\"Scaled Test shapes:\", X_test_scaled.shape)"
   ]
  },
  {
   "cell_type": "markdown",
   "metadata": {},
   "source": [
    "# 5. Modelling"
   ]
  },
  {
   "cell_type": "markdown",
   "metadata": {},
   "source": [
    "I will be mainly using 2 types of neural networks to build my model architectures, namely LSTM and 1D CNNs as the data's sequential order is important for the model to be trained on.\n",
    "\n",
    "1. LSTMs are an evolution of RNNs, which were mainly used to train sequential data. However due to RNN's mathematical function, updating the gradients after learning the data from each row will lead to either a vanishing or exploding gradient problem. LSTMs are able to understand short-term and update long-term memories for the model to learn the importance of each feature with properly scaled gradients. \n",
    "\n",
    "2. Convolutional 1D layers are effective at detecting local patterns within sequential data (within each row), such as changes in angles, distances or body part movements over timesteps. While our data is shaped like a 2d frame, it is not the same as how image data is represented, if a conv2d layer was used, there will be a misalignment with the data structure and the convolution of data will be a misrepresentation of the features."
   ]
  },
  {
   "cell_type": "code",
   "execution_count": 146,
   "metadata": {},
   "outputs": [],
   "source": [
    "# Setting random seed for Neural Network models to reproduce standard results with each run\n",
    "def set_seed(seed_value=42):\n",
    "    os.environ['PYTHONHASHSEED'] = str(seed_value)\n",
    "    random.seed(seed_value)\n",
    "    np.random.seed(seed_value)\n",
    "    tf.random.set_seed(seed_value)"
   ]
  },
  {
   "cell_type": "markdown",
   "metadata": {},
   "source": [
    "## 5.1 LSTM with Dropout"
   ]
  },
  {
   "cell_type": "markdown",
   "metadata": {},
   "source": [
    "### 5.1.1 Model Architecture"
   ]
  },
  {
   "cell_type": "code",
   "execution_count": 102,
   "metadata": {},
   "outputs": [
    {
     "name": "stderr",
     "output_type": "stream",
     "text": [
      "WARNING:absl:At this time, the v2.11+ optimizer `tf.keras.optimizers.Adam` runs slowly on M1/M2 Macs, please use the legacy Keras optimizer instead, located at `tf.keras.optimizers.legacy.Adam`.\n",
      "WARNING:absl:There is a known slowdown when using v2.11+ Keras optimizers on M1/M2 Macs. Falling back to the legacy Keras optimizer, i.e., `tf.keras.optimizers.legacy.Adam`.\n"
     ]
    },
    {
     "name": "stdout",
     "output_type": "stream",
     "text": [
      "Model: \"sequential_7\"\n",
      "_________________________________________________________________\n",
      " Layer (type)                Output Shape              Param #   \n",
      "=================================================================\n",
      " lstm_14 (LSTM)              (None, 258, 32)           16768     \n",
      "                                                                 \n",
      " dropout_14 (Dropout)        (None, 258, 32)           0         \n",
      "                                                                 \n",
      " lstm_15 (LSTM)              (None, 258, 64)           24832     \n",
      "                                                                 \n",
      " dropout_15 (Dropout)        (None, 258, 64)           0         \n",
      "                                                                 \n",
      " time_distributed_7 (TimeDi  (None, 258, 1)            65        \n",
      " stributed)                                                      \n",
      "                                                                 \n",
      "=================================================================\n",
      "Total params: 41665 (162.75 KB)\n",
      "Trainable params: 41665 (162.75 KB)\n",
      "Non-trainable params: 0 (0.00 Byte)\n",
      "_________________________________________________________________\n"
     ]
    }
   ],
   "source": [
    "# Set random seeds for reproducibility\n",
    "set_seed()\n",
    "\n",
    "# Define the learning rate\n",
    "learning_rate = 0.01  # You can adjust this value as needed\n",
    "\n",
    "# Define the optimizer with the specified learning rate\n",
    "optimizer = Adam(learning_rate=learning_rate)\n",
    "\n",
    "# Define LSTM model architecture with TimeDistributed layer\n",
    "lstm_dropout = Sequential()\n",
    "\n",
    "# LSTM layers with Dropout\n",
    "lstm_dropout.add(LSTM(units=32, \n",
    "               return_sequences=True, \n",
    "               input_shape=(X_train_scaled.shape[1], X_train_scaled.shape[2])\n",
    "               ))\n",
    "lstm_dropout.add(Dropout(0.2))  # Add Dropout layer with 20% dropout rate\n",
    "\n",
    "lstm_dropout.add(LSTM(units=64, \n",
    "               return_sequences=True))\n",
    "lstm_dropout.add(Dropout(0.2))  # Add Dropout layer with 20% dropout rate\n",
    "\n",
    "# TimeDistributed layer\n",
    "lstm_dropout.add(TimeDistributed(Dense(units=1, \n",
    "                                activation='sigmoid')))\n",
    "\n",
    "# Compile the model with the specified optimizer\n",
    "lstm_dropout.compile(optimizer=optimizer, loss='binary_crossentropy', metrics=['accuracy'])\n",
    "\n",
    "# Evaluate the model\n",
    "lstm_dropout.summary()"
   ]
  },
  {
   "cell_type": "markdown",
   "metadata": {},
   "source": [
    "### 5.1.2 Fit Model with 40 Epochs"
   ]
  },
  {
   "cell_type": "code",
   "execution_count": 90,
   "metadata": {},
   "outputs": [
    {
     "name": "stdout",
     "output_type": "stream",
     "text": [
      "Epoch 1/40\n"
     ]
    },
    {
     "name": "stdout",
     "output_type": "stream",
     "text": [
      "1/1 [==============================] - 2s 2s/step - loss: 0.6879 - accuracy: 0.5404 - val_loss: 0.5825 - val_accuracy: 0.7108\n",
      "Epoch 2/40\n",
      "1/1 [==============================] - 0s 106ms/step - loss: 0.4871 - accuracy: 0.8359 - val_loss: 0.7036 - val_accuracy: 0.7200\n",
      "Epoch 3/40\n",
      "1/1 [==============================] - 0s 106ms/step - loss: 0.3589 - accuracy: 0.8585 - val_loss: 0.6700 - val_accuracy: 0.7850\n",
      "Epoch 4/40\n",
      "1/1 [==============================] - 0s 105ms/step - loss: 0.2701 - accuracy: 0.9078 - val_loss: 0.6397 - val_accuracy: 0.8229\n",
      "Epoch 5/40\n",
      "1/1 [==============================] - 0s 105ms/step - loss: 0.2272 - accuracy: 0.9177 - val_loss: 0.7676 - val_accuracy: 0.7889\n",
      "Epoch 6/40\n",
      "1/1 [==============================] - 0s 106ms/step - loss: 0.2349 - accuracy: 0.9036 - val_loss: 0.9437 - val_accuracy: 0.7910\n",
      "Epoch 7/40\n",
      "1/1 [==============================] - 0s 129ms/step - loss: 0.1235 - accuracy: 0.9651 - val_loss: 1.1771 - val_accuracy: 0.7677\n",
      "Epoch 8/40\n",
      "1/1 [==============================] - 0s 109ms/step - loss: 0.6601 - accuracy: 0.8802 - val_loss: 0.9653 - val_accuracy: 0.7743\n",
      "Epoch 9/40\n",
      "1/1 [==============================] - 0s 109ms/step - loss: 0.0734 - accuracy: 0.9877 - val_loss: 0.8853 - val_accuracy: 0.7728\n",
      "Epoch 10/40\n",
      "1/1 [==============================] - 0s 106ms/step - loss: 0.2042 - accuracy: 0.9342 - val_loss: 1.1252 - val_accuracy: 0.6682\n",
      "Epoch 11/40\n",
      "1/1 [==============================] - 0s 106ms/step - loss: 0.2203 - accuracy: 0.9286 - val_loss: 1.1386 - val_accuracy: 0.6714\n",
      "Epoch 12/40\n",
      "1/1 [==============================] - 0s 106ms/step - loss: 0.2061 - accuracy: 0.9344 - val_loss: 1.1121 - val_accuracy: 0.6482\n",
      "Epoch 13/40\n",
      "1/1 [==============================] - 0s 105ms/step - loss: 0.1939 - accuracy: 0.9358 - val_loss: 1.0193 - val_accuracy: 0.6795\n",
      "Epoch 14/40\n",
      "1/1 [==============================] - 0s 106ms/step - loss: 0.1865 - accuracy: 0.9390 - val_loss: 0.9845 - val_accuracy: 0.6699\n",
      "Epoch 15/40\n",
      "1/1 [==============================] - 0s 106ms/step - loss: 0.1764 - accuracy: 0.9443 - val_loss: 0.9988 - val_accuracy: 0.6527\n",
      "Epoch 16/40\n",
      "1/1 [==============================] - 0s 109ms/step - loss: 0.1767 - accuracy: 0.9449 - val_loss: 0.9452 - val_accuracy: 0.6941\n",
      "Epoch 17/40\n",
      "1/1 [==============================] - 0s 111ms/step - loss: 0.1706 - accuracy: 0.9469 - val_loss: 0.9278 - val_accuracy: 0.7039\n",
      "Epoch 18/40\n",
      "1/1 [==============================] - 0s 107ms/step - loss: 0.1617 - accuracy: 0.9470 - val_loss: 0.8742 - val_accuracy: 0.7552\n",
      "Epoch 19/40\n",
      "1/1 [==============================] - 0s 106ms/step - loss: 0.1304 - accuracy: 0.9658 - val_loss: 0.8865 - val_accuracy: 0.7665\n",
      "Epoch 20/40\n",
      "1/1 [==============================] - 0s 105ms/step - loss: 0.1191 - accuracy: 0.9667 - val_loss: 0.8916 - val_accuracy: 0.7764\n",
      "Epoch 21/40\n",
      "1/1 [==============================] - 0s 106ms/step - loss: 0.1099 - accuracy: 0.9660 - val_loss: 0.9148 - val_accuracy: 0.7818\n",
      "Epoch 22/40\n",
      "1/1 [==============================] - 0s 108ms/step - loss: 0.0963 - accuracy: 0.9693 - val_loss: 0.9451 - val_accuracy: 0.7847\n",
      "Epoch 23/40\n",
      "1/1 [==============================] - 0s 107ms/step - loss: 0.0875 - accuracy: 0.9685 - val_loss: 0.9731 - val_accuracy: 0.7892\n",
      "Epoch 24/40\n",
      "1/1 [==============================] - 0s 115ms/step - loss: 0.0796 - accuracy: 0.9691 - val_loss: 0.9821 - val_accuracy: 0.7984\n",
      "Epoch 25/40\n",
      "1/1 [==============================] - 0s 108ms/step - loss: 0.0732 - accuracy: 0.9702 - val_loss: 0.9341 - val_accuracy: 0.8211\n",
      "Epoch 26/40\n",
      "1/1 [==============================] - 0s 106ms/step - loss: 0.0682 - accuracy: 0.9706 - val_loss: 0.9391 - val_accuracy: 0.8295\n",
      "Epoch 27/40\n",
      "1/1 [==============================] - 0s 105ms/step - loss: 0.0617 - accuracy: 0.9708 - val_loss: 0.9862 - val_accuracy: 0.8241\n",
      "Epoch 28/40\n",
      "1/1 [==============================] - 0s 107ms/step - loss: 0.0573 - accuracy: 0.9689 - val_loss: 1.2827 - val_accuracy: 0.7597\n",
      "Epoch 29/40\n",
      "1/1 [==============================] - 0s 108ms/step - loss: 0.0494 - accuracy: 0.9701 - val_loss: 1.3514 - val_accuracy: 0.7597\n",
      "Epoch 30/40\n",
      "1/1 [==============================] - 0s 107ms/step - loss: 0.0441 - accuracy: 0.9713 - val_loss: 1.4107 - val_accuracy: 0.7600\n",
      "Epoch 31/40\n",
      "1/1 [==============================] - 0s 105ms/step - loss: 0.0411 - accuracy: 0.9719 - val_loss: 1.4686 - val_accuracy: 0.7603\n",
      "Epoch 32/40\n",
      "1/1 [==============================] - 0s 107ms/step - loss: 0.0374 - accuracy: 0.9758 - val_loss: 1.5213 - val_accuracy: 0.7603\n",
      "Epoch 33/40\n",
      "1/1 [==============================] - 0s 108ms/step - loss: 0.0346 - accuracy: 0.9854 - val_loss: 1.5675 - val_accuracy: 0.7606\n",
      "Epoch 34/40\n",
      "1/1 [==============================] - 0s 108ms/step - loss: 0.0324 - accuracy: 0.9915 - val_loss: 1.6100 - val_accuracy: 0.7612\n",
      "Epoch 35/40\n",
      "1/1 [==============================] - 0s 108ms/step - loss: 0.0317 - accuracy: 0.9944 - val_loss: 1.6544 - val_accuracy: 0.7606\n",
      "Epoch 36/40\n",
      "1/1 [==============================] - 0s 107ms/step - loss: 0.0290 - accuracy: 0.9954 - val_loss: 1.7025 - val_accuracy: 0.7573\n",
      "Epoch 37/40\n",
      "1/1 [==============================] - 0s 107ms/step - loss: 0.0256 - accuracy: 0.9957 - val_loss: 1.7592 - val_accuracy: 0.7507\n",
      "Epoch 38/40\n",
      "1/1 [==============================] - 0s 105ms/step - loss: 0.0221 - accuracy: 0.9964 - val_loss: 1.8412 - val_accuracy: 0.7415\n",
      "Epoch 39/40\n",
      "1/1 [==============================] - 0s 105ms/step - loss: 0.0205 - accuracy: 0.9960 - val_loss: 1.9585 - val_accuracy: 0.7275\n",
      "Epoch 40/40\n",
      "1/1 [==============================] - 0s 108ms/step - loss: 0.0187 - accuracy: 0.9966 - val_loss: 2.1079 - val_accuracy: 0.7111\n"
     ]
    }
   ],
   "source": [
    "history_lstm = lstm_dropout.fit(X_train_scaled, y_train,\n",
    "                    validation_data = (X_val_scaled, y_val),\n",
    "                    batch_size=64,\n",
    "                    epochs=40)"
   ]
  },
  {
   "cell_type": "code",
   "execution_count": 91,
   "metadata": {},
   "outputs": [
    {
     "name": "stdout",
     "output_type": "stream",
     "text": [
      "1/1 [==============================] - 0s 24ms/step - loss: 2.4794 - accuracy: 0.6151\n",
      "Test Loss: 2.4793612957000732\n",
      "Test Accuracy: 0.6150864958763123\n"
     ]
    }
   ],
   "source": [
    "# Evaluate the model on the test dataset\n",
    "loss, accuracy = lstm_dropout.evaluate(X_test_scaled, y_test)\n",
    "\n",
    "print(f\"Test Loss: {loss}\")\n",
    "print(f\"Test Accuracy: {accuracy}\")"
   ]
  },
  {
   "cell_type": "code",
   "execution_count": 92,
   "metadata": {},
   "outputs": [
    {
     "data": {
      "image/png": "[encoded data removed]",
      "text/plain": [
       "<Figure size 800x600 with 1 Axes>"
      ]
     },
     "metadata": {},
     "output_type": "display_data"
    }
   ],
   "source": [
    "# Plot our train loss and test loss over epochs.\n",
    "train_loss = history_lstm.history['loss']\n",
    "test_loss = history_lstm.history['val_loss']\n",
    "\n",
    "# Set figure size.\n",
    "plt.figure(figsize=(8, 6))\n",
    "\n",
    "# Generate line plot of training, testing loss over the 20 epochs.\n",
    "plt.plot(train_loss, label='Training Loss')\n",
    "plt.plot(test_loss, label='Validation Loss')\n",
    "\n",
    "# Set number of epoch threshold for this model\n",
    "# Add vertical line with label\n",
    "plt.axvline(3, linestyle='--', color='green', label='Potential Epoch for Training to Stop')\n",
    "plt.axvline(25, linestyle='--', color='green')\n",
    "\n",
    "# Set title\n",
    "plt.xlabel('Epoch')\n",
    "plt.ylabel('Loss')\n",
    "plt.legend();"
   ]
  },
  {
   "cell_type": "code",
   "execution_count": 93,
   "metadata": {},
   "outputs": [
    {
     "data": {
      "image/png": "[encoded data removed]",
      "text/plain": [
       "<Figure size 800x600 with 1 Axes>"
      ]
     },
     "metadata": {},
     "output_type": "display_data"
    }
   ],
   "source": [
    "# Set figure size.\n",
    "plt.figure(figsize=(8, 6))\n",
    "\n",
    "plt.plot(history_lstm.history['accuracy'], label='Training accuracy')\n",
    "plt.plot(history_lstm.history['val_accuracy'], label='Validation accuracy')\n",
    "\n",
    "# Set number of epoch threshold for this model\n",
    "# Add vertical line with label\n",
    "plt.axvline(3, linestyle='--', color='green', label='Potential Epoch for Training to Stop')\n",
    "plt.axvline(25, linestyle='--', color='green')\n",
    "\n",
    "# Set title\n",
    "plt.xlabel('Epoch')\n",
    "plt.ylabel('Accuracy')\n",
    "plt.legend();"
   ]
  },
  {
   "cell_type": "code",
   "execution_count": 94,
   "metadata": {},
   "outputs": [
    {
     "name": "stdout",
     "output_type": "stream",
     "text": [
      "1/1 [==============================] - 0s 322ms/step\n"
     ]
    }
   ],
   "source": [
    "# Get the prediction probability of overstride within each frame\n",
    "lstm_predictions = lstm_dropout.predict(X_test_scaled)\n",
    "\n",
    "# Get the max probability across all 258 frames within each video\n",
    "video_max_probabilities = np.max(lstm_predictions, axis = 1)\n",
    "\n",
    "threshold = 0.5 # If probability of frame most predicted to have an overstride is above 0.5, classify as overstride\n",
    "\n",
    "y_pred = (video_max_probabilities > threshold).astype(int) # Convert all labels to binary\n",
    "\n",
    "# Flatten y_pred into a 1D array\n",
    "y_pred_flat = np.array(y_pred).flatten()\n",
    "\n",
    "# Flatten y_test into a 1D array\n",
    "y_test_flat = np.max(y_test, axis=1)"
   ]
  },
  {
   "cell_type": "code",
   "execution_count": 95,
   "metadata": {},
   "outputs": [
    {
     "name": "stdout",
     "output_type": "stream",
     "text": [
      "              precision    recall  f1-score   support\n",
      "\n",
      "           0       0.33      1.00      0.50         2\n",
      "           1       1.00      0.64      0.78        11\n",
      "\n",
      "    accuracy                           0.69        13\n",
      "   macro avg       0.67      0.82      0.64        13\n",
      "weighted avg       0.90      0.69      0.74        13\n",
      "\n"
     ]
    },
    {
     "data": {
      "image/png": "[encoded data removed]",
      "text/plain": [
       "<Figure size 800x600 with 2 Axes>"
      ]
     },
     "metadata": {},
     "output_type": "display_data"
    }
   ],
   "source": [
    "# Generate classification report\n",
    "report = classification_report(y_pred_flat, y_test_flat)\n",
    "print(report)\n",
    "\n",
    "# Compute confusion matrix\n",
    "conf_matrix = confusion_matrix(y_pred_flat, y_test_flat)\n",
    "\n",
    "# Plot confusion matrix with annotations\n",
    "plt.figure(figsize=(8, 6))\n",
    "plt.imshow(conf_matrix, cmap=plt.cm.Blues, interpolation='nearest')\n",
    "\n",
    "# Add annotations to the plot\n",
    "thresh = conf_matrix.max() / 2.\n",
    "for i in range(conf_matrix.shape[0]):\n",
    "    for j in range(conf_matrix.shape[1]):\n",
    "        plt.text(j, i, format(conf_matrix[i, j], 'd'),\n",
    "                 ha=\"center\", va=\"center\",\n",
    "                 color=\"white\" if conf_matrix[i, j] > thresh else \"black\")\n",
    "\n",
    "plt.colorbar()\n",
    "plt.title('Confusion Matrix')\n",
    "plt.xlabel('Predicted label')\n",
    "plt.ylabel('True label')\n",
    "tick_marks = np.arange(len(label_names))\n",
    "plt.xticks(tick_marks, label_names)\n",
    "plt.yticks(tick_marks, label_names)\n",
    "plt.show()"
   ]
  },
  {
   "cell_type": "markdown",
   "metadata": {},
   "source": [
    "At 40 Epochs, Test accuracy was 0.71. However the model is overfit to the training set, after 8 epochs. Next, I will look at training the model up to 3 and 25 epochs to evaluate the accuracy and recall. In this case, I will be visually assessing the recall by looking for the lowest number of false negatives."
   ]
  },
  {
   "cell_type": "markdown",
   "metadata": {},
   "source": [
    "### 5.1.3 Fit Model with 3 Epochs"
   ]
  },
  {
   "cell_type": "code",
   "execution_count": 97,
   "metadata": {},
   "outputs": [
    {
     "name": "stdout",
     "output_type": "stream",
     "text": [
      "Epoch 1/3\n"
     ]
    },
    {
     "name": "stdout",
     "output_type": "stream",
     "text": [
      "1/1 [==============================] - 2s 2s/step - loss: 0.6879 - accuracy: 0.5404 - val_loss: 0.5825 - val_accuracy: 0.7108\n",
      "Epoch 2/3\n",
      "1/1 [==============================] - 0s 107ms/step - loss: 0.4871 - accuracy: 0.8359 - val_loss: 0.7036 - val_accuracy: 0.7200\n",
      "Epoch 3/3\n",
      "1/1 [==============================] - 0s 107ms/step - loss: 0.3589 - accuracy: 0.8585 - val_loss: 0.6700 - val_accuracy: 0.7850\n"
     ]
    },
    {
     "data": {
      "text/plain": [
       "<keras.src.callbacks.History at 0x2d7267dc0>"
      ]
     },
     "execution_count": 97,
     "metadata": {},
     "output_type": "execute_result"
    }
   ],
   "source": [
    "# Before running this, rerun the model architecture to reset the number of epochs trained on this model\n",
    "\n",
    "# Fitting the model again only with 3 epochs\n",
    "lstm_dropout.fit(X_train_scaled, y_train,\n",
    "                 validation_data = (X_val_scaled, y_val),\n",
    "                 batch_size=64,\n",
    "                 epochs=3)"
   ]
  },
  {
   "cell_type": "code",
   "execution_count": 98,
   "metadata": {},
   "outputs": [
    {
     "name": "stdout",
     "output_type": "stream",
     "text": [
      "1/1 [==============================] - 0s 34ms/step - loss: 0.8734 - accuracy: 0.7260\n",
      "Test Loss: 0.8734045624732971\n",
      "Test Accuracy: 0.7259988188743591\n"
     ]
    }
   ],
   "source": [
    "# Evaluate the model on the test dataset\n",
    "loss, accuracy = lstm_dropout.evaluate(X_test_scaled, y_test)\n",
    "\n",
    "print(f\"Test Loss: {loss}\")\n",
    "print(f\"Test Accuracy: {accuracy}\")"
   ]
  },
  {
   "cell_type": "code",
   "execution_count": 99,
   "metadata": {},
   "outputs": [
    {
     "name": "stdout",
     "output_type": "stream",
     "text": [
      "1/1 [==============================] - 0s 323ms/step\n"
     ]
    }
   ],
   "source": [
    "# Get the prediction probability of overstride within each frame\n",
    "lstm_predictions = lstm_dropout.predict(X_test_scaled)\n",
    "\n",
    "# Get the max probability across all 258 frames within each video\n",
    "video_max_probabilities = np.max(lstm_predictions, axis = 1)\n",
    "\n",
    "threshold = 0.5 # If probability of frame most predicted to have an overstride is above 0.5, classify as overstride\n",
    "\n",
    "y_pred = (video_max_probabilities > threshold).astype(int) # Convert all labels to binary\n",
    "\n",
    "# Flatten y_pred into a 1D array\n",
    "y_pred_flat = np.array(y_pred).flatten()\n",
    "\n",
    "# Flatten y_test into a 1D array\n",
    "y_test_flat = np.max(y_test, axis=1)"
   ]
  },
  {
   "cell_type": "code",
   "execution_count": 100,
   "metadata": {},
   "outputs": [
    {
     "name": "stdout",
     "output_type": "stream",
     "text": [
      "              precision    recall  f1-score   support\n",
      "\n",
      "           0       0.50      0.75      0.60         4\n",
      "           1       0.86      0.67      0.75         9\n",
      "\n",
      "    accuracy                           0.69        13\n",
      "   macro avg       0.68      0.71      0.68        13\n",
      "weighted avg       0.75      0.69      0.70        13\n",
      "\n"
     ]
    },
    {
     "data": {
      "image/png": "[encoded data removed]",
      "text/plain": [
       "<Figure size 800x600 with 2 Axes>"
      ]
     },
     "metadata": {},
     "output_type": "display_data"
    }
   ],
   "source": [
    "# Generate classification report\n",
    "report = classification_report(y_pred_flat, y_test_flat)\n",
    "print(report)\n",
    "\n",
    "# Compute confusion matrix\n",
    "conf_matrix = confusion_matrix(y_pred_flat, y_test_flat)\n",
    "\n",
    "# Plot confusion matrix with annotations\n",
    "plt.figure(figsize=(8, 6))\n",
    "plt.imshow(conf_matrix, cmap=plt.cm.Blues, interpolation='nearest')\n",
    "\n",
    "# Add annotations to the plot\n",
    "thresh = conf_matrix.max() / 2.\n",
    "for i in range(conf_matrix.shape[0]):\n",
    "    for j in range(conf_matrix.shape[1]):\n",
    "        plt.text(j, i, format(conf_matrix[i, j], 'd'),\n",
    "                 ha=\"center\", va=\"center\",\n",
    "                 color=\"white\" if conf_matrix[i, j] > thresh else \"black\")\n",
    "\n",
    "plt.colorbar()\n",
    "plt.title('Confusion Matrix')\n",
    "plt.xlabel('Predicted label')\n",
    "plt.ylabel('True label')\n",
    "tick_marks = np.arange(len(label_names))\n",
    "plt.xticks(tick_marks, label_names)\n",
    "plt.yticks(tick_marks, label_names)\n",
    "plt.show()"
   ]
  },
  {
   "cell_type": "markdown",
   "metadata": {},
   "source": [
    "### 5.1.4 Fit Model with 25 Epochs"
   ]
  },
  {
   "cell_type": "code",
   "execution_count": 103,
   "metadata": {},
   "outputs": [
    {
     "name": "stdout",
     "output_type": "stream",
     "text": [
      "Epoch 1/25\n"
     ]
    },
    {
     "name": "stdout",
     "output_type": "stream",
     "text": [
      "1/1 [==============================] - 2s 2s/step - loss: 0.6879 - accuracy: 0.5404 - val_loss: 0.5825 - val_accuracy: 0.7108\n",
      "Epoch 2/25\n",
      "1/1 [==============================] - 0s 105ms/step - loss: 0.4871 - accuracy: 0.8359 - val_loss: 0.7036 - val_accuracy: 0.7200\n",
      "Epoch 3/25\n",
      "1/1 [==============================] - 0s 107ms/step - loss: 0.3589 - accuracy: 0.8585 - val_loss: 0.6700 - val_accuracy: 0.7850\n",
      "Epoch 4/25\n",
      "1/1 [==============================] - 0s 109ms/step - loss: 0.2701 - accuracy: 0.9078 - val_loss: 0.6397 - val_accuracy: 0.8229\n",
      "Epoch 5/25\n",
      "1/1 [==============================] - 0s 109ms/step - loss: 0.2272 - accuracy: 0.9177 - val_loss: 0.7676 - val_accuracy: 0.7889\n",
      "Epoch 6/25\n",
      "1/1 [==============================] - 0s 110ms/step - loss: 0.2349 - accuracy: 0.9036 - val_loss: 0.9437 - val_accuracy: 0.7910\n",
      "Epoch 7/25\n",
      "1/1 [==============================] - 0s 107ms/step - loss: 0.1235 - accuracy: 0.9651 - val_loss: 1.1771 - val_accuracy: 0.7677\n",
      "Epoch 8/25\n",
      "1/1 [==============================] - 0s 107ms/step - loss: 0.6601 - accuracy: 0.8802 - val_loss: 0.9653 - val_accuracy: 0.7743\n",
      "Epoch 9/25\n",
      "1/1 [==============================] - 0s 106ms/step - loss: 0.0734 - accuracy: 0.9877 - val_loss: 0.8853 - val_accuracy: 0.7728\n",
      "Epoch 10/25\n",
      "1/1 [==============================] - 0s 107ms/step - loss: 0.2042 - accuracy: 0.9342 - val_loss: 1.1252 - val_accuracy: 0.6682\n",
      "Epoch 11/25\n",
      "1/1 [==============================] - 0s 105ms/step - loss: 0.2203 - accuracy: 0.9286 - val_loss: 1.1386 - val_accuracy: 0.6714\n",
      "Epoch 12/25\n",
      "1/1 [==============================] - 0s 105ms/step - loss: 0.2061 - accuracy: 0.9344 - val_loss: 1.1121 - val_accuracy: 0.6482\n",
      "Epoch 13/25\n",
      "1/1 [==============================] - 0s 105ms/step - loss: 0.1939 - accuracy: 0.9358 - val_loss: 1.0193 - val_accuracy: 0.6795\n",
      "Epoch 14/25\n",
      "1/1 [==============================] - 0s 105ms/step - loss: 0.1865 - accuracy: 0.9390 - val_loss: 0.9845 - val_accuracy: 0.6699\n",
      "Epoch 15/25\n",
      "1/1 [==============================] - 0s 106ms/step - loss: 0.1764 - accuracy: 0.9443 - val_loss: 0.9988 - val_accuracy: 0.6527\n",
      "Epoch 16/25\n",
      "1/1 [==============================] - 0s 105ms/step - loss: 0.1767 - accuracy: 0.9449 - val_loss: 0.9452 - val_accuracy: 0.6941\n",
      "Epoch 17/25\n",
      "1/1 [==============================] - 0s 105ms/step - loss: 0.1706 - accuracy: 0.9469 - val_loss: 0.9278 - val_accuracy: 0.7039\n",
      "Epoch 18/25\n",
      "1/1 [==============================] - 0s 105ms/step - loss: 0.1617 - accuracy: 0.9470 - val_loss: 0.8742 - val_accuracy: 0.7552\n",
      "Epoch 19/25\n",
      "1/1 [==============================] - 0s 107ms/step - loss: 0.1304 - accuracy: 0.9658 - val_loss: 0.8865 - val_accuracy: 0.7665\n",
      "Epoch 20/25\n",
      "1/1 [==============================] - 0s 105ms/step - loss: 0.1191 - accuracy: 0.9667 - val_loss: 0.8916 - val_accuracy: 0.7764\n",
      "Epoch 21/25\n",
      "1/1 [==============================] - 0s 106ms/step - loss: 0.1099 - accuracy: 0.9660 - val_loss: 0.9148 - val_accuracy: 0.7818\n",
      "Epoch 22/25\n",
      "1/1 [==============================] - 0s 109ms/step - loss: 0.0963 - accuracy: 0.9693 - val_loss: 0.9451 - val_accuracy: 0.7847\n",
      "Epoch 23/25\n",
      "1/1 [==============================] - 0s 108ms/step - loss: 0.0875 - accuracy: 0.9685 - val_loss: 0.9731 - val_accuracy: 0.7892\n",
      "Epoch 24/25\n",
      "1/1 [==============================] - 0s 108ms/step - loss: 0.0796 - accuracy: 0.9691 - val_loss: 0.9821 - val_accuracy: 0.7984\n",
      "Epoch 25/25\n",
      "1/1 [==============================] - 0s 110ms/step - loss: 0.0732 - accuracy: 0.9702 - val_loss: 0.9341 - val_accuracy: 0.8211\n"
     ]
    },
    {
     "data": {
      "text/plain": [
       "<keras.src.callbacks.History at 0x2da99ea00>"
      ]
     },
     "execution_count": 103,
     "metadata": {},
     "output_type": "execute_result"
    }
   ],
   "source": [
    "# Before running this, rerun the model architecture to reset the number of epochs trained on this model\n",
    "\n",
    "# Fitting the model again only with 25 epochs\n",
    "lstm_dropout.fit(X_train_scaled, y_train,\n",
    "                 validation_data = (X_val_scaled, y_val),\n",
    "                 batch_size=64,\n",
    "                 epochs=25)"
   ]
  },
  {
   "cell_type": "code",
   "execution_count": 104,
   "metadata": {},
   "outputs": [
    {
     "name": "stdout",
     "output_type": "stream",
     "text": [
      "1/1 [==============================] - 0s 27ms/step - loss: 1.8124 - accuracy: 0.6130\n",
      "Test Loss: 1.8123682737350464\n",
      "Test Accuracy: 0.6129993796348572\n"
     ]
    }
   ],
   "source": [
    "# Evaluate the model on the test dataset\n",
    "loss, accuracy = lstm_dropout.evaluate(X_test_scaled, y_test)\n",
    "\n",
    "print(f\"Test Loss: {loss}\")\n",
    "print(f\"Test Accuracy: {accuracy}\")"
   ]
  },
  {
   "cell_type": "code",
   "execution_count": 105,
   "metadata": {},
   "outputs": [
    {
     "name": "stdout",
     "output_type": "stream",
     "text": [
      "1/1 [==============================] - 0s 324ms/step\n"
     ]
    }
   ],
   "source": [
    "# Get the prediction probability of overstride within each frame\n",
    "lstm_predictions = lstm_dropout.predict(X_test_scaled)\n",
    "\n",
    "# Get the max probability across all 258 frames within each video\n",
    "video_max_probabilities = np.max(lstm_predictions, axis = 1)\n",
    "\n",
    "threshold = 0.5 # If probability of frame most predicted to have an overstride is above 0.5, classify as overstride\n",
    "\n",
    "y_pred = (video_max_probabilities > threshold).astype(int) # Convert all labels to binary\n",
    "\n",
    "# Flatten y_pred into a 1D array\n",
    "y_pred_flat = np.array(y_pred).flatten()\n",
    "\n",
    "# Flatten y_test into a 1D array\n",
    "y_test_flat = np.max(y_test, axis=1)"
   ]
  },
  {
   "cell_type": "code",
   "execution_count": 106,
   "metadata": {},
   "outputs": [
    {
     "name": "stdout",
     "output_type": "stream",
     "text": [
      "              precision    recall  f1-score   support\n",
      "\n",
      "           0       0.33      0.67      0.44         3\n",
      "           1       0.86      0.60      0.71        10\n",
      "\n",
      "    accuracy                           0.62        13\n",
      "   macro avg       0.60      0.63      0.58        13\n",
      "weighted avg       0.74      0.62      0.65        13\n",
      "\n"
     ]
    },
    {
     "data": {
      "image/png": "[encoded data removed]",
      "text/plain": [
       "<Figure size 800x600 with 2 Axes>"
      ]
     },
     "metadata": {},
     "output_type": "display_data"
    }
   ],
   "source": [
    "# Generate classification report\n",
    "report = classification_report(y_pred_flat, y_test_flat)\n",
    "print(report)\n",
    "\n",
    "# Compute confusion matrix\n",
    "conf_matrix = confusion_matrix(y_pred_flat, y_test_flat)\n",
    "\n",
    "# Plot confusion matrix with annotations\n",
    "plt.figure(figsize=(8, 6))\n",
    "plt.imshow(conf_matrix, cmap=plt.cm.Blues, interpolation='nearest')\n",
    "\n",
    "# Add annotations to the plot\n",
    "thresh = conf_matrix.max() / 2.\n",
    "for i in range(conf_matrix.shape[0]):\n",
    "    for j in range(conf_matrix.shape[1]):\n",
    "        plt.text(j, i, format(conf_matrix[i, j], 'd'),\n",
    "                 ha=\"center\", va=\"center\",\n",
    "                 color=\"white\" if conf_matrix[i, j] > thresh else \"black\")\n",
    "\n",
    "plt.colorbar()\n",
    "plt.title('Confusion Matrix')\n",
    "plt.xlabel('Predicted label')\n",
    "plt.ylabel('True label')\n",
    "tick_marks = np.arange(len(label_names))\n",
    "plt.xticks(tick_marks, label_names)\n",
    "plt.yticks(tick_marks, label_names)\n",
    "plt.show()"
   ]
  },
  {
   "cell_type": "markdown",
   "metadata": {},
   "source": [
    "## 5.2 CNN + LSTM"
   ]
  },
  {
   "cell_type": "markdown",
   "metadata": {},
   "source": [
    "### 5.2.1 Model Architecture"
   ]
  },
  {
   "cell_type": "code",
   "execution_count": 123,
   "metadata": {},
   "outputs": [
    {
     "name": "stderr",
     "output_type": "stream",
     "text": [
      "WARNING:absl:At this time, the v2.11+ optimizer `tf.keras.optimizers.Adam` runs slowly on M1/M2 Macs, please use the legacy Keras optimizer instead, located at `tf.keras.optimizers.legacy.Adam`.\n",
      "WARNING:absl:There is a known slowdown when using v2.11+ Keras optimizers on M1/M2 Macs. Falling back to the legacy Keras optimizer, i.e., `tf.keras.optimizers.legacy.Adam`.\n"
     ]
    },
    {
     "name": "stdout",
     "output_type": "stream",
     "text": [
      "Model: \"sequential_10\"\n",
      "_________________________________________________________________\n",
      " Layer (type)                Output Shape              Param #   \n",
      "=================================================================\n",
      " conv1d_2 (Conv1D)           (None, 258, 64)           18880     \n",
      "                                                                 \n",
      " dropout_20 (Dropout)        (None, 258, 64)           0         \n",
      "                                                                 \n",
      " lstm_18 (LSTM)              (None, 258, 100)          66000     \n",
      "                                                                 \n",
      " dropout_21 (Dropout)        (None, 258, 100)          0         \n",
      "                                                                 \n",
      " dense_10 (Dense)            (None, 258, 1)            101       \n",
      "                                                                 \n",
      "=================================================================\n",
      "Total params: 84981 (331.96 KB)\n",
      "Trainable params: 84981 (331.96 KB)\n",
      "Non-trainable params: 0 (0.00 Byte)\n",
      "_________________________________________________________________\n"
     ]
    }
   ],
   "source": [
    "# Set random seeds for reproducibility\n",
    "set_seed()\n",
    "\n",
    "# Define the learning rate\n",
    "learning_rate = 0.001  # You can adjust this value as needed\n",
    "\n",
    "# Define the optimizer with the specified learning rate\n",
    "optimizer = Adam(learning_rate=learning_rate)\n",
    "\n",
    "# Initialize the model\n",
    "cnn_lstm = Sequential()\n",
    "\n",
    "# Conv1D layer for feature extraction with 'same' padding to preserve sequence length\n",
    "cnn_lstm.add(Conv1D(filters=64, kernel_size=3, activation='relu', padding='same', input_shape=(X_train.shape[1], X_train.shape[2])))\n",
    "cnn_lstm.add(Dropout(0.4))  # Adding Dropout after Conv1D\n",
    "\n",
    "# LSTM layer for sequence processing without changing sequence length\n",
    "cnn_lstm.add(LSTM(units=100, return_sequences=True))\n",
    "cnn_lstm.add(Dropout(0.4))  # Adding Dropout after LSTM\n",
    "\n",
    "# Dense layer for classification\n",
    "cnn_lstm.add(Dense(units=1, activation='sigmoid'))\n",
    "\n",
    "# Compile the model\n",
    "cnn_lstm.compile(optimizer=optimizer, loss='binary_crossentropy', metrics=['accuracy'])\n",
    "\n",
    "# Print model summary\n",
    "cnn_lstm.summary()"
   ]
  },
  {
   "cell_type": "markdown",
   "metadata": {},
   "source": [
    "### 5.2.2 Fit Model with 40 Epochs"
   ]
  },
  {
   "cell_type": "code",
   "execution_count": 108,
   "metadata": {},
   "outputs": [
    {
     "name": "stdout",
     "output_type": "stream",
     "text": [
      "Epoch 1/40\n",
      "2/2 [==============================] - 1s 278ms/step - loss: 0.7804 - accuracy: 0.3711 - val_loss: 0.6558 - val_accuracy: 0.6518\n",
      "Epoch 2/40\n",
      "2/2 [==============================] - 0s 64ms/step - loss: 0.6036 - accuracy: 0.7317 - val_loss: 0.5538 - val_accuracy: 0.7451\n",
      "Epoch 3/40\n",
      "2/2 [==============================] - 0s 67ms/step - loss: 0.5104 - accuracy: 0.8352 - val_loss: 0.4970 - val_accuracy: 0.8041\n",
      "Epoch 4/40\n",
      "2/2 [==============================] - 0s 63ms/step - loss: 0.4522 - accuracy: 0.8363 - val_loss: 0.4821 - val_accuracy: 0.8166\n",
      "Epoch 5/40\n",
      "2/2 [==============================] - 0s 63ms/step - loss: 0.4148 - accuracy: 0.8328 - val_loss: 0.5051 - val_accuracy: 0.8032\n",
      "Epoch 6/40\n",
      "2/2 [==============================] - 0s 64ms/step - loss: 0.3812 - accuracy: 0.8387 - val_loss: 0.5669 - val_accuracy: 0.7806\n",
      "Epoch 7/40\n",
      "2/2 [==============================] - 0s 65ms/step - loss: 0.3527 - accuracy: 0.8538 - val_loss: 0.6403 - val_accuracy: 0.7537\n",
      "Epoch 8/40\n",
      "2/2 [==============================] - 0s 88ms/step - loss: 0.3321 - accuracy: 0.8621 - val_loss: 0.6705 - val_accuracy: 0.7501\n",
      "Epoch 9/40\n",
      "2/2 [==============================] - 0s 65ms/step - loss: 0.3214 - accuracy: 0.8646 - val_loss: 0.6012 - val_accuracy: 0.7821\n",
      "Epoch 10/40\n",
      "2/2 [==============================] - 0s 64ms/step - loss: 0.2913 - accuracy: 0.8894 - val_loss: 0.5160 - val_accuracy: 0.8244\n",
      "Epoch 11/40\n",
      "2/2 [==============================] - 0s 65ms/step - loss: 0.3066 - accuracy: 0.8641 - val_loss: 0.5127 - val_accuracy: 0.7841\n",
      "Epoch 12/40\n",
      "2/2 [==============================] - 0s 64ms/step - loss: 0.3120 - accuracy: 0.8658 - val_loss: 0.5475 - val_accuracy: 0.7689\n",
      "Epoch 13/40\n",
      "2/2 [==============================] - 0s 62ms/step - loss: 0.2817 - accuracy: 0.8904 - val_loss: 0.6001 - val_accuracy: 0.7689\n",
      "Epoch 14/40\n",
      "2/2 [==============================] - 0s 63ms/step - loss: 0.2637 - accuracy: 0.9001 - val_loss: 0.6391 - val_accuracy: 0.7692\n",
      "Epoch 15/40\n",
      "2/2 [==============================] - 0s 63ms/step - loss: 0.2358 - accuracy: 0.8908 - val_loss: 0.6557 - val_accuracy: 0.7737\n",
      "Epoch 16/40\n",
      "2/2 [==============================] - 0s 64ms/step - loss: 0.2090 - accuracy: 0.8969 - val_loss: 0.6716 - val_accuracy: 0.8199\n",
      "Epoch 17/40\n",
      "2/2 [==============================] - 0s 62ms/step - loss: 0.2052 - accuracy: 0.9155 - val_loss: 0.7537 - val_accuracy: 0.7412\n",
      "Epoch 18/40\n",
      "2/2 [==============================] - 0s 63ms/step - loss: 0.2141 - accuracy: 0.9117 - val_loss: 0.7897 - val_accuracy: 0.6837\n",
      "Epoch 19/40\n",
      "2/2 [==============================] - 0s 65ms/step - loss: 0.2201 - accuracy: 0.8909 - val_loss: 0.7954 - val_accuracy: 0.6738\n",
      "Epoch 20/40\n",
      "2/2 [==============================] - 0s 63ms/step - loss: 0.2140 - accuracy: 0.8960 - val_loss: 0.7648 - val_accuracy: 0.7045\n",
      "Epoch 21/40\n",
      "2/2 [==============================] - 0s 65ms/step - loss: 0.1820 - accuracy: 0.9210 - val_loss: 0.7300 - val_accuracy: 0.7469\n",
      "Epoch 22/40\n",
      "2/2 [==============================] - 0s 64ms/step - loss: 0.1397 - accuracy: 0.9555 - val_loss: 0.6695 - val_accuracy: 0.8145\n",
      "Epoch 23/40\n",
      "2/2 [==============================] - 0s 63ms/step - loss: 0.1240 - accuracy: 0.9676 - val_loss: 0.6592 - val_accuracy: 0.8426\n",
      "Epoch 24/40\n",
      "2/2 [==============================] - 0s 64ms/step - loss: 0.1006 - accuracy: 0.9719 - val_loss: 0.7291 - val_accuracy: 0.8432\n",
      "Epoch 25/40\n",
      "2/2 [==============================] - 0s 62ms/step - loss: 0.0753 - accuracy: 0.9808 - val_loss: 0.7991 - val_accuracy: 0.8301\n",
      "Epoch 26/40\n",
      "2/2 [==============================] - 0s 63ms/step - loss: 0.1230 - accuracy: 0.9554 - val_loss: 0.8749 - val_accuracy: 0.8193\n",
      "Epoch 27/40\n",
      "2/2 [==============================] - 0s 64ms/step - loss: 0.1412 - accuracy: 0.9439 - val_loss: 0.8810 - val_accuracy: 0.8268\n",
      "Epoch 28/40\n",
      "2/2 [==============================] - 0s 63ms/step - loss: 0.0507 - accuracy: 0.9850 - val_loss: 0.9474 - val_accuracy: 0.7982\n",
      "Epoch 29/40\n",
      "2/2 [==============================] - 0s 63ms/step - loss: 0.0483 - accuracy: 0.9849 - val_loss: 0.9705 - val_accuracy: 0.7982\n",
      "Epoch 30/40\n",
      "2/2 [==============================] - 0s 64ms/step - loss: 0.0471 - accuracy: 0.9837 - val_loss: 0.9945 - val_accuracy: 0.7982\n",
      "Epoch 31/40\n",
      "2/2 [==============================] - 0s 64ms/step - loss: 0.0500 - accuracy: 0.9825 - val_loss: 1.0173 - val_accuracy: 0.7970\n",
      "Epoch 32/40\n",
      "2/2 [==============================] - 0s 64ms/step - loss: 0.0511 - accuracy: 0.9795 - val_loss: 1.0425 - val_accuracy: 0.7958\n",
      "Epoch 33/40\n",
      "2/2 [==============================] - 0s 63ms/step - loss: 0.0476 - accuracy: 0.9799 - val_loss: 1.0863 - val_accuracy: 0.7928\n",
      "Epoch 34/40\n",
      "2/2 [==============================] - 0s 64ms/step - loss: 0.1583 - accuracy: 0.9639 - val_loss: 1.2816 - val_accuracy: 0.7361\n",
      "Epoch 35/40\n",
      "2/2 [==============================] - 0s 63ms/step - loss: 0.1517 - accuracy: 0.9640 - val_loss: 1.6227 - val_accuracy: 0.6527\n",
      "Epoch 36/40\n",
      "2/2 [==============================] - 0s 64ms/step - loss: 0.1489 - accuracy: 0.9604 - val_loss: 1.5399 - val_accuracy: 0.6541\n",
      "Epoch 37/40\n",
      "2/2 [==============================] - 0s 64ms/step - loss: 0.2094 - accuracy: 0.9329 - val_loss: 0.9153 - val_accuracy: 0.8289\n",
      "Epoch 38/40\n",
      "2/2 [==============================] - 0s 65ms/step - loss: 0.0233 - accuracy: 0.9933 - val_loss: 1.0076 - val_accuracy: 0.7722\n",
      "Epoch 39/40\n",
      "2/2 [==============================] - 0s 62ms/step - loss: 0.0226 - accuracy: 0.9948 - val_loss: 1.0558 - val_accuracy: 0.7695\n",
      "Epoch 40/40\n",
      "2/2 [==============================] - 0s 63ms/step - loss: 0.2272 - accuracy: 0.9415 - val_loss: 1.0357 - val_accuracy: 0.7695\n"
     ]
    }
   ],
   "source": [
    "# Train the model\n",
    "history_cnn_lstm = cnn_lstm.fit(X_train_scaled, y_train,\n",
    "                    validation_data=(X_val_scaled, y_val),\n",
    "                    batch_size=32,\n",
    "                    epochs=40)"
   ]
  },
  {
   "cell_type": "code",
   "execution_count": 109,
   "metadata": {},
   "outputs": [
    {
     "name": "stdout",
     "output_type": "stream",
     "text": [
      "1/1 [==============================] - 0s 33ms/step - loss: 1.4932 - accuracy: 0.7039\n",
      "Test Loss: 1.4932200908660889\n",
      "Test Accuracy: 0.7039356231689453\n"
     ]
    }
   ],
   "source": [
    "# Evaluate the model on the test dataset (40 epochs)\n",
    "loss, accuracy = cnn_lstm.evaluate(X_test_scaled, y_test)\n",
    "\n",
    "print(f\"Test Loss: {loss}\")\n",
    "print(f\"Test Accuracy: {accuracy}\")"
   ]
  },
  {
   "cell_type": "code",
   "execution_count": 111,
   "metadata": {},
   "outputs": [
    {
     "data": {
      "text/plain": [
       "<function matplotlib.pyplot.show(close=None, block=None)>"
      ]
     },
     "execution_count": 111,
     "metadata": {},
     "output_type": "execute_result"
    },
    {
     "data": {
      "image/png": "[encoded data removed]",
      "text/plain": [
       "<Figure size 800x600 with 1 Axes>"
      ]
     },
     "metadata": {},
     "output_type": "display_data"
    }
   ],
   "source": [
    "# Set figure size.\n",
    "plt.figure(figsize=(8, 6))\n",
    "\n",
    "plt.plot(history_cnn_lstm.history['accuracy'], label='Training accuracy')\n",
    "plt.plot(history_cnn_lstm.history['val_accuracy'], label='Testing accuracy')\n",
    "\n",
    "# Set title\n",
    "plt.xlabel('Epoch')\n",
    "plt.ylabel('Accuracy')\n",
    "plt.legend();\n",
    "\n",
    "# Set number of epoch threshold for this model\n",
    "# Add vertical line with label\n",
    "plt.axvline(36, linestyle='--', color='green', label='Potential Epoch for Training to Stop')\n",
    "plt.axvline(23, linestyle='--', color='green')\n",
    "\n",
    "plt.show"
   ]
  },
  {
   "cell_type": "code",
   "execution_count": 113,
   "metadata": {},
   "outputs": [
    {
     "data": {
      "image/png": "[encoded data removed]",
      "text/plain": [
       "<Figure size 800x600 with 1 Axes>"
      ]
     },
     "metadata": {},
     "output_type": "display_data"
    }
   ],
   "source": [
    "# Set figure size.\n",
    "plt.figure(figsize=(8, 6))\n",
    "\n",
    "plt.plot(history_cnn_lstm.history['loss'], label='Training loss')\n",
    "plt.plot(history_cnn_lstm.history['val_loss'], label='Testing loss')\n",
    "\n",
    "# Set number of epoch threshold for this model\n",
    "# Add vertical line with label\n",
    "plt.axvline(36, linestyle='--', color='green', label='Potential Epoch for Training to Stop')\n",
    "plt.axvline(23, linestyle='--', color='green')\n",
    "\n",
    "# Set title\n",
    "plt.xlabel('Epoch')\n",
    "plt.ylabel('loss')\n",
    "plt.legend();"
   ]
  },
  {
   "cell_type": "code",
   "execution_count": 114,
   "metadata": {},
   "outputs": [
    {
     "name": "stdout",
     "output_type": "stream",
     "text": [
      "WARNING:tensorflow:5 out of the last 5 calls to <function Model.make_predict_function.<locals>.predict_function at 0x2e3a41f70> triggered tf.function retracing. Tracing is expensive and the excessive number of tracings could be due to (1) creating @tf.function repeatedly in a loop, (2) passing tensors with different shapes, (3) passing Python objects instead of tensors. For (1), please define your @tf.function outside of the loop. For (2), @tf.function has reduce_retracing=True option that can avoid unnecessary retracing. For (3), please refer to https://www.tensorflow.org/guide/function#controlling_retracing and https://www.tensorflow.org/api_docs/python/tf/function for  more details.\n"
     ]
    },
    {
     "name": "stderr",
     "output_type": "stream",
     "text": [
      "WARNING:tensorflow:5 out of the last 5 calls to <function Model.make_predict_function.<locals>.predict_function at 0x2e3a41f70> triggered tf.function retracing. Tracing is expensive and the excessive number of tracings could be due to (1) creating @tf.function repeatedly in a loop, (2) passing tensors with different shapes, (3) passing Python objects instead of tensors. For (1), please define your @tf.function outside of the loop. For (2), @tf.function has reduce_retracing=True option that can avoid unnecessary retracing. For (3), please refer to https://www.tensorflow.org/guide/function#controlling_retracing and https://www.tensorflow.org/api_docs/python/tf/function for  more details.\n"
     ]
    },
    {
     "name": "stdout",
     "output_type": "stream",
     "text": [
      "1/1 [==============================] - 0s 200ms/step\n"
     ]
    }
   ],
   "source": [
    "# Get the prediction probability of overstride within each frame\n",
    "cnn_lstm_pred = cnn_lstm.predict(X_test_scaled)\n",
    "\n",
    "# Get the max probability across all 258 frames within each video\n",
    "video_max_probabilities = np.max(cnn_lstm_pred, axis = 1)\n",
    "\n",
    "threshold = 0.7 # If probability of frame most predicted to have an overstride is above 0.7 (threshold as observed from below), classify as overstride\n",
    "\n",
    "y_pred = (video_max_probabilities > threshold).astype(int) # Convert all labels to binary\n",
    "\n",
    "# Flatten y_pred into a 1D array\n",
    "y_pred_flat = np.array(y_pred).flatten()\n",
    "\n",
    "# Flatten y_test into a 1D array\n",
    "y_test_flat = np.max(y_test, axis=1)"
   ]
  },
  {
   "cell_type": "code",
   "execution_count": 115,
   "metadata": {},
   "outputs": [
    {
     "name": "stdout",
     "output_type": "stream",
     "text": [
      "              precision    recall  f1-score   support\n",
      "\n",
      "           0       0.67      0.80      0.73         5\n",
      "           1       0.86      0.75      0.80         8\n",
      "\n",
      "    accuracy                           0.77        13\n",
      "   macro avg       0.76      0.78      0.76        13\n",
      "weighted avg       0.78      0.77      0.77        13\n",
      "\n"
     ]
    },
    {
     "data": {
      "image/png": "[encoded data removed]",
      "text/plain": [
       "<Figure size 800x600 with 2 Axes>"
      ]
     },
     "metadata": {},
     "output_type": "display_data"
    }
   ],
   "source": [
    "# Generate classification report\n",
    "report = classification_report(y_pred_flat, y_test_flat)\n",
    "print(report)\n",
    "\n",
    "# Compute confusion matrix\n",
    "conf_matrix = confusion_matrix(y_pred_flat, y_test_flat)\n",
    "\n",
    "# Plot confusion matrix with annotations\n",
    "plt.figure(figsize=(8, 6))\n",
    "plt.imshow(conf_matrix, cmap=plt.cm.Blues, interpolation='nearest')\n",
    "\n",
    "# Add annotations to the plot\n",
    "thresh = conf_matrix.max() / 2.\n",
    "for i in range(conf_matrix.shape[0]):\n",
    "    for j in range(conf_matrix.shape[1]):\n",
    "        plt.text(j, i, format(conf_matrix[i, j], 'd'),\n",
    "                 ha=\"center\", va=\"center\",\n",
    "                 color=\"white\" if conf_matrix[i, j] > thresh else \"black\")\n",
    "\n",
    "plt.colorbar()\n",
    "plt.title('Confusion Matrix')\n",
    "plt.xlabel('Predicted label')\n",
    "plt.ylabel('True label')\n",
    "tick_marks = np.arange(len(label_names))\n",
    "plt.xticks(tick_marks, label_names)\n",
    "plt.yticks(tick_marks, label_names)\n",
    "plt.show()"
   ]
  },
  {
   "cell_type": "markdown",
   "metadata": {},
   "source": [
    "### 5.2.3 Fit Model with 23 Epochs"
   ]
  },
  {
   "cell_type": "code",
   "execution_count": 117,
   "metadata": {},
   "outputs": [
    {
     "name": "stdout",
     "output_type": "stream",
     "text": [
      "Epoch 1/23\n",
      "2/2 [==============================] - 1s 275ms/step - loss: 0.7804 - accuracy: 0.3711 - val_loss: 0.6558 - val_accuracy: 0.6518\n",
      "Epoch 2/23\n",
      "2/2 [==============================] - 0s 63ms/step - loss: 0.6036 - accuracy: 0.7317 - val_loss: 0.5538 - val_accuracy: 0.7451\n",
      "Epoch 3/23\n",
      "2/2 [==============================] - 0s 63ms/step - loss: 0.5104 - accuracy: 0.8352 - val_loss: 0.4970 - val_accuracy: 0.8041\n",
      "Epoch 4/23\n",
      "2/2 [==============================] - 0s 63ms/step - loss: 0.4522 - accuracy: 0.8363 - val_loss: 0.4821 - val_accuracy: 0.8166\n",
      "Epoch 5/23\n",
      "2/2 [==============================] - 0s 63ms/step - loss: 0.4148 - accuracy: 0.8328 - val_loss: 0.5051 - val_accuracy: 0.8032\n",
      "Epoch 6/23\n",
      "2/2 [==============================] - 0s 64ms/step - loss: 0.3812 - accuracy: 0.8387 - val_loss: 0.5669 - val_accuracy: 0.7806\n",
      "Epoch 7/23\n",
      "2/2 [==============================] - 0s 63ms/step - loss: 0.3527 - accuracy: 0.8538 - val_loss: 0.6403 - val_accuracy: 0.7537\n",
      "Epoch 8/23\n",
      "2/2 [==============================] - 0s 64ms/step - loss: 0.3321 - accuracy: 0.8621 - val_loss: 0.6705 - val_accuracy: 0.7501\n",
      "Epoch 9/23\n",
      "2/2 [==============================] - 0s 64ms/step - loss: 0.3214 - accuracy: 0.8646 - val_loss: 0.6012 - val_accuracy: 0.7821\n",
      "Epoch 10/23\n",
      "2/2 [==============================] - 0s 63ms/step - loss: 0.2913 - accuracy: 0.8894 - val_loss: 0.5160 - val_accuracy: 0.8244\n",
      "Epoch 11/23\n",
      "2/2 [==============================] - 0s 64ms/step - loss: 0.3066 - accuracy: 0.8641 - val_loss: 0.5127 - val_accuracy: 0.7841\n",
      "Epoch 12/23\n",
      "2/2 [==============================] - 0s 64ms/step - loss: 0.3120 - accuracy: 0.8658 - val_loss: 0.5475 - val_accuracy: 0.7689\n",
      "Epoch 13/23\n",
      "2/2 [==============================] - 0s 63ms/step - loss: 0.2817 - accuracy: 0.8904 - val_loss: 0.6001 - val_accuracy: 0.7689\n",
      "Epoch 14/23\n",
      "2/2 [==============================] - 0s 64ms/step - loss: 0.2637 - accuracy: 0.9001 - val_loss: 0.6391 - val_accuracy: 0.7692\n",
      "Epoch 15/23\n",
      "2/2 [==============================] - 0s 63ms/step - loss: 0.2358 - accuracy: 0.8908 - val_loss: 0.6557 - val_accuracy: 0.7737\n",
      "Epoch 16/23\n",
      "2/2 [==============================] - 0s 64ms/step - loss: 0.2090 - accuracy: 0.8969 - val_loss: 0.6716 - val_accuracy: 0.8199\n",
      "Epoch 17/23\n",
      "2/2 [==============================] - 0s 64ms/step - loss: 0.2052 - accuracy: 0.9155 - val_loss: 0.7537 - val_accuracy: 0.7412\n",
      "Epoch 18/23\n",
      "2/2 [==============================] - 0s 64ms/step - loss: 0.2141 - accuracy: 0.9117 - val_loss: 0.7897 - val_accuracy: 0.6837\n",
      "Epoch 19/23\n",
      "2/2 [==============================] - 0s 66ms/step - loss: 0.2201 - accuracy: 0.8909 - val_loss: 0.7954 - val_accuracy: 0.6738\n",
      "Epoch 20/23\n",
      "2/2 [==============================] - 0s 64ms/step - loss: 0.2140 - accuracy: 0.8960 - val_loss: 0.7648 - val_accuracy: 0.7045\n",
      "Epoch 21/23\n",
      "2/2 [==============================] - 0s 66ms/step - loss: 0.1820 - accuracy: 0.9210 - val_loss: 0.7300 - val_accuracy: 0.7469\n",
      "Epoch 22/23\n",
      "2/2 [==============================] - 0s 66ms/step - loss: 0.1397 - accuracy: 0.9555 - val_loss: 0.6695 - val_accuracy: 0.8145\n",
      "Epoch 23/23\n",
      "2/2 [==============================] - 0s 66ms/step - loss: 0.1240 - accuracy: 0.9676 - val_loss: 0.6592 - val_accuracy: 0.8426\n"
     ]
    },
    {
     "data": {
      "text/plain": [
       "<keras.src.callbacks.History at 0x2e536d340>"
      ]
     },
     "execution_count": 117,
     "metadata": {},
     "output_type": "execute_result"
    }
   ],
   "source": [
    "# Before running this, rerun the model architecture to reset the number of epochs trained on this model\n",
    "\n",
    "# Fit the model with 37 epochs\n",
    "cnn_lstm.fit(X_train_scaled, y_train,\n",
    "             validation_data=(X_val_scaled, y_val),\n",
    "             batch_size=32,\n",
    "             epochs=23)  # Set epochs to 23 directly"
   ]
  },
  {
   "cell_type": "code",
   "execution_count": 118,
   "metadata": {},
   "outputs": [
    {
     "name": "stdout",
     "output_type": "stream",
     "text": [
      "1/1 [==============================] - 0s 30ms/step - loss: 1.1824 - accuracy: 0.7203\n"
     ]
    }
   ],
   "source": [
    "loss, accuracy = cnn_lstm.evaluate(X_test_scaled, y_test)"
   ]
  },
  {
   "cell_type": "code",
   "execution_count": 119,
   "metadata": {},
   "outputs": [
    {
     "name": "stdout",
     "output_type": "stream",
     "text": [
      "WARNING:tensorflow:6 out of the last 6 calls to <function Model.make_predict_function.<locals>.predict_function at 0x2e9a3bca0> triggered tf.function retracing. Tracing is expensive and the excessive number of tracings could be due to (1) creating @tf.function repeatedly in a loop, (2) passing tensors with different shapes, (3) passing Python objects instead of tensors. For (1), please define your @tf.function outside of the loop. For (2), @tf.function has reduce_retracing=True option that can avoid unnecessary retracing. For (3), please refer to https://www.tensorflow.org/guide/function#controlling_retracing and https://www.tensorflow.org/api_docs/python/tf/function for  more details.\n"
     ]
    },
    {
     "name": "stderr",
     "output_type": "stream",
     "text": [
      "WARNING:tensorflow:6 out of the last 6 calls to <function Model.make_predict_function.<locals>.predict_function at 0x2e9a3bca0> triggered tf.function retracing. Tracing is expensive and the excessive number of tracings could be due to (1) creating @tf.function repeatedly in a loop, (2) passing tensors with different shapes, (3) passing Python objects instead of tensors. For (1), please define your @tf.function outside of the loop. For (2), @tf.function has reduce_retracing=True option that can avoid unnecessary retracing. For (3), please refer to https://www.tensorflow.org/guide/function#controlling_retracing and https://www.tensorflow.org/api_docs/python/tf/function for  more details.\n"
     ]
    },
    {
     "name": "stdout",
     "output_type": "stream",
     "text": [
      "1/1 [==============================] - 1s 583ms/step\n"
     ]
    }
   ],
   "source": [
    "# Get the prediction probability of overstride within each frame\n",
    "cnn_lstm_pred = cnn_lstm.predict(X_test_scaled)\n",
    "\n",
    "# Get the max probability across all 258 frames within each video\n",
    "video_max_probabilities = np.max(cnn_lstm_pred, axis = 1)\n",
    "\n",
    "threshold = 0.7 # If probability of frame most predicted to have an overstride is above 0.7 (threshold as observed from below), classify as overstride\n",
    "\n",
    "y_pred = (video_max_probabilities > threshold).astype(int) # Convert all labels to binary\n",
    "\n",
    "# Flatten y_pred into a 1D array\n",
    "y_pred_flat = np.array(y_pred).flatten()\n",
    "\n",
    "# Flatten y_test into a 1D array\n",
    "y_test_flat = np.max(y_test, axis=1)"
   ]
  },
  {
   "cell_type": "code",
   "execution_count": 120,
   "metadata": {},
   "outputs": [
    {
     "data": {
      "text/plain": [
       "array([[0.5789599 ],\n",
       "       [0.9979758 ],\n",
       "       [0.9979842 ],\n",
       "       [0.50657314],\n",
       "       [0.9936538 ],\n",
       "       [0.9980077 ],\n",
       "       [0.9972322 ],\n",
       "       [0.9982651 ],\n",
       "       [0.99812096],\n",
       "       [0.62183183],\n",
       "       [0.44915816],\n",
       "       [0.9977459 ],\n",
       "       [0.9352416 ]], dtype=float32)"
      ]
     },
     "execution_count": 120,
     "metadata": {},
     "output_type": "execute_result"
    }
   ],
   "source": [
    "video_max_probabilities"
   ]
  },
  {
   "cell_type": "code",
   "execution_count": 121,
   "metadata": {},
   "outputs": [
    {
     "data": {
      "text/plain": [
       "array([0, 1, 1, 0, 1, 1, 1, 1, 1, 0, 0, 1, 1])"
      ]
     },
     "execution_count": 121,
     "metadata": {},
     "output_type": "execute_result"
    }
   ],
   "source": [
    "y_pred_flat"
   ]
  },
  {
   "cell_type": "code",
   "execution_count": 122,
   "metadata": {},
   "outputs": [
    {
     "name": "stdout",
     "output_type": "stream",
     "text": [
      "              precision    recall  f1-score   support\n",
      "\n",
      "           0       0.50      0.75      0.60         4\n",
      "           1       0.86      0.67      0.75         9\n",
      "\n",
      "    accuracy                           0.69        13\n",
      "   macro avg       0.68      0.71      0.68        13\n",
      "weighted avg       0.75      0.69      0.70        13\n",
      "\n"
     ]
    },
    {
     "data": {
      "image/png": "[encoded data removed]",
      "text/plain": [
       "<Figure size 800x600 with 2 Axes>"
      ]
     },
     "metadata": {},
     "output_type": "display_data"
    }
   ],
   "source": [
    "# Generate classification report\n",
    "report = classification_report(y_pred_flat, y_test_flat)\n",
    "print(report)\n",
    "\n",
    "# Compute confusion matrix\n",
    "conf_matrix = confusion_matrix(y_pred_flat, y_test_flat)\n",
    "\n",
    "# Plot confusion matrix with annotations\n",
    "plt.figure(figsize=(8, 6))\n",
    "plt.imshow(conf_matrix, cmap=plt.cm.Blues, interpolation='nearest')\n",
    "\n",
    "# Add annotations to the plot\n",
    "thresh = conf_matrix.max() / 2.\n",
    "for i in range(conf_matrix.shape[0]):\n",
    "    for j in range(conf_matrix.shape[1]):\n",
    "        plt.text(j, i, format(conf_matrix[i, j], 'd'),\n",
    "                 ha=\"center\", va=\"center\",\n",
    "                 color=\"white\" if conf_matrix[i, j] > thresh else \"black\")\n",
    "\n",
    "plt.colorbar()\n",
    "plt.title('Confusion Matrix')\n",
    "plt.xlabel('Predicted label')\n",
    "plt.ylabel('True label')\n",
    "tick_marks = np.arange(len(label_names))\n",
    "plt.xticks(tick_marks, label_names)\n",
    "plt.yticks(tick_marks, label_names)\n",
    "plt.show()"
   ]
  },
  {
   "cell_type": "markdown",
   "metadata": {},
   "source": [
    "### 5.2.4 Fit Model with 36 Epochs"
   ]
  },
  {
   "cell_type": "code",
   "execution_count": 124,
   "metadata": {},
   "outputs": [
    {
     "name": "stdout",
     "output_type": "stream",
     "text": [
      "Epoch 1/36\n",
      "2/2 [==============================] - 1s 274ms/step - loss: 0.7804 - accuracy: 0.3711 - val_loss: 0.6558 - val_accuracy: 0.6518\n",
      "Epoch 2/36\n",
      "2/2 [==============================] - 0s 64ms/step - loss: 0.6036 - accuracy: 0.7317 - val_loss: 0.5538 - val_accuracy: 0.7451\n",
      "Epoch 3/36\n",
      "2/2 [==============================] - 0s 66ms/step - loss: 0.5104 - accuracy: 0.8352 - val_loss: 0.4970 - val_accuracy: 0.8041\n",
      "Epoch 4/36\n",
      "2/2 [==============================] - 0s 63ms/step - loss: 0.4522 - accuracy: 0.8363 - val_loss: 0.4821 - val_accuracy: 0.8166\n",
      "Epoch 5/36\n",
      "2/2 [==============================] - 0s 63ms/step - loss: 0.4148 - accuracy: 0.8328 - val_loss: 0.5051 - val_accuracy: 0.8032\n",
      "Epoch 6/36\n",
      "2/2 [==============================] - 0s 64ms/step - loss: 0.3812 - accuracy: 0.8387 - val_loss: 0.5669 - val_accuracy: 0.7806\n",
      "Epoch 7/36\n",
      "2/2 [==============================] - 0s 63ms/step - loss: 0.3527 - accuracy: 0.8538 - val_loss: 0.6403 - val_accuracy: 0.7537\n",
      "Epoch 8/36\n",
      "2/2 [==============================] - 0s 63ms/step - loss: 0.3321 - accuracy: 0.8621 - val_loss: 0.6705 - val_accuracy: 0.7501\n",
      "Epoch 9/36\n",
      "2/2 [==============================] - 0s 67ms/step - loss: 0.3214 - accuracy: 0.8646 - val_loss: 0.6012 - val_accuracy: 0.7821\n",
      "Epoch 10/36\n",
      "2/2 [==============================] - 0s 63ms/step - loss: 0.2913 - accuracy: 0.8894 - val_loss: 0.5160 - val_accuracy: 0.8244\n",
      "Epoch 11/36\n",
      "2/2 [==============================] - 0s 64ms/step - loss: 0.3066 - accuracy: 0.8641 - val_loss: 0.5127 - val_accuracy: 0.7841\n",
      "Epoch 12/36\n",
      "2/2 [==============================] - 0s 64ms/step - loss: 0.3120 - accuracy: 0.8658 - val_loss: 0.5475 - val_accuracy: 0.7689\n",
      "Epoch 13/36\n",
      "2/2 [==============================] - 0s 63ms/step - loss: 0.2817 - accuracy: 0.8904 - val_loss: 0.6001 - val_accuracy: 0.7689\n",
      "Epoch 14/36\n",
      "2/2 [==============================] - 0s 65ms/step - loss: 0.2637 - accuracy: 0.9001 - val_loss: 0.6391 - val_accuracy: 0.7692\n",
      "Epoch 15/36\n",
      "2/2 [==============================] - 0s 65ms/step - loss: 0.2358 - accuracy: 0.8908 - val_loss: 0.6557 - val_accuracy: 0.7737\n",
      "Epoch 16/36\n",
      "2/2 [==============================] - 0s 64ms/step - loss: 0.2090 - accuracy: 0.8969 - val_loss: 0.6716 - val_accuracy: 0.8199\n",
      "Epoch 17/36\n",
      "2/2 [==============================] - 0s 63ms/step - loss: 0.2052 - accuracy: 0.9155 - val_loss: 0.7537 - val_accuracy: 0.7412\n",
      "Epoch 18/36\n",
      "2/2 [==============================] - 0s 64ms/step - loss: 0.2141 - accuracy: 0.9117 - val_loss: 0.7897 - val_accuracy: 0.6837\n",
      "Epoch 19/36\n",
      "2/2 [==============================] - 0s 63ms/step - loss: 0.2201 - accuracy: 0.8909 - val_loss: 0.7954 - val_accuracy: 0.6738\n",
      "Epoch 20/36\n",
      "2/2 [==============================] - 0s 63ms/step - loss: 0.2140 - accuracy: 0.8960 - val_loss: 0.7648 - val_accuracy: 0.7045\n",
      "Epoch 21/36\n",
      "2/2 [==============================] - 0s 62ms/step - loss: 0.1820 - accuracy: 0.9210 - val_loss: 0.7300 - val_accuracy: 0.7469\n",
      "Epoch 22/36\n",
      "2/2 [==============================] - 0s 62ms/step - loss: 0.1397 - accuracy: 0.9555 - val_loss: 0.6695 - val_accuracy: 0.8145\n",
      "Epoch 23/36\n",
      "2/2 [==============================] - 0s 63ms/step - loss: 0.1240 - accuracy: 0.9676 - val_loss: 0.6592 - val_accuracy: 0.8426\n",
      "Epoch 24/36\n",
      "2/2 [==============================] - 0s 63ms/step - loss: 0.1006 - accuracy: 0.9719 - val_loss: 0.7291 - val_accuracy: 0.8432\n",
      "Epoch 25/36\n",
      "2/2 [==============================] - 0s 64ms/step - loss: 0.0753 - accuracy: 0.9808 - val_loss: 0.7991 - val_accuracy: 0.8301\n",
      "Epoch 26/36\n",
      "2/2 [==============================] - 0s 63ms/step - loss: 0.1230 - accuracy: 0.9554 - val_loss: 0.8749 - val_accuracy: 0.8193\n",
      "Epoch 27/36\n",
      "2/2 [==============================] - 0s 64ms/step - loss: 0.1412 - accuracy: 0.9439 - val_loss: 0.8810 - val_accuracy: 0.8268\n",
      "Epoch 28/36\n",
      "2/2 [==============================] - 0s 62ms/step - loss: 0.0507 - accuracy: 0.9850 - val_loss: 0.9474 - val_accuracy: 0.7982\n",
      "Epoch 29/36\n",
      "2/2 [==============================] - 0s 63ms/step - loss: 0.0483 - accuracy: 0.9849 - val_loss: 0.9705 - val_accuracy: 0.7982\n",
      "Epoch 30/36\n",
      "2/2 [==============================] - 0s 63ms/step - loss: 0.0471 - accuracy: 0.9837 - val_loss: 0.9945 - val_accuracy: 0.7982\n",
      "Epoch 31/36\n",
      "2/2 [==============================] - 0s 63ms/step - loss: 0.0500 - accuracy: 0.9825 - val_loss: 1.0173 - val_accuracy: 0.7970\n",
      "Epoch 32/36\n",
      "2/2 [==============================] - 0s 65ms/step - loss: 0.0511 - accuracy: 0.9795 - val_loss: 1.0425 - val_accuracy: 0.7958\n",
      "Epoch 33/36\n",
      "2/2 [==============================] - 0s 64ms/step - loss: 0.0476 - accuracy: 0.9799 - val_loss: 1.0863 - val_accuracy: 0.7928\n",
      "Epoch 34/36\n",
      "2/2 [==============================] - 0s 65ms/step - loss: 0.1583 - accuracy: 0.9639 - val_loss: 1.2816 - val_accuracy: 0.7361\n",
      "Epoch 35/36\n",
      "2/2 [==============================] - 0s 64ms/step - loss: 0.1517 - accuracy: 0.9640 - val_loss: 1.6227 - val_accuracy: 0.6527\n",
      "Epoch 36/36\n",
      "2/2 [==============================] - 0s 65ms/step - loss: 0.1489 - accuracy: 0.9604 - val_loss: 1.5399 - val_accuracy: 0.6541\n"
     ]
    },
    {
     "data": {
      "text/plain": [
       "<keras.src.callbacks.History at 0x2e8a84fa0>"
      ]
     },
     "execution_count": 124,
     "metadata": {},
     "output_type": "execute_result"
    }
   ],
   "source": [
    "# Before running this, rerun the model architecture to reset the number of epochs trained on this model\n",
    "\n",
    "# Fit the model with 36 epochs\n",
    "cnn_lstm.fit(X_train_scaled, y_train,\n",
    "             validation_data=(X_val_scaled, y_val),\n",
    "             batch_size=32,\n",
    "             epochs=36)  # Set epochs to 37 directly"
   ]
  },
  {
   "cell_type": "code",
   "execution_count": 126,
   "metadata": {},
   "outputs": [
    {
     "name": "stdout",
     "output_type": "stream",
     "text": [
      "1/1 [==============================] - 0s 31ms/step - loss: 1.6594 - accuracy: 0.6890\n"
     ]
    }
   ],
   "source": [
    "loss, accuracy = cnn_lstm.evaluate(X_test_scaled, y_test)"
   ]
  },
  {
   "cell_type": "code",
   "execution_count": 127,
   "metadata": {},
   "outputs": [
    {
     "name": "stdout",
     "output_type": "stream",
     "text": [
      "1/1 [==============================] - 0s 200ms/step\n"
     ]
    }
   ],
   "source": [
    "# Get the prediction probability of overstride within each frame\n",
    "cnn_lstm_pred = cnn_lstm.predict(X_test_scaled)\n",
    "\n",
    "# Get the max probability across all 258 frames within each video\n",
    "video_max_probabilities = np.max(cnn_lstm_pred, axis = 1)\n",
    "\n",
    "threshold = 0.7 # If probability of frame most predicted to have an overstride is above 0.7 (threshold as observed from below), classify as overstride\n",
    "\n",
    "y_pred = (video_max_probabilities > threshold).astype(int) # Convert all labels to binary\n",
    "\n",
    "# Flatten y_pred into a 1D array\n",
    "y_pred_flat = np.array(y_pred).flatten()\n",
    "\n",
    "# Flatten y_test into a 1D array\n",
    "y_test_flat = np.max(y_test, axis=1)"
   ]
  },
  {
   "cell_type": "code",
   "execution_count": 128,
   "metadata": {},
   "outputs": [
    {
     "name": "stdout",
     "output_type": "stream",
     "text": [
      "              precision    recall  f1-score   support\n",
      "\n",
      "           0       0.33      1.00      0.50         2\n",
      "           1       1.00      0.64      0.78        11\n",
      "\n",
      "    accuracy                           0.69        13\n",
      "   macro avg       0.67      0.82      0.64        13\n",
      "weighted avg       0.90      0.69      0.74        13\n",
      "\n"
     ]
    },
    {
     "data": {
      "image/png": "[encoded data removed]",
      "text/plain": [
       "<Figure size 800x600 with 2 Axes>"
      ]
     },
     "metadata": {},
     "output_type": "display_data"
    }
   ],
   "source": [
    "# Generate classification report\n",
    "report = classification_report(y_pred_flat, y_test_flat)\n",
    "print(report)\n",
    "\n",
    "# Compute confusion matrix\n",
    "conf_matrix = confusion_matrix(y_pred_flat, y_test_flat)\n",
    "\n",
    "# Plot confusion matrix with annotations\n",
    "plt.figure(figsize=(8, 6))\n",
    "plt.imshow(conf_matrix, cmap=plt.cm.Blues, interpolation='nearest')\n",
    "\n",
    "# Add annotations to the plot\n",
    "thresh = conf_matrix.max() / 2.\n",
    "for i in range(conf_matrix.shape[0]):\n",
    "    for j in range(conf_matrix.shape[1]):\n",
    "        plt.text(j, i, format(conf_matrix[i, j], 'd'),\n",
    "                 ha=\"center\", va=\"center\",\n",
    "                 color=\"white\" if conf_matrix[i, j] > thresh else \"black\")\n",
    "\n",
    "plt.colorbar()\n",
    "plt.title('Confusion Matrix')\n",
    "plt.xlabel('Predicted label')\n",
    "plt.ylabel('True label')\n",
    "tick_marks = np.arange(len(label_names))\n",
    "plt.xticks(tick_marks, label_names)\n",
    "plt.yticks(tick_marks, label_names)\n",
    "plt.show()"
   ]
  },
  {
   "cell_type": "code",
   "execution_count": null,
   "metadata": {},
   "outputs": [],
   "source": [
    "# Save model as h5 file\n",
    "cnn_lstm.save('../models/cnn_lstm_model.h5')\n",
    "\n",
    "# Save model as keras file\n",
    "cnn_lstm.save('../models/cnn_lstm_model.keras')"
   ]
  },
  {
   "cell_type": "markdown",
   "metadata": {},
   "source": [
    "## 5.3 Layered LSTMs and FNN"
   ]
  },
  {
   "cell_type": "code",
   "execution_count": 137,
   "metadata": {},
   "outputs": [
    {
     "name": "stderr",
     "output_type": "stream",
     "text": [
      "WARNING:absl:At this time, the v2.11+ optimizer `tf.keras.optimizers.Adam` runs slowly on M1/M2 Macs, please use the legacy Keras optimizer instead, located at `tf.keras.optimizers.legacy.Adam`.\n",
      "WARNING:absl:There is a known slowdown when using v2.11+ Keras optimizers on M1/M2 Macs. Falling back to the legacy Keras optimizer, i.e., `tf.keras.optimizers.legacy.Adam`.\n"
     ]
    },
    {
     "name": "stdout",
     "output_type": "stream",
     "text": [
      "Model: \"sequential_13\"\n",
      "_________________________________________________________________\n",
      " Layer (type)                Output Shape              Param #   \n",
      "=================================================================\n",
      " lstm_25 (LSTM)              (None, 258, 32)           16768     \n",
      "                                                                 \n",
      " lstm_26 (LSTM)              (None, 258, 64)           24832     \n",
      "                                                                 \n",
      " lstm_27 (LSTM)              (None, 258, 128)          98816     \n",
      "                                                                 \n",
      " dense_17 (Dense)            (None, 258, 64)           8256      \n",
      "                                                                 \n",
      " dense_18 (Dense)            (None, 258, 32)           2080      \n",
      "                                                                 \n",
      " dense_19 (Dense)            (None, 258, 1)            33        \n",
      "                                                                 \n",
      "=================================================================\n",
      "Total params: 150785 (589.00 KB)\n",
      "Trainable params: 150785 (589.00 KB)\n",
      "Non-trainable params: 0 (0.00 Byte)\n",
      "_________________________________________________________________\n"
     ]
    }
   ],
   "source": [
    "# Set random seeds for reproducibility\n",
    "set_seed()\n",
    "\n",
    "# Define the learning rate\n",
    "learning_rate = 0.001  # You can adjust this value as needed\n",
    "\n",
    "# Define the optimizer with the specified learning rate\n",
    "optimizer = Adam(learning_rate=learning_rate)\n",
    "\n",
    "# Initialize the model\n",
    "lstm_nn = Sequential()\n",
    "\n",
    "# First LSTM layer\n",
    "lstm_nn.add(LSTM(32,\n",
    "               return_sequences=True, \n",
    "               activation='tanh',  # Using hyperbolic tangent activation function\n",
    "               input_shape=(X_train.shape[1], X_train.shape[2])))\n",
    "\n",
    "# Second LSTM layer\n",
    "lstm_nn.add(LSTM(64,\n",
    "               return_sequences=True, \n",
    "               activation='tanh'))  # Using hyperbolic tangent activation function\n",
    "\n",
    "# Third LSTM layer\n",
    "lstm_nn.add(LSTM(128,\n",
    "               return_sequences=True, \n",
    "               activation='tanh'))  # Using hyperbolic tangent activation function\n",
    "\n",
    "# Feed Forward Neural Network\n",
    "lstm_nn.add(Dense(64, activation='relu'))  # Using Rectified Linear Unit (ReLU) activation function\n",
    "\n",
    "# Feed Forward Neural Network\n",
    "lstm_nn.add(Dense(32, activation='relu'))  # Using Rectified Linear Unit (ReLU) activation function\n",
    "\n",
    "# Output layer for classification\n",
    "lstm_nn.add(Dense(units=1, activation='sigmoid'))  # Using Sigmoid activation function for binary classification\n",
    "\n",
    "# Compile the model\n",
    "lstm_nn.compile(optimizer=optimizer, loss='binary_crossentropy', metrics=['accuracy'])\n",
    "\n",
    "# Print model summary\n",
    "lstm_nn.summary()\n"
   ]
  },
  {
   "cell_type": "code",
   "execution_count": 138,
   "metadata": {},
   "outputs": [
    {
     "name": "stdout",
     "output_type": "stream",
     "text": [
      "Epoch 1/40\n"
     ]
    },
    {
     "name": "stdout",
     "output_type": "stream",
     "text": [
      "2/2 [==============================] - 3s 1s/step - loss: 0.6902 - accuracy: 0.5261 - val_loss: 0.6718 - val_accuracy: 0.6541\n",
      "Epoch 2/40\n",
      "2/2 [==============================] - 0s 137ms/step - loss: 0.6492 - accuracy: 0.8159 - val_loss: 0.6447 - val_accuracy: 0.6300\n",
      "Epoch 3/40\n",
      "2/2 [==============================] - 0s 140ms/step - loss: 0.6120 - accuracy: 0.8188 - val_loss: 0.6146 - val_accuracy: 0.6989\n",
      "Epoch 4/40\n",
      "2/2 [==============================] - 0s 141ms/step - loss: 0.5618 - accuracy: 0.8553 - val_loss: 0.5890 - val_accuracy: 0.6852\n",
      "Epoch 5/40\n",
      "2/2 [==============================] - 0s 145ms/step - loss: 0.5050 - accuracy: 0.8415 - val_loss: 0.5852 - val_accuracy: 0.6535\n",
      "Epoch 6/40\n",
      "2/2 [==============================] - 0s 139ms/step - loss: 0.4443 - accuracy: 0.8477 - val_loss: 0.6445 - val_accuracy: 0.6482\n",
      "Epoch 7/40\n",
      "2/2 [==============================] - 0s 136ms/step - loss: 0.4073 - accuracy: 0.8520 - val_loss: 0.6496 - val_accuracy: 0.6655\n",
      "Epoch 8/40\n",
      "2/2 [==============================] - 0s 137ms/step - loss: 0.3604 - accuracy: 0.8558 - val_loss: 0.6046 - val_accuracy: 0.7367\n",
      "Epoch 9/40\n",
      "2/2 [==============================] - 0s 139ms/step - loss: 0.3325 - accuracy: 0.8788 - val_loss: 0.6003 - val_accuracy: 0.7343\n",
      "Epoch 10/40\n",
      "2/2 [==============================] - 0s 139ms/step - loss: 0.3280 - accuracy: 0.8694 - val_loss: 0.5952 - val_accuracy: 0.7251\n",
      "Epoch 11/40\n",
      "2/2 [==============================] - 0s 142ms/step - loss: 0.3320 - accuracy: 0.8577 - val_loss: 0.5980 - val_accuracy: 0.6950\n",
      "Epoch 12/40\n",
      "2/2 [==============================] - 0s 142ms/step - loss: 0.3307 - accuracy: 0.8557 - val_loss: 0.6082 - val_accuracy: 0.6911\n",
      "Epoch 13/40\n",
      "2/2 [==============================] - 0s 137ms/step - loss: 0.3191 - accuracy: 0.8654 - val_loss: 0.6293 - val_accuracy: 0.7033\n",
      "Epoch 14/40\n",
      "2/2 [==============================] - 0s 145ms/step - loss: 0.3017 - accuracy: 0.8760 - val_loss: 0.6771 - val_accuracy: 0.7448\n",
      "Epoch 15/40\n",
      "2/2 [==============================] - 0s 139ms/step - loss: 0.2652 - accuracy: 0.8837 - val_loss: 0.7446 - val_accuracy: 0.7373\n",
      "Epoch 16/40\n",
      "2/2 [==============================] - 0s 141ms/step - loss: 0.2536 - accuracy: 0.8908 - val_loss: 0.8227 - val_accuracy: 0.7275\n",
      "Epoch 17/40\n",
      "2/2 [==============================] - 0s 143ms/step - loss: 0.2554 - accuracy: 0.8859 - val_loss: 0.9230 - val_accuracy: 0.7129\n",
      "Epoch 18/40\n",
      "2/2 [==============================] - 0s 157ms/step - loss: 0.2574 - accuracy: 0.8817 - val_loss: 1.0117 - val_accuracy: 0.7266\n",
      "Epoch 19/40\n",
      "2/2 [==============================] - 0s 139ms/step - loss: 0.2677 - accuracy: 0.8890 - val_loss: 1.0047 - val_accuracy: 0.7570\n",
      "Epoch 20/40\n",
      "2/2 [==============================] - 0s 141ms/step - loss: 0.2506 - accuracy: 0.9109 - val_loss: 1.0091 - val_accuracy: 0.7215\n",
      "Epoch 21/40\n",
      "2/2 [==============================] - 0s 143ms/step - loss: 0.2471 - accuracy: 0.9170 - val_loss: 1.0027 - val_accuracy: 0.7329\n",
      "Epoch 22/40\n",
      "2/2 [==============================] - 0s 141ms/step - loss: 0.2172 - accuracy: 0.9227 - val_loss: 0.9822 - val_accuracy: 0.7352\n",
      "Epoch 23/40\n",
      "2/2 [==============================] - 0s 142ms/step - loss: 0.2050 - accuracy: 0.9210 - val_loss: 0.9700 - val_accuracy: 0.7340\n",
      "Epoch 24/40\n",
      "2/2 [==============================] - 0s 140ms/step - loss: 0.1976 - accuracy: 0.9374 - val_loss: 0.9545 - val_accuracy: 0.7400\n",
      "Epoch 25/40\n",
      "2/2 [==============================] - 0s 136ms/step - loss: 0.1855 - accuracy: 0.9454 - val_loss: 1.0679 - val_accuracy: 0.6992\n",
      "Epoch 26/40\n",
      "2/2 [==============================] - 0s 137ms/step - loss: 0.1641 - accuracy: 0.9518 - val_loss: 1.1562 - val_accuracy: 0.6869\n",
      "Epoch 27/40\n",
      "2/2 [==============================] - 0s 142ms/step - loss: 0.1495 - accuracy: 0.9539 - val_loss: 1.0032 - val_accuracy: 0.7024\n",
      "Epoch 28/40\n",
      "2/2 [==============================] - 0s 137ms/step - loss: 0.1460 - accuracy: 0.9482 - val_loss: 1.0505 - val_accuracy: 0.6804\n",
      "Epoch 29/40\n",
      "2/2 [==============================] - 0s 140ms/step - loss: 0.1383 - accuracy: 0.9344 - val_loss: 1.0739 - val_accuracy: 0.6938\n",
      "Epoch 30/40\n",
      "2/2 [==============================] - 0s 141ms/step - loss: 0.0885 - accuracy: 0.9660 - val_loss: 1.0987 - val_accuracy: 0.7305\n",
      "Epoch 31/40\n",
      "2/2 [==============================] - 0s 136ms/step - loss: 0.0729 - accuracy: 0.9816 - val_loss: 1.1300 - val_accuracy: 0.7472\n",
      "Epoch 32/40\n",
      "2/2 [==============================] - 0s 143ms/step - loss: 0.0687 - accuracy: 0.9814 - val_loss: 1.1653 - val_accuracy: 0.7475\n",
      "Epoch 33/40\n",
      "2/2 [==============================] - 0s 141ms/step - loss: 0.0474 - accuracy: 0.9844 - val_loss: 1.2174 - val_accuracy: 0.7493\n",
      "Epoch 34/40\n",
      "2/2 [==============================] - 0s 143ms/step - loss: 0.0443 - accuracy: 0.9849 - val_loss: 1.2427 - val_accuracy: 0.7451\n",
      "Epoch 35/40\n",
      "2/2 [==============================] - 0s 143ms/step - loss: 0.0404 - accuracy: 0.9866 - val_loss: 1.2894 - val_accuracy: 0.7427\n",
      "Epoch 36/40\n",
      "2/2 [==============================] - 0s 141ms/step - loss: 0.0366 - accuracy: 0.9878 - val_loss: 1.3316 - val_accuracy: 0.7397\n",
      "Epoch 37/40\n",
      "2/2 [==============================] - 0s 143ms/step - loss: 0.0327 - accuracy: 0.9890 - val_loss: 1.3754 - val_accuracy: 0.7361\n",
      "Epoch 38/40\n",
      "2/2 [==============================] - 0s 140ms/step - loss: 0.0291 - accuracy: 0.9903 - val_loss: 1.4294 - val_accuracy: 0.7311\n",
      "Epoch 39/40\n",
      "2/2 [==============================] - 0s 145ms/step - loss: 0.0265 - accuracy: 0.9906 - val_loss: 1.5234 - val_accuracy: 0.7194\n",
      "Epoch 40/40\n",
      "2/2 [==============================] - 0s 145ms/step - loss: 0.0247 - accuracy: 0.9922 - val_loss: 1.8803 - val_accuracy: 0.6857\n"
     ]
    }
   ],
   "source": [
    "# Train the model\n",
    "history_lstm_nn = lstm_nn.fit(X_train_scaled, y_train,\n",
    "                    validation_data=(X_val_scaled, y_val),\n",
    "                    batch_size=32,\n",
    "                    epochs=40)"
   ]
  },
  {
   "cell_type": "code",
   "execution_count": 139,
   "metadata": {},
   "outputs": [
    {
     "name": "stdout",
     "output_type": "stream",
     "text": [
      "1/1 [==============================] - 0s 51ms/step - loss: 2.2272 - accuracy: 0.6750\n"
     ]
    }
   ],
   "source": [
    "loss, accuracy = lstm_nn.evaluate(X_test_scaled, y_test)"
   ]
  },
  {
   "cell_type": "code",
   "execution_count": 140,
   "metadata": {},
   "outputs": [
    {
     "name": "stdout",
     "output_type": "stream",
     "text": [
      "1/1 [==============================] - 1s 520ms/step\n"
     ]
    }
   ],
   "source": [
    "# Get the prediction probability of overstride within each frame\n",
    "lstm_nn_pred = lstm_nn.predict(X_test_scaled)\n",
    "\n",
    "# Get the max probability across all 258 frames within each video\n",
    "video_max_probabilities = np.max(lstm_nn_pred, axis = 1)\n",
    "\n",
    "threshold = 0.7 # If probability of frame most predicted to have an overstride is above 0.7 (threshold as observed from below), classify as overstride\n",
    "\n",
    "y_pred = (video_max_probabilities > threshold).astype(int) # Convert all labels to binary\n",
    "\n",
    "# Flatten y_pred into a 1D array\n",
    "y_pred_flat = np.array(y_pred).flatten()\n",
    "\n",
    "# Flatten y_test into a 1D array\n",
    "y_test_flat = np.max(y_test, axis=1)"
   ]
  },
  {
   "cell_type": "code",
   "execution_count": 141,
   "metadata": {},
   "outputs": [
    {
     "name": "stdout",
     "output_type": "stream",
     "text": [
      "              precision    recall  f1-score   support\n",
      "\n",
      "           0       0.50      0.75      0.60         4\n",
      "           1       0.86      0.67      0.75         9\n",
      "\n",
      "    accuracy                           0.69        13\n",
      "   macro avg       0.68      0.71      0.68        13\n",
      "weighted avg       0.75      0.69      0.70        13\n",
      "\n"
     ]
    },
    {
     "data": {
      "image/png": "[encoded data removed]",
      "text/plain": [
       "<Figure size 800x600 with 2 Axes>"
      ]
     },
     "metadata": {},
     "output_type": "display_data"
    }
   ],
   "source": [
    "# Generate classification report\n",
    "report = classification_report(y_pred_flat, y_test_flat)\n",
    "print(report)\n",
    "\n",
    "# Compute confusion matrix\n",
    "conf_matrix = confusion_matrix(y_pred_flat, y_test_flat)\n",
    "\n",
    "# Plot confusion matrix with annotations\n",
    "plt.figure(figsize=(8, 6))\n",
    "plt.imshow(conf_matrix, cmap=plt.cm.Blues, interpolation='nearest')\n",
    "\n",
    "# Add annotations to the plot\n",
    "thresh = conf_matrix.max() / 2.\n",
    "for i in range(conf_matrix.shape[0]):\n",
    "    for j in range(conf_matrix.shape[1]):\n",
    "        plt.text(j, i, format(conf_matrix[i, j], 'd'),\n",
    "                 ha=\"center\", va=\"center\",\n",
    "                 color=\"white\" if conf_matrix[i, j] > thresh else \"black\")\n",
    "\n",
    "plt.colorbar()\n",
    "plt.title('Confusion Matrix')\n",
    "plt.xlabel('Predicted label')\n",
    "plt.ylabel('True label')\n",
    "tick_marks = np.arange(len(label_names))\n",
    "plt.xticks(tick_marks, label_names)\n",
    "plt.yticks(tick_marks, label_names)\n",
    "plt.show()"
   ]
  },
  {
   "cell_type": "code",
   "execution_count": 145,
   "metadata": {},
   "outputs": [
    {
     "data": {
      "image/png": "[encoded data removed]",
      "text/plain": [
       "<Figure size 800x600 with 1 Axes>"
      ]
     },
     "metadata": {},
     "output_type": "display_data"
    }
   ],
   "source": [
    "# Set figure size.\n",
    "plt.figure(figsize=(8, 6))\n",
    "\n",
    "plt.plot(history_lstm_nn.history['accuracy'], label='Training accuracy')\n",
    "plt.plot(history_lstm_nn.history['val_accuracy'], label='Testing accuracy')\n",
    "\n",
    "# Set title\n",
    "plt.xlabel('Epoch')\n",
    "plt.ylabel('Accuracy')\n",
    "plt.legend();"
   ]
  },
  {
   "cell_type": "code",
   "execution_count": 144,
   "metadata": {},
   "outputs": [
    {
     "data": {
      "image/png": "[encoded data removed]",
      "text/plain": [
       "<Figure size 800x600 with 1 Axes>"
      ]
     },
     "metadata": {},
     "output_type": "display_data"
    }
   ],
   "source": [
    "# Set figure size.\n",
    "plt.figure(figsize=(8, 6))\n",
    "\n",
    "plt.plot(history_lstm_nn.history['loss'], label='Training loss')\n",
    "plt.plot(history_lstm_nn.history['val_loss'], label='Testing loss')\n",
    "\n",
    "# Set title\n",
    "plt.xlabel('Epoch')\n",
    "plt.ylabel('loss')\n",
    "plt.legend();"
   ]
  },
  {
   "cell_type": "markdown",
   "metadata": {},
   "source": [
    "# 6. Model Evaluation"
   ]
  },
  {
   "cell_type": "markdown",
   "metadata": {},
   "source": [
    "**Conclusion:**<br>\n",
    "\n",
    "Three models of varying compplexities and types of neural network layers were attempted. Below is a table summary of all the models ran and an evaluation of each:\n",
    "\n",
    "1. LSTM > LSTM > TimeDistributed(Dense)\n",
    "\n",
    "|No. of epochs|40|6|11|\n",
    "|---|---|---|---|\n",
    "|Accuracy|0.75|0.72|0.63|\n",
    "|Recall|0.80|0.75|1.0|\n",
    "\n",
    "2. Conv1D > LSTM > Dense\n",
    "\n",
    "|No. of epochs|40|23|37|\n",
    "|---|---|---|---|\n",
    "|Accuracy|0.77|0.71|0.75|\n",
    "|Recall|0.75|0.75|1.0|\n",
    "\n",
    "3. LSTM > LSTM > LSTM > Dense > Dense > Dense\n",
    "\n",
    "|No. of epochs|40|\n",
    "|---|---|\n",
    "|Accuracy|0.46|\n",
    "|Recall|0.46|"
   ]
  },
  {
   "cell_type": "markdown",
   "metadata": {},
   "source": [
    "<span style=\"color:red\">NOTE:</span>\n",
    "The results stated above are from the previous rounds of training, I am now updating the model parameters to get better results thus there will be a difference in the results stated in conclusion and the results from the models above.\n",
    "\n",
    "<br>\n",
    "Next steps for model accuracy improvement:\n",
    "- Use keras tuner for gridsearch\n",
    "- Look more in depth into pre-trained models for pose estimation data"
   ]
  },
  {
   "cell_type": "markdown",
   "metadata": {},
   "source": []
  }
 ],
 "metadata": {
  "kernelspec": {
   "display_name": ".venv",
   "language": "python",
   "name": "python3"
  },
  "language_info": {
   "codemirror_mode": {
    "name": "ipython",
    "version": 3
   },
   "file_extension": ".py",
   "mimetype": "text/x-python",
   "name": "python",
   "nbconvert_exporter": "python",
   "pygments_lexer": "ipython3",
   "version": "3.8.10"
  }
 },
 "nbformat": 4,
 "nbformat_minor": 2
}
